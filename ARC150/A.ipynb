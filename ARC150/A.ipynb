{
 "cells": [
  {
   "cell_type": "code",
   "execution_count": 1,
   "id": "82d0700d-d071-4b17-b0e1-1ceba0dc577c",
   "metadata": {},
   "outputs": [
    {
     "data": {
      "application/vnd.jupyter.widget-view+json": {
       "model_id": "dfbaa0a9db0b4b3bb67c4fcb2451d421",
       "version_major": 2,
       "version_minor": 0
      },
      "text/plain": [
       "Textarea(value='')"
      ]
     },
     "metadata": {},
     "output_type": "display_data"
    }
   ],
   "source": [
    "# Ref: https://qiita.com/noca/items/00646efd9d4a7302f522\n",
    "from ipywidgets import Textarea\n",
    "import io\n",
    "if 'open' in globals():\n",
    "    del open\n",
    "if 'input' in globals():\n",
    "    del input\n",
    "original_open = open\n",
    "class custom_open():\n",
    "    def __init__(self):\n",
    "        self.text = ''\n",
    "    def __call__(self, file, *args, **kwargs):\n",
    "        if file == 0:\n",
    "            return io.StringIO(self.text)\n",
    "        return original_open(file, *args, **kwargs)\n",
    "    def updater(self, change):\n",
    "        self.text = change[\"new\"]\n",
    "class custom_input():\n",
    "    def __init__(self):\n",
    "        self.__sio = io.StringIO('')\n",
    "        self.shell = get_ipython()\n",
    "        if self.shell.events.callbacks['pre_run_cell'] != []:\n",
    "            self.shell.events.callbacks['pre_run_cell'] = []\n",
    "        self.shell.events.register('pre_run_cell', self.pre_run_cell)\n",
    "    def __call__(self):\n",
    "        return self.__sio.readline().strip()\n",
    "    def pre_run_cell(self, info):\n",
    "        text = self.shell.user_ns.get('text_area', None).value\n",
    "        self.__sio = io.StringIO(text)\n",
    "open = custom_open()\n",
    "input = custom_input()\n",
    "text_area = Textarea()\n",
    "text_area.observe(open.updater, names='value')\n",
    "display(text_area)"
   ]
  },
  {
   "cell_type": "code",
   "execution_count": 3,
   "id": "af59d5ff-a234-4850-a196-4c1904c82feb",
   "metadata": {
    "tags": []
   },
   "outputs": [
    {
     "name": "stdout",
     "output_type": "stream",
     "text": [
      "Yes\n",
      "No\n",
      "No\n",
      "Yes\n"
     ]
    }
   ],
   "source": [
    "T=int(input())\n",
    "\n",
    "while T:\n",
    "    n,k=map(int,input().split())\n",
    "    s=input()\n",
    "    p0=[0]*(n+1)\n",
    "    p1=[0]*(n+1)\n",
    "    \n",
    "    for i in range(n):\n",
    "        # 累積和：0 の出現回数\n",
    "        # p0[0:i)\n",
    "        p0[i+1] = p0[i] + (s[i]==\"0\")\n",
    "        # 累積和：1 の出現回数\n",
    "        # p1[0:i)\n",
    "        p1[i+1] = p1[i] + (s[i]==\"1\")\n",
    "    \n",
    "    ans=0\n",
    "    # i を起点に k 回連続する 1 を作れるか\n",
    "    for i in range(n-k+1):\n",
    "        # 0 がないことを確認\n",
    "        if p0[i+k]-p0[i]==0:\n",
    "            # [:i-1] に 1 がないこと\n",
    "            # [i+k:] に 1 がないこと\n",
    "            if p1[i]==0 and p1[n]-p1[i+k]==0:\n",
    "                ans+=1\n",
    "    if ans==1:\n",
    "        print(\"Yes\")\n",
    "    else:\n",
    "        print(\"No\")\n",
    "    \n",
    "    T-=1"
   ]
  },
  {
   "cell_type": "code",
   "execution_count": 23,
   "id": "117f7e24-1ec0-4441-9d1c-255cb39d45b6",
   "metadata": {},
   "outputs": [
    {
     "data": {
      "text/plain": [
       "[0, 0, 0, 0]"
      ]
     },
     "execution_count": 23,
     "metadata": {},
     "output_type": "execute_result"
    }
   ],
   "source": [
    "p0"
   ]
  },
  {
   "cell_type": "code",
   "execution_count": 24,
   "id": "4b7593e8-8660-453a-a373-902340ba4a10",
   "metadata": {},
   "outputs": [
    {
     "data": {
      "text/plain": [
       "[0, 1, 1, 1]"
      ]
     },
     "execution_count": 24,
     "metadata": {},
     "output_type": "execute_result"
    }
   ],
   "source": [
    "p1"
   ]
  },
  {
   "cell_type": "code",
   "execution_count": null,
   "id": "e32a5be8-fd7f-4ead-b1f0-3aeceb33206e",
   "metadata": {},
   "outputs": [],
   "source": []
  }
 ],
 "metadata": {
  "kernelspec": {
   "display_name": "Python 3 (ipykernel)",
   "language": "python",
   "name": "python3"
  },
  "language_info": {
   "codemirror_mode": {
    "name": "ipython",
    "version": 3
   },
   "file_extension": ".py",
   "mimetype": "text/x-python",
   "name": "python",
   "nbconvert_exporter": "python",
   "pygments_lexer": "ipython3",
   "version": "3.9.12"
  }
 },
 "nbformat": 4,
 "nbformat_minor": 5
}
