{
 "cells": [
  {
   "cell_type": "code",
   "execution_count": 1,
   "id": "82d0700d-d071-4b17-b0e1-1ceba0dc577c",
   "metadata": {},
   "outputs": [
    {
     "data": {
      "application/vnd.jupyter.widget-view+json": {
       "model_id": "f5d4558250a74c369b04e16386168f72",
       "version_major": 2,
       "version_minor": 0
      },
      "text/plain": [
       "Textarea(value='')"
      ]
     },
     "metadata": {},
     "output_type": "display_data"
    }
   ],
   "source": [
    "# Ref: https://qiita.com/noca/items/00646efd9d4a7302f522\n",
    "from ipywidgets import Textarea\n",
    "import io\n",
    "if 'open' in globals():\n",
    "    del open\n",
    "if 'input' in globals():\n",
    "    del input\n",
    "original_open = open\n",
    "class custom_open():\n",
    "    def __init__(self):\n",
    "        self.text = ''\n",
    "    def __call__(self, file, *args, **kwargs):\n",
    "        if file == 0:\n",
    "            return io.StringIO(self.text)\n",
    "        return original_open(file, *args, **kwargs)\n",
    "    def updater(self, change):\n",
    "        self.text = change[\"new\"]\n",
    "class custom_input():\n",
    "    def __init__(self):\n",
    "        self.__sio = io.StringIO('')\n",
    "        self.shell = get_ipython()\n",
    "        if self.shell.events.callbacks['pre_run_cell'] != []:\n",
    "            self.shell.events.callbacks['pre_run_cell'] = []\n",
    "        self.shell.events.register('pre_run_cell', self.pre_run_cell)\n",
    "    def __call__(self):\n",
    "        return self.__sio.readline().strip()\n",
    "    def pre_run_cell(self, info):\n",
    "        text = self.shell.user_ns.get('text_area', None).value\n",
    "        self.__sio = io.StringIO(text)\n",
    "open = custom_open()\n",
    "input = custom_input()\n",
    "text_area = Textarea()\n",
    "text_area.observe(open.updater, names='value')\n",
    "display(text_area)"
   ]
  },
  {
   "cell_type": "code",
   "execution_count": 4,
   "id": "af59d5ff-a234-4850-a196-4c1904c82feb",
   "metadata": {
    "tags": []
   },
   "outputs": [
    {
     "name": "stdout",
     "output_type": "stream",
     "text": [
      "00001"
     ]
    }
   ],
   "source": [
    "import sys\n",
    "n=int(input())\n",
    "s=input()\n",
    "t=input()\n",
    "\n",
    "c=0\n",
    "for i in range(n):\n",
    "    if s[i]!=t[i]:\n",
    "        c+=1\n",
    "if c%2!=0:\n",
    "    print(-1)\n",
    "    sys.exit()\n",
    "\n",
    "ans=[0]*n\n",
    "mid=c/2\n",
    "sc=0\n",
    "st=0\n",
    "for i in range(n):\n",
    "    if s[i]==t[i]:\n",
    "        ans[i]=0\n",
    "    else:\n",
    "        if s[i]==\"1\":\n",
    "            if sc<mid:\n",
    "                ans[i]=0\n",
    "                sc+=1\n",
    "            else:\n",
    "                ans[i]=1\n",
    "                st+=1\n",
    "        else:\n",
    "            if st<mid:\n",
    "                ans[i]=0\n",
    "                st+=1\n",
    "            else:\n",
    "                ans[i]=1\n",
    "                sc+=1\n",
    "for i in range(n):\n",
    "    print(str(ans[i]),end=\"\")"
   ]
  },
  {
   "cell_type": "code",
   "execution_count": 5,
   "id": "20353009-3a21-43dd-aaf8-32041cbfa67e",
   "metadata": {},
   "outputs": [
    {
     "data": {
      "text/plain": [
       "[0, 0, 0, 0, 1]"
      ]
     },
     "execution_count": 5,
     "metadata": {},
     "output_type": "execute_result"
    }
   ],
   "source": [
    "ans"
   ]
  },
  {
   "cell_type": "code",
   "execution_count": null,
   "id": "117f7e24-1ec0-4441-9d1c-255cb39d45b6",
   "metadata": {},
   "outputs": [],
   "source": []
  }
 ],
 "metadata": {
  "kernelspec": {
   "display_name": "Python 3 (ipykernel)",
   "language": "python",
   "name": "python3"
  },
  "language_info": {
   "codemirror_mode": {
    "name": "ipython",
    "version": 3
   },
   "file_extension": ".py",
   "mimetype": "text/x-python",
   "name": "python",
   "nbconvert_exporter": "python",
   "pygments_lexer": "ipython3",
   "version": "3.9.12"
  }
 },
 "nbformat": 4,
 "nbformat_minor": 5
}
