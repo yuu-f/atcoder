{
 "cells": [
  {
   "cell_type": "code",
   "execution_count": 1,
   "id": "6625bb29-1b60-4a81-b4a9-a0476b5bef93",
   "metadata": {
    "tags": []
   },
   "outputs": [
    {
     "data": {
      "application/vnd.jupyter.widget-view+json": {
       "model_id": "aefe5d8a11c54141a8efe90496a579bd",
       "version_major": 2,
       "version_minor": 0
      },
      "text/plain": [
       "Textarea(value='')"
      ]
     },
     "metadata": {},
     "output_type": "display_data"
    }
   ],
   "source": [
    "# Ref: https://qiita.com/noca/items/00646efd9d4a7302f522\n",
    "from ipywidgets import Textarea\n",
    "import io\n",
    "if 'open' in globals():\n",
    "    del open\n",
    "if 'input' in globals():\n",
    "    del input\n",
    "original_open = open\n",
    "class custom_open():\n",
    "    def __init__(self):\n",
    "        self.text = ''\n",
    "    def __call__(self, file, *args, **kwargs):\n",
    "        if file == 0:\n",
    "            return io.StringIO(self.text)\n",
    "        return original_open(file, *args, **kwargs)\n",
    "    def updater(self, change):\n",
    "        self.text = change[\"new\"]\n",
    "class custom_input():\n",
    "    def __init__(self):\n",
    "        self.__sio = io.StringIO('')\n",
    "        self.shell = get_ipython()\n",
    "        if self.shell.events.callbacks['pre_run_cell'] != []:\n",
    "            self.shell.events.callbacks['pre_run_cell'] = []\n",
    "        self.shell.events.register('pre_run_cell', self.pre_run_cell)\n",
    "    def __call__(self):\n",
    "        return self.__sio.readline().strip()\n",
    "    def pre_run_cell(self, info):\n",
    "        text = self.shell.user_ns.get('text_area', None).value\n",
    "        self.__sio = io.StringIO(text)\n",
    "open = custom_open()\n",
    "input = custom_input()\n",
    "text_area = Textarea()\n",
    "text_area.observe(open.updater, names='value')\n",
    "display(text_area)"
   ]
  },
  {
   "cell_type": "code",
   "execution_count": 32,
   "id": "fe889105-7600-494c-9d88-94f0b09f000d",
   "metadata": {},
   "outputs": [
    {
     "name": "stdout",
     "output_type": "stream",
     "text": [
      "No\n"
     ]
    }
   ],
   "source": [
    "from collections import deque\n",
    "\n",
    "def nex(R,C,pos_y,pos_x,xy):\n",
    "    R -= 1\n",
    "    C -= 1\n",
    "    _nex = []\n",
    "    if pos_y-1 >= 0 and xy[pos_y-1][pos_x] == \".\":\n",
    "        _nex.append([pos_y-1,pos_x])\n",
    "    if pos_y+1 <= R and xy[pos_y+1][pos_x] == \".\":\n",
    "        _nex.append([pos_y+1,pos_x])\n",
    "    if pos_x-1 >= 0 and xy[pos_y][pos_x-1] == \".\":\n",
    "        _nex.append([pos_y,pos_x-1])\n",
    "    if pos_x+1 <= C and xy[pos_y][pos_x+1] == \".\":\n",
    "        _nex.append([pos_y,pos_x+1])    \n",
    "    return _nex\n",
    "\n",
    "def bfs(R,C,Sy,Sx,xy):\n",
    "    INF = -1\n",
    "    dist = [[INF]*C for _ in range(R)]\n",
    "    dist[Sy][Sx] = 0\n",
    "    que = deque()\n",
    "    que.append([Sy,Sx])\n",
    "    flag=False\n",
    "    \n",
    "    while que:\n",
    "        pos_y,pos_x = que.popleft()\n",
    "        g = nex(R,C,pos_y,pos_x,xy)\n",
    "        for nex_y,nex_x in g:\n",
    "            if dist[nex_y][nex_x] != INF: continue\n",
    "            dist[nex_y][nex_x] = dist[pos_y][pos_x]+1\n",
    "            que.append([nex_y,nex_x])\n",
    "    return dist\n",
    "\n",
    "H,W=map(int,input().split())\n",
    "S=[list(input()) for _ in range(H)]\n",
    "\n",
    "for i in range(H):\n",
    "    for j in range(W):\n",
    "        if S[i][j]==\"S\":\n",
    "            sh,sw=i,j\n",
    "            break\n",
    "\n",
    "flag=False\n",
    "L=nex(H,W,sh,sw,S)\n",
    "for candidate_h, candidate_w in L:\n",
    "    li=bfs(H,W,candidate_h, candidate_w, S)\n",
    "    for y,x in L:\n",
    "        if li[y][x]>0:\n",
    "            flag=True\n",
    "\n",
    "if flag:\n",
    "    print(\"Yes\")\n",
    "else:\n",
    "    print(\"No\")"
   ]
  },
  {
   "cell_type": "code",
   "execution_count": null,
   "id": "57d0d0a7-247a-46bd-8998-68e39a7f31d7",
   "metadata": {},
   "outputs": [],
   "source": []
  }
 ],
 "metadata": {
  "kernelspec": {
   "display_name": "Python 3 (ipykernel)",
   "language": "python",
   "name": "python3"
  },
  "language_info": {
   "codemirror_mode": {
    "name": "ipython",
    "version": 3
   },
   "file_extension": ".py",
   "mimetype": "text/x-python",
   "name": "python",
   "nbconvert_exporter": "python",
   "pygments_lexer": "ipython3",
   "version": "3.9.12"
  }
 },
 "nbformat": 4,
 "nbformat_minor": 5
}
