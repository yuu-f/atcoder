{
 "cells": [
  {
   "cell_type": "code",
   "execution_count": 1,
   "id": "6625bb29-1b60-4a81-b4a9-a0476b5bef93",
   "metadata": {
    "tags": []
   },
   "outputs": [
    {
     "data": {
      "application/vnd.jupyter.widget-view+json": {
       "model_id": "7b9695970c7442c6861b721c631b6855",
       "version_major": 2,
       "version_minor": 0
      },
      "text/plain": [
       "Textarea(value='')"
      ]
     },
     "metadata": {},
     "output_type": "display_data"
    }
   ],
   "source": [
    "# Ref: https://qiita.com/noca/items/00646efd9d4a7302f522\n",
    "from ipywidgets import Textarea\n",
    "import io\n",
    "if 'open' in globals():\n",
    "    del open\n",
    "if 'input' in globals():\n",
    "    del input\n",
    "original_open = open\n",
    "class custom_open():\n",
    "    def __init__(self):\n",
    "        self.text = ''\n",
    "    def __call__(self, file, *args, **kwargs):\n",
    "        if file == 0:\n",
    "            return io.StringIO(self.text)\n",
    "        return original_open(file, *args, **kwargs)\n",
    "    def updater(self, change):\n",
    "        self.text = change[\"new\"]\n",
    "class custom_input():\n",
    "    def __init__(self):\n",
    "        self.__sio = io.StringIO('')\n",
    "        self.shell = get_ipython()\n",
    "        if self.shell.events.callbacks['pre_run_cell'] != []:\n",
    "            self.shell.events.callbacks['pre_run_cell'] = []\n",
    "        self.shell.events.register('pre_run_cell', self.pre_run_cell)\n",
    "    def __call__(self):\n",
    "        return self.__sio.readline().strip()\n",
    "    def pre_run_cell(self, info):\n",
    "        text = self.shell.user_ns.get('text_area', None).value\n",
    "        self.__sio = io.StringIO(text)\n",
    "open = custom_open()\n",
    "input = custom_input()\n",
    "text_area = Textarea()\n",
    "text_area.observe(open.updater, names='value')\n",
    "display(text_area)"
   ]
  },
  {
   "cell_type": "code",
   "execution_count": 9,
   "id": "fe889105-7600-494c-9d88-94f0b09f000d",
   "metadata": {},
   "outputs": [
    {
     "name": "stdout",
     "output_type": "stream",
     "text": [
      "22\n",
      "249561150\n",
      "110916092\n",
      "873463862\n",
      "279508479\n",
      "360477194\n",
      "529680742\n"
     ]
    }
   ],
   "source": [
    "import bisect\n",
    "\n",
    "N=int(input())\n",
    "A=list(map(int,input().split()))\n",
    "MOD=998244353\n",
    "\n",
    "L=[]\n",
    "i=0\n",
    "while i<N:\n",
    "    x=A[i]\n",
    "    bisect.insort_left(L,x)\n",
    "    i+=1\n",
    "    p=0\n",
    "    q_rev=pow(i**2,MOD-2,MOD)\n",
    "    for j in range(i):\n",
    "        p+=L[j]*(2*j+1)%MOD\n",
    "    print((p*q_rev)%MOD)"
   ]
  },
  {
   "cell_type": "code",
   "execution_count": 3,
   "id": "57d0d0a7-247a-46bd-8998-68e39a7f31d7",
   "metadata": {},
   "outputs": [
    {
     "data": {
      "text/plain": [
       "873463862"
      ]
     },
     "execution_count": 3,
     "metadata": {},
     "output_type": "execute_result"
    }
   ],
   "source": [
    "Q=4**2\n",
    "Q_rev=pow(Q,MOD-2,MOD)\n",
    "P=22*1+26*3+45*5+75*7\n",
    "(P*Q_rev)%MOD"
   ]
  },
  {
   "cell_type": "code",
   "execution_count": 4,
   "id": "f18d5e22-cccc-46ad-9cc9-e5cf4433e6bf",
   "metadata": {},
   "outputs": [
    {
     "data": {
      "text/plain": [
       "110916092"
      ]
     },
     "execution_count": 4,
     "metadata": {},
     "output_type": "execute_result"
    }
   ],
   "source": [
    "Q=3**2\n",
    "Q_rev=pow(Q,MOD-2,MOD)\n",
    "P=22*1+26*3+75*5\n",
    "(P*Q_rev)%MOD"
   ]
  },
  {
   "cell_type": "code",
   "execution_count": 5,
   "id": "729e4e0f-4461-40ac-a718-9954aace5f44",
   "metadata": {},
   "outputs": [
    {
     "data": {
      "text/plain": [
       "873463862"
      ]
     },
     "execution_count": 5,
     "metadata": {},
     "output_type": "execute_result"
    }
   ],
   "source": [
    "Q=4**2\n",
    "Q_rev=pow(Q,MOD-2,MOD)\n",
    "P2=45*5+75*2\n",
    "((P+P2)*Q_rev)%MOD"
   ]
  },
  {
   "cell_type": "code",
   "execution_count": null,
   "id": "15f72b1e-998b-4112-b8b8-209750e5eec9",
   "metadata": {},
   "outputs": [],
   "source": []
  },
  {
   "cell_type": "code",
   "execution_count": 15,
   "id": "2795d3a5-f4c3-4aec-a88d-966b2f4f07bd",
   "metadata": {},
   "outputs": [
    {
     "name": "stdout",
     "output_type": "stream",
     "text": [
      "(0, 0)\n",
      "(0, 0) 0\n",
      "(0, 0) 22\n",
      "22\n",
      "(22, 22)\n",
      "(1, 1) 22\n",
      "(1, 1) 247\n",
      "249561150\n",
      "(22, 22)\n",
      "(1, 1) 397\n",
      "(1, 1) 475\n",
      "110916092\n",
      "(48, 48)\n",
      "(2, 2) 625\n",
      "(2, 2) 850\n",
      "873463862\n",
      "(93, 93)\n",
      "(3, 3) 1000\n",
      "(3, 3) 1504\n",
      "279508479\n",
      "(240, 240)\n",
      "(5, 5) 1504\n",
      "(5, 5) 2395\n",
      "360477194\n",
      "(93, 93)\n",
      "(3, 3) 2851\n",
      "(3, 3) 3180\n",
      "529680742\n"
     ]
    }
   ],
   "source": [
    "n = int(input())\n",
    "A = list(map(int,input().split()))\n",
    " \n",
    "mod = 998244353\n",
    "class BIT:\n",
    "    def __init__(self, n):\n",
    "        self.size = n\n",
    "        self.tree = [0]*(n+1)\n",
    " \n",
    "    def build(self, list):\n",
    "        self.tree[1:] = list.copy()\n",
    "        for i in range(self.size+1):\n",
    "            j = i + (i & (-i))\n",
    "            if j < self.size+1:\n",
    "                self.tree[j] += self.tree[i]\n",
    "                self.tree[j] %= mod\n",
    " \n",
    "    def sum(self, i):\n",
    "        # [0, i) の要素の総和を返す\n",
    "        s = 0\n",
    "        while i>0:\n",
    "            s += self.tree[i]\n",
    "            s %= mod\n",
    "            i -= i & -i\n",
    "        return s\n",
    "    # 0 index を 1 index に変更  転倒数を求めるなら1を足していく\n",
    "    def add(self, i, x):\n",
    "        i += 1\n",
    "        while i <= self.size:\n",
    "            self.tree[i] += x\n",
    "            self.tree[i] %= mod\n",
    "            i += i & -i\n",
    " \n",
    " \n",
    "ans = 0\n",
    "M = 200000+5\n",
    "bit = BIT(M)\n",
    "bit2 = BIT(M)\n",
    "all = 0\n",
    "for i,a in enumerate(A,1):\n",
    " \n",
    "    s = bit.sum(a)\n",
    "    s2 = bit.sum(a+1)\n",
    "    print((s,s2))\n",
    "    ans += (all-s) + (all-s2)\n",
    "    ans %= mod\n",
    "    s = bit2.sum(a)\n",
    "    s2 = bit2.sum(a+1)\n",
    "    print((s,s2),ans)\n",
    "    ans += a * (s+s2+1) % mod\n",
    "    ans %= mod\n",
    "    print((s,s2),ans)\n",
    " \n",
    "    all += a\n",
    "    bit.add(a,a)\n",
    "    bit2.add(a,1)\n",
    "    invi = pow(i**2,mod-2,mod)\n",
    "    print(ans*invi%mod)"
   ]
  },
  {
   "cell_type": "code",
   "execution_count": null,
   "id": "119825ce-98df-44c5-953b-145beafca4da",
   "metadata": {},
   "outputs": [],
   "source": []
  }
 ],
 "metadata": {
  "kernelspec": {
   "display_name": "Python 3 (ipykernel)",
   "language": "python",
   "name": "python3"
  },
  "language_info": {
   "codemirror_mode": {
    "name": "ipython",
    "version": 3
   },
   "file_extension": ".py",
   "mimetype": "text/x-python",
   "name": "python",
   "nbconvert_exporter": "python",
   "pygments_lexer": "ipython3",
   "version": "3.9.12"
  }
 },
 "nbformat": 4,
 "nbformat_minor": 5
}
