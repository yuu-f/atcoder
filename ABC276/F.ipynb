{
 "cells": [
  {
   "cell_type": "code",
   "execution_count": 1,
   "id": "6625bb29-1b60-4a81-b4a9-a0476b5bef93",
   "metadata": {
    "tags": []
   },
   "outputs": [
    {
     "data": {
      "application/vnd.jupyter.widget-view+json": {
       "model_id": "fe1cf36b151d4cc59af501b419f8f1ba",
       "version_major": 2,
       "version_minor": 0
      },
      "text/plain": [
       "Textarea(value='')"
      ]
     },
     "metadata": {},
     "output_type": "display_data"
    }
   ],
   "source": [
    "# Ref: https://qiita.com/noca/items/00646efd9d4a7302f522\n",
    "from ipywidgets import Textarea\n",
    "import io\n",
    "if 'open' in globals():\n",
    "    del open\n",
    "if 'input' in globals():\n",
    "    del input\n",
    "original_open = open\n",
    "class custom_open():\n",
    "    def __init__(self):\n",
    "        self.text = ''\n",
    "    def __call__(self, file, *args, **kwargs):\n",
    "        if file == 0:\n",
    "            return io.StringIO(self.text)\n",
    "        return original_open(file, *args, **kwargs)\n",
    "    def updater(self, change):\n",
    "        self.text = change[\"new\"]\n",
    "class custom_input():\n",
    "    def __init__(self):\n",
    "        self.__sio = io.StringIO('')\n",
    "        self.shell = get_ipython()\n",
    "        if self.shell.events.callbacks['pre_run_cell'] != []:\n",
    "            self.shell.events.callbacks['pre_run_cell'] = []\n",
    "        self.shell.events.register('pre_run_cell', self.pre_run_cell)\n",
    "    def __call__(self):\n",
    "        return self.__sio.readline().strip()\n",
    "    def pre_run_cell(self, info):\n",
    "        text = self.shell.user_ns.get('text_area', None).value\n",
    "        self.__sio = io.StringIO(text)\n",
    "open = custom_open()\n",
    "input = custom_input()\n",
    "text_area = Textarea()\n",
    "text_area.observe(open.updater, names='value')\n",
    "display(text_area)"
   ]
  },
  {
   "cell_type": "code",
   "execution_count": 77,
   "id": "fe889105-7600-494c-9d88-94f0b09f000d",
   "metadata": {},
   "outputs": [
    {
     "name": "stdout",
     "output_type": "stream",
     "text": [
      "22\n",
      "249561150\n",
      "110916092\n",
      "873463862\n",
      "279508479\n",
      "360477194\n",
      "529680742\n"
     ]
    }
   ],
   "source": [
    "import bisect\n",
    "\n",
    "N=int(input())\n",
    "A=list(map(int,input().split()))\n",
    "MOD=998244353\n",
    "\n",
    "L=[]\n",
    "i=0\n",
    "while i<N:\n",
    "    x=A[i]\n",
    "    bisect.insort_left(L,x)\n",
    "    i+=1\n",
    "    p=0\n",
    "    q_rev=pow(i**2,MOD-2,MOD)\n",
    "    for j in range(i):\n",
    "        p+=L[j]*(2*j+1)%MOD\n",
    "    print((p*q_rev)%MOD)"
   ]
  },
  {
   "cell_type": "code",
   "execution_count": 78,
   "id": "57d0d0a7-247a-46bd-8998-68e39a7f31d7",
   "metadata": {},
   "outputs": [
    {
     "data": {
      "text/plain": [
       "873463862"
      ]
     },
     "execution_count": 78,
     "metadata": {},
     "output_type": "execute_result"
    }
   ],
   "source": [
    "Q=4**2\n",
    "Q_rev=pow(Q,MOD-2,MOD)\n",
    "P=22*1+26*3+45*5+75*7\n",
    "(P*Q_rev)%MOD"
   ]
  },
  {
   "cell_type": "code",
   "execution_count": 79,
   "id": "f18d5e22-cccc-46ad-9cc9-e5cf4433e6bf",
   "metadata": {},
   "outputs": [
    {
     "data": {
      "text/plain": [
       "110916092"
      ]
     },
     "execution_count": 79,
     "metadata": {},
     "output_type": "execute_result"
    }
   ],
   "source": [
    "Q=3**2\n",
    "Q_rev=pow(Q,MOD-2,MOD)\n",
    "P=22*1+26*3+75*5\n",
    "(P*Q_rev)%MOD"
   ]
  },
  {
   "cell_type": "code",
   "execution_count": 80,
   "id": "729e4e0f-4461-40ac-a718-9954aace5f44",
   "metadata": {},
   "outputs": [
    {
     "data": {
      "text/plain": [
       "873463862"
      ]
     },
     "execution_count": 80,
     "metadata": {},
     "output_type": "execute_result"
    }
   ],
   "source": [
    "Q=4**2\n",
    "Q_rev=pow(Q,MOD-2,MOD)\n",
    "P2=45*5+75*2\n",
    "((P+P2)*Q_rev)%MOD"
   ]
  },
  {
   "cell_type": "code",
   "execution_count": null,
   "id": "15f72b1e-998b-4112-b8b8-209750e5eec9",
   "metadata": {},
   "outputs": [],
   "source": []
  },
  {
   "cell_type": "code",
   "execution_count": null,
   "id": "2795d3a5-f4c3-4aec-a88d-966b2f4f07bd",
   "metadata": {},
   "outputs": [],
   "source": []
  }
 ],
 "metadata": {
  "kernelspec": {
   "display_name": "Python 3 (ipykernel)",
   "language": "python",
   "name": "python3"
  },
  "language_info": {
   "codemirror_mode": {
    "name": "ipython",
    "version": 3
   },
   "file_extension": ".py",
   "mimetype": "text/x-python",
   "name": "python",
   "nbconvert_exporter": "python",
   "pygments_lexer": "ipython3",
   "version": "3.9.12"
  }
 },
 "nbformat": 4,
 "nbformat_minor": 5
}
