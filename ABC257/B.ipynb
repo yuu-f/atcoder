{
 "cells": [
  {
   "cell_type": "code",
   "execution_count": 1,
   "id": "98b7c497-a37f-442b-b241-ebca91ad2cf3",
   "metadata": {},
   "outputs": [
    {
     "data": {
      "application/vnd.jupyter.widget-view+json": {
       "model_id": "8da69d3c05f9405ab4870e8419f8f1b6",
       "version_major": 2,
       "version_minor": 0
      },
      "text/plain": [
       "Textarea(value='')"
      ]
     },
     "metadata": {},
     "output_type": "display_data"
    }
   ],
   "source": [
    "# Ref: https://qiita.com/noca/items/00646efd9d4a7302f522\n",
    "from ipywidgets import Textarea\n",
    "import io\n",
    "if 'open' in globals():\n",
    "    del open\n",
    "if 'input' in globals():\n",
    "    del input\n",
    "original_open = open\n",
    "class custom_open():\n",
    "    def __init__(self):\n",
    "        self.text = ''\n",
    "    def __call__(self, file, *args, **kwargs):\n",
    "        if file == 0:\n",
    "            return io.StringIO(self.text)\n",
    "        return original_open(file, *args, **kwargs)\n",
    "    def updater(self, change):\n",
    "        self.text = change[\"new\"]\n",
    "class custom_input():\n",
    "    def __init__(self):\n",
    "        self.__sio = io.StringIO('')\n",
    "        self.shell = get_ipython()\n",
    "        if self.shell.events.callbacks['pre_run_cell'] != []:\n",
    "            self.shell.events.callbacks['pre_run_cell'] = []\n",
    "        self.shell.events.register('pre_run_cell', self.pre_run_cell)\n",
    "    def __call__(self):\n",
    "        return self.__sio.readline().strip()\n",
    "    def pre_run_cell(self, info):\n",
    "        text = self.shell.user_ns.get('text_area', None).value\n",
    "        self.__sio = io.StringIO(text)\n",
    "open = custom_open()\n",
    "input = custom_input()\n",
    "text_area = Textarea()\n",
    "text_area.observe(open.updater, names='value')\n",
    "display(text_area)"
   ]
  },
  {
   "cell_type": "code",
   "execution_count": 13,
   "id": "d221e08f-dd64-481a-ac89-d86fcbb9071e",
   "metadata": {},
   "outputs": [
    {
     "name": "stdout",
     "output_type": "stream",
     "text": [
      "2 5 6 7 9 10\n"
     ]
    }
   ],
   "source": [
    "N,K,Q=map(int,input().split())\n",
    "A=list(map(int,input().split()))\n",
    "L=list(map(int,input().split()))\n",
    "\n",
    "S=[0]*N\n",
    "for a in A:\n",
    "    S[a-1]=1\n",
    "    \n",
    "for l in L:\n",
    "    cnt=0\n",
    "    idx=0\n",
    "    for i in range(N):\n",
    "        if S[i]==1:\n",
    "            cnt+=1\n",
    "        if cnt==l:\n",
    "            idx=i\n",
    "            break\n",
    "    if idx+1>=N:continue\n",
    "    if S[idx+1]==1:continue\n",
    "    if S[idx+1]==0:\n",
    "        S[idx]=0\n",
    "        S[idx+1]=1\n",
    "\n",
    "ans=[]\n",
    "for i,s in enumerate(S):\n",
    "    if s==1:\n",
    "        ans.append(i+1)\n",
    "        \n",
    "print(*ans)"
   ]
  },
  {
   "cell_type": "code",
   "execution_count": 9,
   "id": "973bc3f5-f143-4f37-9bb7-431a308fdcd0",
   "metadata": {},
   "outputs": [
    {
     "data": {
      "text/plain": [
       "[0, 1, 0, 1, 1]"
      ]
     },
     "execution_count": 9,
     "metadata": {},
     "output_type": "execute_result"
    }
   ],
   "source": [
    "S"
   ]
  },
  {
   "cell_type": "code",
   "execution_count": null,
   "id": "1a901080-8fe0-4db2-acff-6a18a74cb73f",
   "metadata": {},
   "outputs": [],
   "source": []
  }
 ],
 "metadata": {
  "kernelspec": {
   "display_name": "Python 3 (ipykernel)",
   "language": "python",
   "name": "python3"
  },
  "language_info": {
   "codemirror_mode": {
    "name": "ipython",
    "version": 3
   },
   "file_extension": ".py",
   "mimetype": "text/x-python",
   "name": "python",
   "nbconvert_exporter": "python",
   "pygments_lexer": "ipython3",
   "version": "3.9.12"
  }
 },
 "nbformat": 4,
 "nbformat_minor": 5
}
