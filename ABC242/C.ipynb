{
 "cells": [
  {
   "cell_type": "code",
   "execution_count": 2,
   "id": "69a14724-1d32-4006-a8f0-907895c16531",
   "metadata": {},
   "outputs": [
    {
     "data": {
      "application/vnd.jupyter.widget-view+json": {
       "model_id": "7e5dacf55d7a4b30bf74542375ae55cb",
       "version_major": 2,
       "version_minor": 0
      },
      "text/plain": [
       "Textarea(value='')"
      ]
     },
     "metadata": {},
     "output_type": "display_data"
    }
   ],
   "source": [
    "# Ref: https://qiita.com/noca/items/00646efd9d4a7302f522\n",
    "from ipywidgets import Textarea\n",
    "import io\n",
    "if 'open' in globals():\n",
    "    del open\n",
    "if 'input' in globals():\n",
    "    del input\n",
    "original_open = open\n",
    "class custom_open():\n",
    "    def __init__(self):\n",
    "        self.text = ''\n",
    "    def __call__(self, file, *args, **kwargs):\n",
    "        if file == 0:\n",
    "            return io.StringIO(self.text)\n",
    "        return original_open(file, *args, **kwargs)\n",
    "    def updater(self, change):\n",
    "        self.text = change[\"new\"]\n",
    "class custom_input():\n",
    "    def __init__(self):\n",
    "        self.__sio = io.StringIO('')\n",
    "        self.shell = get_ipython()\n",
    "        if self.shell.events.callbacks['pre_run_cell'] != []:\n",
    "            self.shell.events.callbacks['pre_run_cell'] = []\n",
    "        self.shell.events.register('pre_run_cell', self.pre_run_cell)\n",
    "    def __call__(self):\n",
    "        return self.__sio.readline().strip()\n",
    "    def pre_run_cell(self, info):\n",
    "        text = self.shell.user_ns.get('text_area', None).value\n",
    "        self.__sio = io.StringIO(text)\n",
    "open = custom_open()\n",
    "input = custom_input()\n",
    "text_area = Textarea()\n",
    "text_area.observe(open.updater, names='value')\n",
    "display(text_area)"
   ]
  },
  {
   "cell_type": "code",
   "execution_count": 31,
   "id": "93d1a5f0-a2b7-4605-99ff-f6519be20157",
   "metadata": {},
   "outputs": [
    {
     "name": "stdout",
     "output_type": "stream",
     "text": [
      "248860093\n"
     ]
    }
   ],
   "source": [
    "N=int(input())\n",
    "MOD=998244353\n",
    "\n",
    "dp=[[0]*11 for _ in range(N+1)]\n",
    "\n",
    "dp[1]=[1 for _ in range(11)]\n",
    "\n",
    "for i in range(1,N):\n",
    "    for j in range(1,10):\n",
    "        if dp[i][j]>=1:\n",
    "            dp[i+1][j]+=dp[i][j]\n",
    "            dp[i+1][j]%=MOD\n",
    "            dp[i+1][j+1]+=dp[i][j]\n",
    "            dp[i+1][j+1]%=MOD\n",
    "            dp[i+1][j-1]+=dp[i][j]\n",
    "            dp[i+1][j-1]%=MOD\n",
    "\n",
    "_sum=0\n",
    "for i in range(1,10):\n",
    "    _sum+=(dp[N][i])\n",
    "    _sum%=MOD\n",
    "print(_sum)"
   ]
  },
  {
   "cell_type": "code",
   "execution_count": null,
   "id": "119b195a-5c34-4f25-9e8f-48cd80fe8b07",
   "metadata": {},
   "outputs": [],
   "source": []
  },
  {
   "cell_type": "code",
   "execution_count": null,
   "id": "6836e3d7-bb81-41d8-9b88-0f855ca3439c",
   "metadata": {},
   "outputs": [],
   "source": []
  }
 ],
 "metadata": {
  "kernelspec": {
   "display_name": "Python 3 (ipykernel)",
   "language": "python",
   "name": "python3"
  },
  "language_info": {
   "codemirror_mode": {
    "name": "ipython",
    "version": 3
   },
   "file_extension": ".py",
   "mimetype": "text/x-python",
   "name": "python",
   "nbconvert_exporter": "python",
   "pygments_lexer": "ipython3",
   "version": "3.9.12"
  }
 },
 "nbformat": 4,
 "nbformat_minor": 5
}
