{
 "cells": [
  {
   "cell_type": "code",
   "execution_count": 24,
   "id": "8c7e22e6-1881-4b23-866f-657cd376556c",
   "metadata": {},
   "outputs": [
    {
     "data": {
      "application/vnd.jupyter.widget-view+json": {
       "model_id": "6010789e7f78499fbee92a85a3b6d8e3",
       "version_major": 2,
       "version_minor": 0
      },
      "text/plain": [
       "Textarea(value='')"
      ]
     },
     "metadata": {},
     "output_type": "display_data"
    }
   ],
   "source": [
    "# Ref: https://qiita.com/noca/items/00646efd9d4a7302f522\n",
    "from ipywidgets import Textarea\n",
    "import io\n",
    "if 'open' in globals():\n",
    "    del open\n",
    "if 'input' in globals():\n",
    "    del input\n",
    "original_open = open\n",
    "class custom_open():\n",
    "    def __init__(self):\n",
    "        self.text = ''\n",
    "    def __call__(self, file, *args, **kwargs):\n",
    "        if file == 0:\n",
    "            return io.StringIO(self.text)\n",
    "        return original_open(file, *args, **kwargs)\n",
    "    def updater(self, change):\n",
    "        self.text = change[\"new\"]\n",
    "class custom_input():\n",
    "    def __init__(self):\n",
    "        self.__sio = io.StringIO('')\n",
    "        self.shell = get_ipython()\n",
    "        if self.shell.events.callbacks['pre_run_cell'] != []:\n",
    "            self.shell.events.callbacks['pre_run_cell'] = []\n",
    "        self.shell.events.register('pre_run_cell', self.pre_run_cell)\n",
    "    def __call__(self):\n",
    "        return self.__sio.readline().strip()\n",
    "    def pre_run_cell(self, info):\n",
    "        text = self.shell.user_ns.get('text_area', None).value\n",
    "        self.__sio = io.StringIO(text)\n",
    "open = custom_open()\n",
    "input = custom_input()\n",
    "text_area = Textarea()\n",
    "text_area.observe(open.updater, names='value')\n",
    "display(text_area)"
   ]
  },
  {
   "cell_type": "code",
   "execution_count": 31,
   "id": "14e33b06-4a4f-4473-a913-08165e8298b3",
   "metadata": {},
   "outputs": [
    {
     "name": "stdout",
     "output_type": "stream",
     "text": [
      "4 3 2\n",
      "9 8 7\n",
      "5 4 3\n",
      "9 8 7\n",
      "4 3 2\n",
      "8 7 6\n",
      "3 2 1\n",
      "4 3 2\n",
      "8 7 6\n",
      "6 5 4\n",
      "5\n"
     ]
    }
   ],
   "source": [
    "N=int(input())\n",
    "P=list(map(int,input().split()))\n",
    "\n",
    "# 各料理を何回動かしたらポイントになるか\n",
    "cnt = [0] * N\n",
    "for i, p in enumerate(P):\n",
    "    a = (N - i + p + 1) % N\n",
    "    b = (N - i + p ) % N\n",
    "    c = (N - i + p - 1) % N\n",
    "    # print(a,b,c)\n",
    "    cnt[a] += 1\n",
    "    cnt[b] += 1\n",
    "    cnt[c] += 1\n",
    "\n",
    "print(max(cnt))"
   ]
  },
  {
   "cell_type": "code",
   "execution_count": 32,
   "id": "b1490f92-cc46-4f33-9474-539753b1d900",
   "metadata": {},
   "outputs": [
    {
     "data": {
      "text/plain": [
       "[0, 1, 4, 5, 5, 2, 3, 4, 4, 2]"
      ]
     },
     "execution_count": 32,
     "metadata": {},
     "output_type": "execute_result"
    }
   ],
   "source": [
    "cnt"
   ]
  },
  {
   "cell_type": "code",
   "execution_count": null,
   "id": "5cf30358-4719-4ef6-ace3-b2f6ca2ce6e1",
   "metadata": {},
   "outputs": [],
   "source": []
  }
 ],
 "metadata": {
  "kernelspec": {
   "display_name": "Python 3 (ipykernel)",
   "language": "python",
   "name": "python3"
  },
  "language_info": {
   "codemirror_mode": {
    "name": "ipython",
    "version": 3
   },
   "file_extension": ".py",
   "mimetype": "text/x-python",
   "name": "python",
   "nbconvert_exporter": "python",
   "pygments_lexer": "ipython3",
   "version": "3.9.12"
  }
 },
 "nbformat": 4,
 "nbformat_minor": 5
}
