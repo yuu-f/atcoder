{
 "cells": [
  {
   "cell_type": "code",
   "execution_count": 1,
   "id": "b4578d3b-6b35-4cb8-8d87-2d98b42628ec",
   "metadata": {},
   "outputs": [
    {
     "data": {
      "application/vnd.jupyter.widget-view+json": {
       "model_id": "0f57efe93a3f45b58bafce93dd7b634b",
       "version_major": 2,
       "version_minor": 0
      },
      "text/plain": [
       "Textarea(value='')"
      ]
     },
     "metadata": {},
     "output_type": "display_data"
    }
   ],
   "source": [
    "# Ref: https://qiita.com/noca/items/00646efd9d4a7302f522\n",
    "from ipywidgets import Textarea\n",
    "import io\n",
    "if 'open' in globals():\n",
    "    del open\n",
    "if 'input' in globals():\n",
    "    del input\n",
    "original_open = open\n",
    "class custom_open():\n",
    "    def __init__(self):\n",
    "        self.text = ''\n",
    "    def __call__(self, file, *args, **kwargs):\n",
    "        if file == 0:\n",
    "            return io.StringIO(self.text)\n",
    "        return original_open(file, *args, **kwargs)\n",
    "    def updater(self, change):\n",
    "        self.text = change[\"new\"]\n",
    "class custom_input():\n",
    "    def __init__(self):\n",
    "        self.__sio = io.StringIO('')\n",
    "        self.shell = get_ipython()\n",
    "        if self.shell.events.callbacks['pre_run_cell'] != []:\n",
    "            self.shell.events.callbacks['pre_run_cell'] = []\n",
    "        self.shell.events.register('pre_run_cell', self.pre_run_cell)\n",
    "    def __call__(self):\n",
    "        return self.__sio.readline().strip()\n",
    "    def pre_run_cell(self, info):\n",
    "        text = self.shell.user_ns.get('text_area', None).value\n",
    "        self.__sio = io.StringIO(text)\n",
    "open = custom_open()\n",
    "input = custom_input()\n",
    "text_area = Textarea()\n",
    "text_area.observe(open.updater, names='value')\n",
    "display(text_area)"
   ]
  },
  {
   "cell_type": "code",
   "execution_count": 14,
   "id": "923c21bb-1eec-4081-b33b-ed0c91278b1a",
   "metadata": {},
   "outputs": [
    {
     "name": "stdout",
     "output_type": "stream",
     "text": [
      "1 2\n"
     ]
    }
   ],
   "source": [
    "import sys\n",
    "# 再帰呼び出しの深さの上限を 1<<20 に設定\n",
    "sys.setrecursionlimit(1<<20)\n",
    "    \n",
    "def setG(N,E):\n",
    "    G = [list() for _ in range(N+1)]\n",
    "    for a,b in E:\n",
    "        G[a].append(b)\n",
    "        G[b].append(a)\n",
    "    return G\n",
    "\n",
    "N,X,Y=map(int,input().split())\n",
    "E=[list(map(int,input().split())) for _ in range(N-1)]\n",
    "\n",
    "G=setG(N,E)\n",
    "\n",
    "visited = [False]*(N+1)\n",
    "path = []\n",
    "\n",
    "def dfs(pos):\n",
    "    visited[pos] = True\n",
    "    path.append(pos)\n",
    "    # Y にたどり着いたら探索終了\n",
    "    if pos == Y:\n",
    "        print(*path)\n",
    "    # nex: 隣接頂点\n",
    "    for nex in G[pos]:\n",
    "        # 未探索ならさらに探索\n",
    "        if not visited[nex]:\n",
    "             dfs(nex)\n",
    "    path.pop()\n",
    "\n",
    "dfs(X)"
   ]
  },
  {
   "cell_type": "code",
   "execution_count": 12,
   "id": "2daab467-59a6-46e0-b5ce-9241aa00900a",
   "metadata": {},
   "outputs": [
    {
     "data": {
      "text/plain": [
       "[[], [2, 3], [1], [1, 4, 5], [3], [3]]"
      ]
     },
     "execution_count": 12,
     "metadata": {},
     "output_type": "execute_result"
    }
   ],
   "source": [
    "G"
   ]
  },
  {
   "cell_type": "code",
   "execution_count": null,
   "id": "8052e88d-3cd3-4013-8f91-20a433fc3caf",
   "metadata": {},
   "outputs": [],
   "source": []
  }
 ],
 "metadata": {
  "kernelspec": {
   "display_name": "Python 3 (ipykernel)",
   "language": "python",
   "name": "python3"
  },
  "language_info": {
   "codemirror_mode": {
    "name": "ipython",
    "version": 3
   },
   "file_extension": ".py",
   "mimetype": "text/x-python",
   "name": "python",
   "nbconvert_exporter": "python",
   "pygments_lexer": "ipython3",
   "version": "3.9.12"
  }
 },
 "nbformat": 4,
 "nbformat_minor": 5
}
