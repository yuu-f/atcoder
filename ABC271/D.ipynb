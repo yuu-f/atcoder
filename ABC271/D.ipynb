{
 "cells": [
  {
   "cell_type": "code",
   "execution_count": 1,
   "id": "b0d27b91-ab64-4ced-94ee-20422a7958da",
   "metadata": {},
   "outputs": [
    {
     "data": {
      "application/vnd.jupyter.widget-view+json": {
       "model_id": "69d77be6559442b68a6725f2b59b0fba",
       "version_major": 2,
       "version_minor": 0
      },
      "text/plain": [
       "Textarea(value='')"
      ]
     },
     "metadata": {},
     "output_type": "display_data"
    }
   ],
   "source": [
    "# Ref: https://qiita.com/noca/items/00646efd9d4a7302f522\n",
    "from ipywidgets import Textarea\n",
    "import io\n",
    "if 'open' in globals():\n",
    "    del open\n",
    "if 'input' in globals():\n",
    "    del input\n",
    "original_open = open\n",
    "class custom_open():\n",
    "    def __init__(self):\n",
    "        self.text = ''\n",
    "    def __call__(self, file, *args, **kwargs):\n",
    "        if file == 0:\n",
    "            return io.StringIO(self.text)\n",
    "        return original_open(file, *args, **kwargs)\n",
    "    def updater(self, change):\n",
    "        self.text = change[\"new\"]\n",
    "class custom_input():\n",
    "    def __init__(self):\n",
    "        self.__sio = io.StringIO('')\n",
    "        self.shell = get_ipython()\n",
    "        if self.shell.events.callbacks['pre_run_cell'] != []:\n",
    "            self.shell.events.callbacks['pre_run_cell'] = []\n",
    "        self.shell.events.register('pre_run_cell', self.pre_run_cell)\n",
    "    def __call__(self):\n",
    "        return self.__sio.readline().strip()\n",
    "    def pre_run_cell(self, info):\n",
    "        text = self.shell.user_ns.get('text_area', None).value\n",
    "        self.__sio = io.StringIO(text)\n",
    "open = custom_open()\n",
    "input = custom_input()\n",
    "text_area = Textarea()\n",
    "text_area.observe(open.updater, names='value')\n",
    "display(text_area)"
   ]
  },
  {
   "cell_type": "code",
   "execution_count": 3,
   "id": "89b678fb-da85-44cb-b6fa-a72cb160463a",
   "metadata": {},
   "outputs": [
    {
     "name": "stdout",
     "output_type": "stream",
     "text": [
      "Yes\n",
      "THH\n"
     ]
    },
    {
     "ename": "SystemExit",
     "evalue": "0",
     "output_type": "error",
     "traceback": [
      "An exception has occurred, use %tb to see the full traceback.\n",
      "\u001b[1;31mSystemExit\u001b[0m\u001b[1;31m:\u001b[0m 0\n"
     ]
    }
   ],
   "source": [
    "from collections import deque\n",
    "import sys\n",
    "\n",
    "N,S=map(int,input().split())\n",
    "AB=[list(map(int,input().split())) for _ in range(N)]\n",
    "INF=10005\n",
    "dp=[[0]*(INF+1) for _ in range(N+1)]\n",
    "\n",
    "# DP、和を生成可能なら 1 にする\n",
    "dp[0][0]=1\n",
    "for i in range(1,N+1):\n",
    "    a,b=AB[i-1]\n",
    "    for j in range(INF+1):\n",
    "        if dp[i-1][j]==1:\n",
    "            dp[i][j+a]=1\n",
    "            dp[i][j+b]=1\n",
    "            \n",
    "if dp[N][S]==1:\n",
    "    print(\"Yes\")\n",
    "\n",
    "    ans=[]\n",
    "    # DP を DFS で復元\n",
    "    def rec(n,sx):\n",
    "        if n==0 and sx==0:\n",
    "            print(\"\".join(reversed(ans)))\n",
    "            sys.exit(0)\n",
    "        if dp[n][sx]==1:\n",
    "            a,b=AB[n-1]\n",
    "            ans.append(\"H\")\n",
    "            rec(n-1,sx-a)\n",
    "            ans.append(\"T\")\n",
    "            rec(n-1,sx-b)\n",
    "        ans.pop()\n",
    "    rec(N,S)\n",
    "else:\n",
    "    print(\"No\")"
   ]
  },
  {
   "cell_type": "code",
   "execution_count": null,
   "id": "e18c8af1-cb88-4f20-9214-47d9579e2ae9",
   "metadata": {},
   "outputs": [],
   "source": []
  }
 ],
 "metadata": {
  "kernelspec": {
   "display_name": "Python 3 (ipykernel)",
   "language": "python",
   "name": "python3"
  },
  "language_info": {
   "codemirror_mode": {
    "name": "ipython",
    "version": 3
   },
   "file_extension": ".py",
   "mimetype": "text/x-python",
   "name": "python",
   "nbconvert_exporter": "python",
   "pygments_lexer": "ipython3",
   "version": "3.9.12"
  }
 },
 "nbformat": 4,
 "nbformat_minor": 5
}
