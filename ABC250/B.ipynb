{
 "cells": [
  {
   "cell_type": "code",
   "execution_count": 1,
   "id": "fca686f2-93b0-4b58-b199-97f30c9c2082",
   "metadata": {},
   "outputs": [
    {
     "data": {
      "application/vnd.jupyter.widget-view+json": {
       "model_id": "4c43ccab61ed4525814c6c66457ba21d",
       "version_major": 2,
       "version_minor": 0
      },
      "text/plain": [
       "Textarea(value='')"
      ]
     },
     "metadata": {},
     "output_type": "display_data"
    }
   ],
   "source": [
    "# Ref: https://qiita.com/noca/items/00646efd9d4a7302f522\n",
    "from ipywidgets import Textarea\n",
    "import io\n",
    "if 'open' in globals():\n",
    "    del open\n",
    "if 'input' in globals():\n",
    "    del input\n",
    "original_open = open\n",
    "class custom_open():\n",
    "    def __init__(self):\n",
    "        self.text = ''\n",
    "    def __call__(self, file, *args, **kwargs):\n",
    "        if file == 0:\n",
    "            return io.StringIO(self.text)\n",
    "        return original_open(file, *args, **kwargs)\n",
    "    def updater(self, change):\n",
    "        self.text = change[\"new\"]\n",
    "class custom_input():\n",
    "    def __init__(self):\n",
    "        self.__sio = io.StringIO('')\n",
    "        self.shell = get_ipython()\n",
    "        if self.shell.events.callbacks['pre_run_cell'] != []:\n",
    "            self.shell.events.callbacks['pre_run_cell'] = []\n",
    "        self.shell.events.register('pre_run_cell', self.pre_run_cell)\n",
    "    def __call__(self):\n",
    "        return self.__sio.readline().strip()\n",
    "    def pre_run_cell(self, info):\n",
    "        text = self.shell.user_ns.get('text_area', None).value\n",
    "        self.__sio = io.StringIO(text)\n",
    "open = custom_open()\n",
    "input = custom_input()\n",
    "text_area = Textarea()\n",
    "text_area.observe(open.updater, names='value')\n",
    "display(text_area)"
   ]
  },
  {
   "cell_type": "code",
   "execution_count": 7,
   "id": "e06e4aba-ce0f-4102-bc05-482d2a7e2a3e",
   "metadata": {},
   "outputs": [
    {
     "name": "stdout",
     "output_type": "stream",
     "text": [
      "..##..##\n",
      "..##..##\n",
      "..##..##\n",
      "##..##..\n",
      "##..##..\n",
      "##..##..\n",
      "..##..##\n",
      "..##..##\n",
      "..##..##\n",
      "##..##..\n",
      "##..##..\n",
      "##..##..\n"
     ]
    }
   ],
   "source": [
    "N,A,B=map(int,input().split())\n",
    "\n",
    "s=\"\"\n",
    "t=\"\"\n",
    "for x in range(N*B):\n",
    "    if (x//B)%2==0:\n",
    "        s+=\".\"\n",
    "        t+=\"#\"\n",
    "    else:\n",
    "        s+=\"#\"\n",
    "        t+=\".\"\n",
    "\n",
    "for y in range(N*A):\n",
    "    if (y//A)%2==0:\n",
    "        print(s)\n",
    "    else:\n",
    "        print(t)"
   ]
  },
  {
   "cell_type": "code",
   "execution_count": 5,
   "id": "8fc53352-2e84-4ffa-918a-92ada17a28a3",
   "metadata": {},
   "outputs": [
    {
     "data": {
      "text/plain": [
       "'..##..##'"
      ]
     },
     "execution_count": 5,
     "metadata": {},
     "output_type": "execute_result"
    }
   ],
   "source": [
    "s"
   ]
  },
  {
   "cell_type": "code",
   "execution_count": 6,
   "id": "6c731141-5b15-4712-b282-a3e0ee264474",
   "metadata": {},
   "outputs": [
    {
     "data": {
      "text/plain": [
       "'##..##..'"
      ]
     },
     "execution_count": 6,
     "metadata": {},
     "output_type": "execute_result"
    }
   ],
   "source": [
    "t"
   ]
  },
  {
   "cell_type": "code",
   "execution_count": null,
   "id": "4581e11c-e72d-4af8-a820-8b0b1626a1c6",
   "metadata": {},
   "outputs": [],
   "source": []
  }
 ],
 "metadata": {
  "kernelspec": {
   "display_name": "Python 3 (ipykernel)",
   "language": "python",
   "name": "python3"
  },
  "language_info": {
   "codemirror_mode": {
    "name": "ipython",
    "version": 3
   },
   "file_extension": ".py",
   "mimetype": "text/x-python",
   "name": "python",
   "nbconvert_exporter": "python",
   "pygments_lexer": "ipython3",
   "version": "3.9.12"
  }
 },
 "nbformat": 4,
 "nbformat_minor": 5
}
