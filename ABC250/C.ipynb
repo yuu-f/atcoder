{
 "cells": [
  {
   "cell_type": "code",
   "execution_count": 1,
   "id": "7ea9936c-4395-4928-ac4b-c59496a7149b",
   "metadata": {},
   "outputs": [
    {
     "data": {
      "application/vnd.jupyter.widget-view+json": {
       "model_id": "f2943bebe5d64c3ebfa57a6a44fe1dfd",
       "version_major": 2,
       "version_minor": 0
      },
      "text/plain": [
       "Textarea(value='')"
      ]
     },
     "metadata": {},
     "output_type": "display_data"
    }
   ],
   "source": [
    "# Ref: https://qiita.com/noca/items/00646efd9d4a7302f522\n",
    "from ipywidgets import Textarea\n",
    "import io\n",
    "if 'open' in globals():\n",
    "    del open\n",
    "if 'input' in globals():\n",
    "    del input\n",
    "original_open = open\n",
    "class custom_open():\n",
    "    def __init__(self):\n",
    "        self.text = ''\n",
    "    def __call__(self, file, *args, **kwargs):\n",
    "        if file == 0:\n",
    "            return io.StringIO(self.text)\n",
    "        return original_open(file, *args, **kwargs)\n",
    "    def updater(self, change):\n",
    "        self.text = change[\"new\"]\n",
    "class custom_input():\n",
    "    def __init__(self):\n",
    "        self.__sio = io.StringIO('')\n",
    "        self.shell = get_ipython()\n",
    "        if self.shell.events.callbacks['pre_run_cell'] != []:\n",
    "            self.shell.events.callbacks['pre_run_cell'] = []\n",
    "        self.shell.events.register('pre_run_cell', self.pre_run_cell)\n",
    "    def __call__(self):\n",
    "        return self.__sio.readline().strip()\n",
    "    def pre_run_cell(self, info):\n",
    "        text = self.shell.user_ns.get('text_area', None).value\n",
    "        self.__sio = io.StringIO(text)\n",
    "open = custom_open()\n",
    "input = custom_input()\n",
    "text_area = Textarea()\n",
    "text_area.observe(open.updater, names='value')\n",
    "display(text_area)"
   ]
  },
  {
   "cell_type": "code",
   "execution_count": 11,
   "id": "f125e4c4-f10b-4c64-afe3-d49c560e1ac5",
   "metadata": {},
   "outputs": [
    {
     "name": "stdout",
     "output_type": "stream",
     "text": [
      "[2, 1, 3, 4, 5]\n",
      "[1, 2, 3, 4, 5]\n",
      "[1, 2, 4, 3, 5]\n",
      "[1, 2, 3, 4, 5]\n",
      "[1, 2, 3, 5, 4]\n",
      "1 2 3 5 4\n"
     ]
    }
   ],
   "source": [
    "from collections import defaultdict\n",
    "N,Q=map(int,input().split())\n",
    "X=[int(input()) for _ in range(Q)]\n",
    "\n",
    "A=[]\n",
    "d=defaultdict(int)\n",
    "for i in range(N):\n",
    "    d[i+1]=i\n",
    "    A.append(i+1)\n",
    "    \n",
    "for x in X:\n",
    "    idx=d[x]\n",
    "    if idx==N-1:\n",
    "        nex=idx-1\n",
    "    else:\n",
    "        nex=idx+1\n",
    "    y=A[nex]\n",
    "    A[idx],A[nex]=A[nex],A[idx]\n",
    "    d[x]=nex\n",
    "    d[y]=idx\n",
    "    # print(A)\n",
    "    \n",
    "print(*A)"
   ]
  },
  {
   "cell_type": "code",
   "execution_count": 7,
   "id": "14a6da21-c4f0-4ff1-9282-ee39e72e84d9",
   "metadata": {},
   "outputs": [
    {
     "data": {
      "text/plain": [
       "defaultdict(int, {1: 0, 2: 1, 3: 2, 4: 3, 5: 4})"
      ]
     },
     "execution_count": 7,
     "metadata": {},
     "output_type": "execute_result"
    }
   ],
   "source": [
    "d"
   ]
  },
  {
   "cell_type": "code",
   "execution_count": null,
   "id": "ddafe1a8-af69-434d-a4ec-3c7c95da95d2",
   "metadata": {},
   "outputs": [],
   "source": []
  }
 ],
 "metadata": {
  "kernelspec": {
   "display_name": "Python 3 (ipykernel)",
   "language": "python",
   "name": "python3"
  },
  "language_info": {
   "codemirror_mode": {
    "name": "ipython",
    "version": 3
   },
   "file_extension": ".py",
   "mimetype": "text/x-python",
   "name": "python",
   "nbconvert_exporter": "python",
   "pygments_lexer": "ipython3",
   "version": "3.9.12"
  }
 },
 "nbformat": 4,
 "nbformat_minor": 5
}
