{
 "cells": [
  {
   "cell_type": "code",
   "execution_count": 1,
   "id": "7a260a9a-f1c6-4ded-9c82-45c8952d381a",
   "metadata": {},
   "outputs": [
    {
     "data": {
      "application/vnd.jupyter.widget-view+json": {
       "model_id": "def52af133c64069b9ca16024ee63e43",
       "version_major": 2,
       "version_minor": 0
      },
      "text/plain": [
       "Textarea(value='')"
      ]
     },
     "metadata": {},
     "output_type": "display_data"
    }
   ],
   "source": [
    "# Ref: https://qiita.com/noca/items/00646efd9d4a7302f522\n",
    "from ipywidgets import Textarea\n",
    "import io\n",
    "if 'open' in globals():\n",
    "    del open\n",
    "if 'input' in globals():\n",
    "    del input\n",
    "original_open = open\n",
    "class custom_open():\n",
    "    def __init__(self):\n",
    "        self.text = ''\n",
    "    def __call__(self, file, *args, **kwargs):\n",
    "        if file == 0:\n",
    "            return io.StringIO(self.text)\n",
    "        return original_open(file, *args, **kwargs)\n",
    "    def updater(self, change):\n",
    "        self.text = change[\"new\"]\n",
    "class custom_input():\n",
    "    def __init__(self):\n",
    "        self.__sio = io.StringIO('')\n",
    "        self.shell = get_ipython()\n",
    "        if self.shell.events.callbacks['pre_run_cell'] != []:\n",
    "            self.shell.events.callbacks['pre_run_cell'] = []\n",
    "        self.shell.events.register('pre_run_cell', self.pre_run_cell)\n",
    "    def __call__(self):\n",
    "        return self.__sio.readline().strip()\n",
    "    def pre_run_cell(self, info):\n",
    "        text = self.shell.user_ns.get('text_area', None).value\n",
    "        self.__sio = io.StringIO(text)\n",
    "open = custom_open()\n",
    "input = custom_input()\n",
    "text_area = Textarea()\n",
    "text_area.observe(open.updater, names='value')\n",
    "display(text_area)"
   ]
  },
  {
   "cell_type": "code",
   "execution_count": 57,
   "id": "c61c233c-b8d5-435d-8865-3935668d69ee",
   "metadata": {},
   "outputs": [
    {
     "name": "stdout",
     "output_type": "stream",
     "text": [
      "2978279323\n"
     ]
    }
   ],
   "source": [
    "N=int(input())\n",
    "TXA=[list(map(int,input().split())) for _ in range(N)]\n",
    "\n",
    "dp=[[-1]*5 for _ in range(N+1)]\n",
    "now=0\n",
    "dp[0][0]=0\n",
    "for i in range(N):\n",
    "    t,x,a=TXA[i]\n",
    "    for j in range(5):\n",
    "        if dp[i][j]==-1: continue\n",
    "        if abs(now-t)>=abs(j-x):\n",
    "            dp[i+1][x]=max(dp[i+1][x],dp[i][j]+a,0)\n",
    "        for k in range(abs(now-t)+1):\n",
    "            if j-k>=0:\n",
    "                dp[i+1][j-k]=max(dp[i][j],dp[i+1][j-k])\n",
    "            if j+k<=4:\n",
    "                dp[i+1][j+k]=max(dp[i][j],dp[i+1][j+k])\n",
    "    now=t\n",
    "print(max(dp[N]))"
   ]
  },
  {
   "cell_type": "code",
   "execution_count": 58,
   "id": "9139fc88-01c6-4aec-bcd3-23e76af08638",
   "metadata": {},
   "outputs": [
    {
     "data": {
      "text/plain": [
       "[[0, -1, -1, -1, -1],\n",
       " [0, 0, -1, -1, -1],\n",
       " [0, 623690081, 0, -1, -1],\n",
       " [623690081, 623690081, 623690081, 262703497, -1],\n",
       " [623690081, 623690081, 623690081, 623690081, 891597822],\n",
       " [623690081, 623690081, 623690081, 1342566239, 891597822],\n",
       " [623690081, 785425983, 1342566239, 1342566239, 1342566239],\n",
       " [785425983, 2050290096, 1342566239, 1342566239, 1342566239],\n",
       " [2050290096, 2050290096, 2852619307, 1342566239, 1342566239],\n",
       " [2367353436, 2852619307, 2852619307, 2852619307, 1342566239],\n",
       " [2852619307, 2852619307, 2978279323, 2852619307, 2852619307]]"
      ]
     },
     "execution_count": 58,
     "metadata": {},
     "output_type": "execute_result"
    }
   ],
   "source": [
    "dp"
   ]
  },
  {
   "cell_type": "code",
   "execution_count": null,
   "id": "fd7e0468-96e7-4408-8a97-146f6a494d4d",
   "metadata": {},
   "outputs": [],
   "source": []
  },
  {
   "cell_type": "code",
   "execution_count": 60,
   "id": "bb80faf3-12be-4526-be5a-a97fa564c46c",
   "metadata": {},
   "outputs": [
    {
     "name": "stdout",
     "output_type": "stream",
     "text": [
      "2978279323\n"
     ]
    }
   ],
   "source": [
    "N=int(input())\n",
    "\n",
    "T_max=10**5\n",
    "X=[0]*(T_max+1)\n",
    "A=[0]*(T_max+1)\n",
    "\n",
    "for _ in range(N):\n",
    "    t,x,a=map(int,input().split())\n",
    "    X[t]=x\n",
    "    A[t]=a\n",
    "\n",
    "dp=[[-10**12]*5 for _ in range(T_max+1)]\n",
    "dp[0][0]=0\n",
    "for t in range(1,T_max+1):\n",
    "    for x in range(5):\n",
    "        dp[t][x]=dp[t-1][x]\n",
    "        if x!=0:\n",
    "            dp[t][x]=max(dp[t-1][x-1],dp[t][x])\n",
    "        if x!=4:\n",
    "            dp[t][x]=max(dp[t-1][x+1],dp[t][x])\n",
    "        if x==X[t]:\n",
    "            dp[t][x]+=A[t]\n",
    "print(max(dp[T_max]))"
   ]
  },
  {
   "cell_type": "code",
   "execution_count": null,
   "id": "ee45c60b-94c7-414e-bad6-069602caa3b3",
   "metadata": {},
   "outputs": [],
   "source": []
  }
 ],
 "metadata": {
  "kernelspec": {
   "display_name": "Python 3 (ipykernel)",
   "language": "python",
   "name": "python3"
  },
  "language_info": {
   "codemirror_mode": {
    "name": "ipython",
    "version": 3
   },
   "file_extension": ".py",
   "mimetype": "text/x-python",
   "name": "python",
   "nbconvert_exporter": "python",
   "pygments_lexer": "ipython3",
   "version": "3.9.12"
  }
 },
 "nbformat": 4,
 "nbformat_minor": 5
}
