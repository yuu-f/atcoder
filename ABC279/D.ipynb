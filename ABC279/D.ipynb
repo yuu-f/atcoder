{
 "cells": [
  {
   "cell_type": "code",
   "execution_count": 1,
   "id": "2fc526f1-3a55-421e-8ba2-3a2dc638e16a",
   "metadata": {},
   "outputs": [
    {
     "data": {
      "application/vnd.jupyter.widget-view+json": {
       "model_id": "e482c21943fe4be98db1dc0607cb5cf8",
       "version_major": 2,
       "version_minor": 0
      },
      "text/plain": [
       "Textarea(value='')"
      ]
     },
     "metadata": {},
     "output_type": "display_data"
    }
   ],
   "source": [
    "# Ref: https://qiita.com/noca/items/00646efd9d4a7302f522\n",
    "from ipywidgets import Textarea\n",
    "import io\n",
    "if 'open' in globals():\n",
    "    del open\n",
    "if 'input' in globals():\n",
    "    del input\n",
    "original_open = open\n",
    "class custom_open():\n",
    "    def __init__(self):\n",
    "        self.text = ''\n",
    "    def __call__(self, file, *args, **kwargs):\n",
    "        if file == 0:\n",
    "            return io.StringIO(self.text)\n",
    "        return original_open(file, *args, **kwargs)\n",
    "    def updater(self, change):\n",
    "        self.text = change[\"new\"]\n",
    "class custom_input():\n",
    "    def __init__(self):\n",
    "        self.__sio = io.StringIO('')\n",
    "        self.shell = get_ipython()\n",
    "        if self.shell.events.callbacks['pre_run_cell'] != []:\n",
    "            self.shell.events.callbacks['pre_run_cell'] = []\n",
    "        self.shell.events.register('pre_run_cell', self.pre_run_cell)\n",
    "    def __call__(self):\n",
    "        return self.__sio.readline().strip()\n",
    "    def pre_run_cell(self, info):\n",
    "        text = self.shell.user_ns.get('text_area', None).value\n",
    "        self.__sio = io.StringIO(text)\n",
    "open = custom_open()\n",
    "input = custom_input()\n",
    "text_area = Textarea()\n",
    "text_area.observe(open.updater, names='value')\n",
    "display(text_area)"
   ]
  },
  {
   "cell_type": "code",
   "execution_count": 62,
   "id": "a167d685-e13f-499e-8782-1ea003b432a3",
   "metadata": {},
   "outputs": [
    {
     "name": "stdout",
     "output_type": "stream",
     "text": [
      "8772053214538.598\n"
     ]
    }
   ],
   "source": [
    "import math\n",
    "A,B=map(int,input().split())\n",
    "\n",
    "import numpy as np\n",
    "from scipy import optimize\n",
    "def f(x: int):\n",
    "    if x==0:\n",
    "        return 10**18\n",
    "    return (x-1)*B + A*pow(math.sqrt(x),-1)\n",
    "x_min = optimize.brent(f)\n",
    "\n",
    "_min=10**18\n",
    "for x in range(max(1,int(x_min)-3),int(x_min)+4):\n",
    "    _min=min(_min,(x-1)*B + A*pow(math.sqrt(x),-1))\n",
    "    # print(x,(x-1)*B + A*pow(math.sqrt(x),-1))\n",
    "print(_min)"
   ]
  },
  {
   "cell_type": "code",
   "execution_count": 61,
   "id": "5eab3305-f884-4242-b301-b05f6a948f7f",
   "metadata": {},
   "outputs": [
    {
     "data": {
      "text/plain": [
       "8772053214538.598"
      ]
     },
     "execution_count": 61,
     "metadata": {},
     "output_type": "execute_result"
    }
   ],
   "source": [
    "_min"
   ]
  },
  {
   "cell_type": "code",
   "execution_count": null,
   "id": "cf907f91-9557-4d59-b4b3-2f28ab23fad5",
   "metadata": {},
   "outputs": [],
   "source": [
    "\n",
    "\n"
   ]
  },
  {
   "cell_type": "code",
   "execution_count": 39,
   "id": "bdc8c69b-025d-43ad-89e4-984482033b00",
   "metadata": {},
   "outputs": [
    {
     "data": {
      "text/plain": [
       "29240176960.77315"
      ]
     },
     "execution_count": 39,
     "metadata": {},
     "output_type": "execute_result"
    }
   ],
   "source": [
    "x_min"
   ]
  },
  {
   "cell_type": "code",
   "execution_count": 40,
   "id": "e3391c4e-f673-4442-862c-7e57be7406d4",
   "metadata": {},
   "outputs": [
    {
     "data": {
      "text/plain": [
       "8772053214538.598"
      ]
     },
     "execution_count": 40,
     "metadata": {},
     "output_type": "execute_result"
    }
   ],
   "source": [
    "(x_min-1)*B + A/math.sqrt(x_min)"
   ]
  },
  {
   "cell_type": "code",
   "execution_count": null,
   "id": "c43cc557-843b-467a-9a2e-7b0eb2041e5e",
   "metadata": {},
   "outputs": [],
   "source": []
  }
 ],
 "metadata": {
  "kernelspec": {
   "display_name": "Python 3 (ipykernel)",
   "language": "python",
   "name": "python3"
  },
  "language_info": {
   "codemirror_mode": {
    "name": "ipython",
    "version": 3
   },
   "file_extension": ".py",
   "mimetype": "text/x-python",
   "name": "python",
   "nbconvert_exporter": "python",
   "pygments_lexer": "ipython3",
   "version": "3.9.12"
  }
 },
 "nbformat": 4,
 "nbformat_minor": 5
}
