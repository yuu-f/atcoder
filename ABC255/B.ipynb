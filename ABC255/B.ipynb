{
 "cells": [
  {
   "cell_type": "code",
   "execution_count": 1,
   "id": "dec4f325-34cd-4357-a316-b8b70df02cf1",
   "metadata": {},
   "outputs": [
    {
     "data": {
      "application/vnd.jupyter.widget-view+json": {
       "model_id": "38d3e7d8f24544d1915b783e7df76d39",
       "version_major": 2,
       "version_minor": 0
      },
      "text/plain": [
       "Textarea(value='')"
      ]
     },
     "metadata": {},
     "output_type": "display_data"
    }
   ],
   "source": [
    "# Ref: https://qiita.com/noca/items/00646efd9d4a7302f522\n",
    "from ipywidgets import Textarea\n",
    "import io\n",
    "if 'open' in globals():\n",
    "    del open\n",
    "if 'input' in globals():\n",
    "    del input\n",
    "original_open = open\n",
    "class custom_open():\n",
    "    def __init__(self):\n",
    "        self.text = ''\n",
    "    def __call__(self, file, *args, **kwargs):\n",
    "        if file == 0:\n",
    "            return io.StringIO(self.text)\n",
    "        return original_open(file, *args, **kwargs)\n",
    "    def updater(self, change):\n",
    "        self.text = change[\"new\"]\n",
    "class custom_input():\n",
    "    def __init__(self):\n",
    "        self.__sio = io.StringIO('')\n",
    "        self.shell = get_ipython()\n",
    "        if self.shell.events.callbacks['pre_run_cell'] != []:\n",
    "            self.shell.events.callbacks['pre_run_cell'] = []\n",
    "        self.shell.events.register('pre_run_cell', self.pre_run_cell)\n",
    "    def __call__(self):\n",
    "        return self.__sio.readline().strip()\n",
    "    def pre_run_cell(self, info):\n",
    "        text = self.shell.user_ns.get('text_area', None).value\n",
    "        self.__sio = io.StringIO(text)\n",
    "open = custom_open()\n",
    "input = custom_input()\n",
    "text_area = Textarea()\n",
    "text_area.observe(open.updater, names='value')\n",
    "display(text_area)"
   ]
  },
  {
   "cell_type": "code",
   "execution_count": 49,
   "id": "8b7b17d1-eb8c-472c-9ee6-68782a5aa709",
   "metadata": {},
   "outputs": [
    {
     "name": "stdout",
     "output_type": "stream",
     "text": [
      "130379.28045897477\n"
     ]
    }
   ],
   "source": [
    "import math,sys\n",
    "N,K=map(int,input().split())\n",
    "A=list(map(int,input().split()))\n",
    "XY=[list(map(int,input().split())) for _ in range(N)]\n",
    "\n",
    "dis=[10**20]*N\n",
    "for a in A:\n",
    "    x0,y0=XY[a-1]\n",
    "    dis[a-1]=0\n",
    "    for j in range(N):\n",
    "        if j+1 in A:continue\n",
    "        x1,y1=XY[j]\n",
    "        dis[j]=min(dis[j],math.sqrt((x1-x0)**2+(y1-y0)**2))\n",
    "        \n",
    "print(max(dis))"
   ]
  },
  {
   "cell_type": "code",
   "execution_count": 46,
   "id": "fac514b5-d1dc-456a-b0d7-231835de3d4e",
   "metadata": {},
   "outputs": [
    {
     "data": {
      "text/plain": [
       "[191936.31544082533,\n",
       " 57698.59461893331,\n",
       " 33316.166676254936,\n",
       " 110281.62365961068,\n",
       " 130379.28045897477,\n",
       " 114476.39233483907,\n",
       " 37165.78848887778,\n",
       " 67931.09274846093,\n",
       " 141013.09082493014,\n",
       " 65558.39946948065,\n",
       " 77464.5957841387,\n",
       " 167195.2454168479,\n",
       " 152509.98852862066,\n",
       " 171902.8587691316,\n",
       " 100287.60843194935]"
      ]
     },
     "execution_count": 46,
     "metadata": {},
     "output_type": "execute_result"
    }
   ],
   "source": [
    "dis"
   ]
  },
  {
   "cell_type": "code",
   "execution_count": null,
   "id": "3b309477-e147-4512-8952-cd54711e8a1d",
   "metadata": {},
   "outputs": [],
   "source": []
  }
 ],
 "metadata": {
  "kernelspec": {
   "display_name": "Python 3 (ipykernel)",
   "language": "python",
   "name": "python3"
  },
  "language_info": {
   "codemirror_mode": {
    "name": "ipython",
    "version": 3
   },
   "file_extension": ".py",
   "mimetype": "text/x-python",
   "name": "python",
   "nbconvert_exporter": "python",
   "pygments_lexer": "ipython3",
   "version": "3.9.12"
  }
 },
 "nbformat": 4,
 "nbformat_minor": 5
}
