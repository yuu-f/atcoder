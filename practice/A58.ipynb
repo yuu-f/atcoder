{
 "cells": [
  {
   "cell_type": "code",
   "execution_count": 1,
   "id": "e8f32dc9-cecb-4220-b224-10830ebd3a90",
   "metadata": {
    "tags": []
   },
   "outputs": [
    {
     "data": {
      "application/vnd.jupyter.widget-view+json": {
       "model_id": "6cbed7f0947848d789269a5155110dc9",
       "version_major": 2,
       "version_minor": 0
      },
      "text/plain": [
       "Textarea(value='')"
      ]
     },
     "metadata": {},
     "output_type": "display_data"
    }
   ],
   "source": [
    "# Ref: https://qiita.com/noca/items/00646efd9d4a7302f522\n",
    "from ipywidgets import Textarea\n",
    "import io\n",
    "if 'open' in globals():\n",
    "    del open\n",
    "if 'input' in globals():\n",
    "    del input\n",
    "original_open = open\n",
    "class custom_open():\n",
    "    def __init__(self):\n",
    "        self.text = ''\n",
    "    def __call__(self, file, *args, **kwargs):\n",
    "        if file == 0:\n",
    "            return io.StringIO(self.text)\n",
    "        return original_open(file, *args, **kwargs)\n",
    "    def updater(self, change):\n",
    "        self.text = change[\"new\"]\n",
    "class custom_input():\n",
    "    def __init__(self):\n",
    "        self.__sio = io.StringIO('')\n",
    "        self.shell = get_ipython()\n",
    "        if self.shell.events.callbacks['pre_run_cell'] != []:\n",
    "            self.shell.events.callbacks['pre_run_cell'] = []\n",
    "        self.shell.events.register('pre_run_cell', self.pre_run_cell)\n",
    "    def __call__(self):\n",
    "        return self.__sio.readline().strip()\n",
    "    def pre_run_cell(self, info):\n",
    "        text = self.shell.user_ns.get('text_area', None).value\n",
    "        self.__sio = io.StringIO(text)\n",
    "open = custom_open()\n",
    "input = custom_input()\n",
    "text_area = Textarea()\n",
    "text_area.observe(open.updater, names='value')\n",
    "display(text_area)"
   ]
  },
  {
   "cell_type": "code",
   "execution_count": 68,
   "id": "64b2e419-8784-466e-9524-17ce20a1e79e",
   "metadata": {
    "tags": []
   },
   "outputs": [
    {
     "name": "stdout",
     "output_type": "stream",
     "text": [
      "0\n",
      "13\n"
     ]
    }
   ],
   "source": [
    "# セグメント木で管理する関数\n",
    "# モノイドある必要がある\n",
    "def segfunc(x, y):\n",
    "    return max(x,y)\n",
    "\n",
    "class SegTree:\n",
    "    # N: 要素数, INF: 初期値\n",
    "    def __init__(self, segfunc, N: int, INF: int):\n",
    "        # セグメント木の要素数\n",
    "        n0 = 1 << ((N-1).bit_length())\n",
    "        self.offset = n0\n",
    "        self.data = [INF] * (n0 << 1)\n",
    "        \n",
    "        self.segfunc = segfunc\n",
    "        self.INF = INF\n",
    "    \n",
    "    # インデックス pos の値を x に更新\n",
    "    # pos: 0-indexed\n",
    "    # x: 更新する値\n",
    "    def update(self, pos, x):\n",
    "        # 実際のデータは最下段のインデックス [n0,2*n0) に入る\n",
    "        # pos に対応するセグメント木の要素のインデックスは pos + self.offset\n",
    "        pos += self.offset\n",
    "        # 更新処理\n",
    "        self.data[pos] = x\n",
    "        # 親を更新していく\n",
    "        while pos > 1:\n",
    "            # 左シフトして親のインデックスを求める\n",
    "            pos >>= 1\n",
    "            # pos の子に対して segfunc を適用\n",
    "            self.data[pos] = self.segfunc(self.data[pos<<1], self.data[pos<<1 | 1])\n",
    "    \n",
    "    # 区間 [l,r) に segfunc を適用する処理\n",
    "    # l, r: 0-indexed\n",
    "    def query(self, l, r):\n",
    "        result = self.INF\n",
    "        # 最下段の要素のインデックス\n",
    "        l = l + self.offset\n",
    "        r = r + self.offset\n",
    "        # 最下段の左と右の外側から、親を辿って範囲を狭めながら segfunc を適用していく\n",
    "        while l < r:\n",
    "            if l & 1:\n",
    "                # 左端のブロックを調べる\n",
    "                result = self.segfunc(result, self.data[l])\n",
    "                # 右のブロックへ\n",
    "                l += 1\n",
    "            if r & 1:\n",
    "                # 左のブロックを調べる\n",
    "                result = self.segfunc(result, self.data[r-1])\n",
    "            # 親ブロックへ移動\n",
    "            l >>= 1\n",
    "            r >>= 1\n",
    "        \n",
    "        return result\n",
    "\n",
    "N,Q=map(int,input().split())\n",
    "Queries=[list(map(int,input().split())) for _ in range(Q)]\n",
    "\n",
    "sg = SegTree(segfunc, N, 0)\n",
    "\n",
    "for q,a,b in Queries:\n",
    "    a-=1\n",
    "    if q==1:\n",
    "        sg.update(a,b)\n",
    "    else:\n",
    "        b-=1\n",
    "        res=sg.query(a,b)\n",
    "        print(res)"
   ]
  },
  {
   "cell_type": "code",
   "execution_count": null,
   "id": "baed3f6d-c932-46de-bdf1-e788e602f957",
   "metadata": {},
   "outputs": [],
   "source": []
  },
  {
   "cell_type": "code",
   "execution_count": null,
   "id": "4e70c5c4-beec-4229-8c5e-918759c5b614",
   "metadata": {},
   "outputs": [],
   "source": []
  }
 ],
 "metadata": {
  "kernelspec": {
   "display_name": "Python 3 (ipykernel)",
   "language": "python",
   "name": "python3"
  },
  "language_info": {
   "codemirror_mode": {
    "name": "ipython",
    "version": 3
   },
   "file_extension": ".py",
   "mimetype": "text/x-python",
   "name": "python",
   "nbconvert_exporter": "python",
   "pygments_lexer": "ipython3",
   "version": "3.9.12"
  }
 },
 "nbformat": 4,
 "nbformat_minor": 5
}
