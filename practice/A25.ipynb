{
 "cells": [
  {
   "cell_type": "code",
   "execution_count": 1,
   "id": "e8f32dc9-cecb-4220-b224-10830ebd3a90",
   "metadata": {
    "tags": []
   },
   "outputs": [
    {
     "data": {
      "application/vnd.jupyter.widget-view+json": {
       "model_id": "84efff5d4a314b3f8716eb0f1656bec7",
       "version_major": 2,
       "version_minor": 0
      },
      "text/plain": [
       "Textarea(value='')"
      ]
     },
     "metadata": {},
     "output_type": "display_data"
    }
   ],
   "source": [
    "# Ref: https://qiita.com/noca/items/00646efd9d4a7302f522\n",
    "from ipywidgets import Textarea\n",
    "import io\n",
    "if 'open' in globals():\n",
    "    del open\n",
    "if 'input' in globals():\n",
    "    del input\n",
    "original_open = open\n",
    "class custom_open():\n",
    "    def __init__(self):\n",
    "        self.text = ''\n",
    "    def __call__(self, file, *args, **kwargs):\n",
    "        if file == 0:\n",
    "            return io.StringIO(self.text)\n",
    "        return original_open(file, *args, **kwargs)\n",
    "    def updater(self, change):\n",
    "        self.text = change[\"new\"]\n",
    "class custom_input():\n",
    "    def __init__(self):\n",
    "        self.__sio = io.StringIO('')\n",
    "        self.shell = get_ipython()\n",
    "        if self.shell.events.callbacks['pre_run_cell'] != []:\n",
    "            self.shell.events.callbacks['pre_run_cell'] = []\n",
    "        self.shell.events.register('pre_run_cell', self.pre_run_cell)\n",
    "    def __call__(self):\n",
    "        return self.__sio.readline().strip()\n",
    "    def pre_run_cell(self, info):\n",
    "        text = self.shell.user_ns.get('text_area', None).value\n",
    "        self.__sio = io.StringIO(text)\n",
    "open = custom_open()\n",
    "input = custom_input()\n",
    "text_area = Textarea()\n",
    "text_area.observe(open.updater, names='value')\n",
    "display(text_area)"
   ]
  },
  {
   "cell_type": "code",
   "execution_count": 51,
   "id": "64b2e419-8784-466e-9524-17ce20a1e79e",
   "metadata": {
    "tags": []
   },
   "outputs": [
    {
     "name": "stdout",
     "output_type": "stream",
     "text": [
      "30067266499541040\n"
     ]
    }
   ],
   "source": [
    "h,w=map(int,input().split())\n",
    "c=[\"\"]*(h+1)\n",
    "for i in range(w+1):\n",
    "    c[0]+='+'\n",
    "for i in range(1,h+1):\n",
    "    c[i]='+'+input()\n",
    "\n",
    "dp=[[0]*(w+1) for _ in range(h+1)]\n",
    "dp[1][1]=1\n",
    "for y in range(1,h+1):\n",
    "    for x in range(1,1+w):\n",
    "        if c[y][x]=='#':\n",
    "            continue\n",
    "        if c[y][x-1]=='.' and c[y-1][x]=='.':\n",
    "            dp[y][x]=dp[y][x-1]+dp[y-1][x]\n",
    "            continue\n",
    "        if c[y][x-1]=='.':\n",
    "            dp[y][x]=dp[y][x-1]\n",
    "            continue\n",
    "        if c[y-1][x]=='.':\n",
    "            dp[y][x]=dp[y-1][x]\n",
    "            continue\n",
    "print(dp[h][w])"
   ]
  },
  {
   "cell_type": "code",
   "execution_count": 47,
   "id": "97c0c353-cd9e-4dd1-b65b-2432f51fa4b5",
   "metadata": {},
   "outputs": [
    {
     "data": {
      "text/plain": [
       "['+++++++++', '+.....#..', '+........', '+..#...#.', '+#.......']"
      ]
     },
     "execution_count": 47,
     "metadata": {},
     "output_type": "execute_result"
    }
   ],
   "source": [
    "c"
   ]
  },
  {
   "cell_type": "code",
   "execution_count": 48,
   "id": "230d3ad8-b40d-45a2-8c39-cb9c2c1cc527",
   "metadata": {},
   "outputs": [
    {
     "data": {
      "text/plain": [
       "[[0, 0, 0, 0, 0, 0, 0, 0, 0],\n",
       " [0, 1, 1, 1, 1, 1, 0, 0, 0],\n",
       " [0, 1, 2, 3, 4, 5, 5, 5, 5],\n",
       " [0, 1, 3, 0, 4, 9, 14, 0, 5],\n",
       " [0, 0, 3, 3, 7, 16, 30, 30, 35]]"
      ]
     },
     "execution_count": 48,
     "metadata": {},
     "output_type": "execute_result"
    }
   ],
   "source": [
    "dp"
   ]
  },
  {
   "cell_type": "code",
   "execution_count": null,
   "id": "43dcccb3-1048-45b6-a5fd-4a672ea76cb2",
   "metadata": {},
   "outputs": [],
   "source": []
  },
  {
   "cell_type": "code",
   "execution_count": null,
   "id": "2191698a-07da-4cdf-aef2-8808c829f560",
   "metadata": {},
   "outputs": [],
   "source": []
  }
 ],
 "metadata": {
  "kernelspec": {
   "display_name": "Python 3 (ipykernel)",
   "language": "python",
   "name": "python3"
  },
  "language_info": {
   "codemirror_mode": {
    "name": "ipython",
    "version": 3
   },
   "file_extension": ".py",
   "mimetype": "text/x-python",
   "name": "python",
   "nbconvert_exporter": "python",
   "pygments_lexer": "ipython3",
   "version": "3.9.12"
  }
 },
 "nbformat": 4,
 "nbformat_minor": 5
}
