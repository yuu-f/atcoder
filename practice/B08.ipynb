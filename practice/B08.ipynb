{
 "cells": [
  {
   "cell_type": "code",
   "execution_count": 1,
   "id": "e8f32dc9-cecb-4220-b224-10830ebd3a90",
   "metadata": {},
   "outputs": [
    {
     "data": {
      "application/vnd.jupyter.widget-view+json": {
       "model_id": "8f8b1e137f214bc182201d2bafc948e9",
       "version_major": 2,
       "version_minor": 0
      },
      "text/plain": [
       "Textarea(value='')"
      ]
     },
     "metadata": {},
     "output_type": "display_data"
    }
   ],
   "source": [
    "# Ref: https://qiita.com/noca/items/00646efd9d4a7302f522\n",
    "from ipywidgets import Textarea\n",
    "import io\n",
    "\n",
    "if 'open' in globals():\n",
    "    del open\n",
    "if 'input' in globals():\n",
    "    del input\n",
    "\n",
    "original_open = open\n",
    "\n",
    "class custom_open():\n",
    "    def __init__(self):\n",
    "        self.text = ''\n",
    "\n",
    "    def __call__(self, file, *args, **kwargs):\n",
    "        if file == 0:\n",
    "            return io.StringIO(self.text)\n",
    "        return original_open(file, *args, **kwargs)\n",
    "\n",
    "    def updater(self, change):\n",
    "        self.text = change[\"new\"]\n",
    "\n",
    "class custom_input():\n",
    "    def __init__(self):\n",
    "        self.__sio = io.StringIO('')\n",
    "        self.shell = get_ipython()\n",
    "        if self.shell.events.callbacks['pre_run_cell'] != []:\n",
    "            self.shell.events.callbacks['pre_run_cell'] = []\n",
    "        self.shell.events.register('pre_run_cell', self.pre_run_cell)\n",
    "\n",
    "    def __call__(self):\n",
    "        return self.__sio.readline().strip()\n",
    "\n",
    "    def pre_run_cell(self, info):\n",
    "        text = self.shell.user_ns.get('text_area', None).value\n",
    "        self.__sio = io.StringIO(text)\n",
    "\n",
    "open = custom_open()\n",
    "input = custom_input()\n",
    "\n",
    "text_area = Textarea()\n",
    "text_area.observe(open.updater, names='value')\n",
    "display(text_area)"
   ]
  },
  {
   "cell_type": "code",
   "execution_count": 31,
   "id": "e3e79270-b50a-41d7-a728-08749dc5ca0e",
   "metadata": {},
   "outputs": [
    {
     "name": "stdout",
     "output_type": "stream",
     "text": [
      "5\n",
      "2\n",
      "4\n"
     ]
    }
   ],
   "source": [
    "n=int(input())\n",
    "x=[0]*(n+1)\n",
    "y=[0]*(n+1)\n",
    "for i in range(1,n+1):\n",
    "    x[i],y[i]=map(int,input().split())\n",
    "q=int(input())\n",
    "a=[0]*(q+1)\n",
    "b=[0]*(q+1)\n",
    "c=[0]*(q+1)\n",
    "d=[0]*(q+1)\n",
    "for i in range(1,q+1):\n",
    "    a[i],b[i],c[i],d[i]=map(int,input().split())\n",
    "\n",
    "s=[[0]*1501 for _ in range(1501)]\n",
    "\n",
    "for i in range(1,n+1):\n",
    "    s[y[i]][x[i]]+=1\n",
    "\n",
    "# x方向の累積和\n",
    "sx=[[0]*1501 for _ in range(1501)]\n",
    "for i in range(1,1501):\n",
    "    for j in range(1,1501):\n",
    "        sx[i][j]=sx[i][j-1]+s[i][j]\n",
    "\n",
    "# y方向の累積和\n",
    "sxy=[[0]*1501 for _ in range(1501)]\n",
    "for i in range(1,1501):\n",
    "    for j in range(1,1501):\n",
    "        sxy[j][i]=sxy[j-1][i]+sx[j][i]\n",
    "\n",
    "for i in range(1,q+1):\n",
    "    ans=sxy[d[i]][c[i]]+sxy[b[i]-1][a[i]-1]-sxy[d[i]][a[i]-1]-sxy[b[i]-1][c[i]]\n",
    "    print(ans)"
   ]
  },
  {
   "cell_type": "code",
   "execution_count": 27,
   "id": "64b2e419-8784-466e-9524-17ce20a1e79e",
   "metadata": {},
   "outputs": [
    {
     "data": {
      "text/plain": [
       "[[0, 0, 0, 0, 0, 0, 0],\n",
       " [0, 0, 0, 0, 0, 0, 0],\n",
       " [0, 0, 0, 0, 0, 0, 0],\n",
       " [0, 1, 0, 1, 0, 0, 0],\n",
       " [0, 0, 0, 1, 0, 0, 0],\n",
       " [0, 0, 1, 0, 0, 0, 0],\n",
       " [0, 0, 1, 0, 0, 0, 0]]"
      ]
     },
     "execution_count": 27,
     "metadata": {},
     "output_type": "execute_result"
    }
   ],
   "source": [
    "s"
   ]
  },
  {
   "cell_type": "code",
   "execution_count": 28,
   "id": "eeed2a77-58a9-48a5-af16-990f13692b63",
   "metadata": {},
   "outputs": [
    {
     "data": {
      "text/plain": [
       "[[0, 0, 0, 0, 0, 0, 0],\n",
       " [0, 0, 0, 0, 0, 0, 0],\n",
       " [0, 0, 0, 0, 0, 0, 0],\n",
       " [0, 1, 1, 2, 2, 2, 2],\n",
       " [0, 0, 0, 1, 1, 1, 1],\n",
       " [0, 0, 1, 1, 1, 1, 1],\n",
       " [0, 0, 1, 1, 1, 1, 1]]"
      ]
     },
     "execution_count": 28,
     "metadata": {},
     "output_type": "execute_result"
    }
   ],
   "source": [
    "sx"
   ]
  },
  {
   "cell_type": "code",
   "execution_count": 29,
   "id": "b4981371-a93d-429c-88ae-44b01aeb20ef",
   "metadata": {},
   "outputs": [
    {
     "data": {
      "text/plain": [
       "[[0, 0, 0, 0, 0, 0, 0],\n",
       " [0, 0, 0, 0, 0, 0, 0],\n",
       " [0, 0, 0, 0, 0, 0, 0],\n",
       " [0, 1, 1, 2, 2, 2, 2],\n",
       " [0, 1, 1, 3, 3, 3, 3],\n",
       " [0, 1, 2, 4, 4, 4, 4],\n",
       " [0, 1, 3, 5, 5, 5, 5]]"
      ]
     },
     "execution_count": 29,
     "metadata": {},
     "output_type": "execute_result"
    }
   ],
   "source": [
    "sxy"
   ]
  },
  {
   "cell_type": "code",
   "execution_count": null,
   "id": "fc874aa2-1100-41fd-a26c-c513b27bc736",
   "metadata": {},
   "outputs": [],
   "source": []
  }
 ],
 "metadata": {
  "kernelspec": {
   "display_name": "Python 3 (ipykernel)",
   "language": "python",
   "name": "python3"
  },
  "language_info": {
   "codemirror_mode": {
    "name": "ipython",
    "version": 3
   },
   "file_extension": ".py",
   "mimetype": "text/x-python",
   "name": "python",
   "nbconvert_exporter": "python",
   "pygments_lexer": "ipython3",
   "version": "3.9.12"
  }
 },
 "nbformat": 4,
 "nbformat_minor": 5
}
