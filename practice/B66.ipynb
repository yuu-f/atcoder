{
 "cells": [
  {
   "cell_type": "code",
   "execution_count": 1,
   "id": "e8f32dc9-cecb-4220-b224-10830ebd3a90",
   "metadata": {
    "tags": []
   },
   "outputs": [
    {
     "data": {
      "application/vnd.jupyter.widget-view+json": {
       "model_id": "d56ddaeb687b4b4299c22a83b24f175c",
       "version_major": 2,
       "version_minor": 0
      },
      "text/plain": [
       "Textarea(value='')"
      ]
     },
     "metadata": {},
     "output_type": "display_data"
    }
   ],
   "source": [
    "# Ref: https://qiita.com/noca/items/00646efd9d4a7302f522\n",
    "from ipywidgets import Textarea\n",
    "import io\n",
    "if 'open' in globals():\n",
    "    del open\n",
    "if 'input' in globals():\n",
    "    del input\n",
    "original_open = open\n",
    "class custom_open():\n",
    "    def __init__(self):\n",
    "        self.text = ''\n",
    "    def __call__(self, file, *args, **kwargs):\n",
    "        if file == 0:\n",
    "            return io.StringIO(self.text)\n",
    "        return original_open(file, *args, **kwargs)\n",
    "    def updater(self, change):\n",
    "        self.text = change[\"new\"]\n",
    "class custom_input():\n",
    "    def __init__(self):\n",
    "        self.__sio = io.StringIO('')\n",
    "        self.shell = get_ipython()\n",
    "        if self.shell.events.callbacks['pre_run_cell'] != []:\n",
    "            self.shell.events.callbacks['pre_run_cell'] = []\n",
    "        self.shell.events.register('pre_run_cell', self.pre_run_cell)\n",
    "    def __call__(self):\n",
    "        return self.__sio.readline().strip()\n",
    "    def pre_run_cell(self, info):\n",
    "        text = self.shell.user_ns.get('text_area', None).value\n",
    "        self.__sio = io.StringIO(text)\n",
    "open = custom_open()\n",
    "input = custom_input()\n",
    "text_area = Textarea()\n",
    "text_area.observe(open.updater, names='value')\n",
    "display(text_area)"
   ]
  },
  {
   "cell_type": "code",
   "execution_count": 65,
   "id": "4812b191-f29d-4537-8856-681804810ba2",
   "metadata": {},
   "outputs": [
    {
     "name": "stdout",
     "output_type": "stream",
     "text": [
      "Yes\n",
      "Yes\n",
      "Yes\n",
      "Yes\n",
      "No\n",
      "No\n"
     ]
    }
   ],
   "source": [
    "# Union-Find 木\n",
    "class unionfind:\n",
    "    # n 頂点の Union-Find 木を作成\n",
    "    # （ここでは頂点番号が 1-indexed になるように実装しているが、0-indexed の場合は par, size のサイズは n でよい）\n",
    "    def __init__(self, n):\n",
    "        self.n = n\n",
    "        self.par = [ -1 ] * (n + 1) # 最初は親が無い\n",
    "        self.size = [ 1 ] * (n + 1) # 最初はグループの頂点数が 1\n",
    "\n",
    "    # 頂点 x の根を返す関数\n",
    "    def root(self, x):\n",
    "        # 1 個先（親）がなくなる（つまり根に到達する）まで、1 個先（親）に進み続ける\n",
    "        while self.par[x] != -1:\n",
    "            x = self.par[x]\n",
    "        return x\n",
    "\n",
    "    # 要素 u, v を統合する関数\n",
    "    def unite(self, u, v):\n",
    "        rootu = self.root(u)\n",
    "        rootv = self.root(v)\n",
    "        if rootu != rootv:\n",
    "            # u と v が異なるグループのときのみ処理を行う\n",
    "            if self.size[rootu] < self.size[rootv]:\n",
    "                self.par[rootu] = rootv\n",
    "                self.size[rootv] += self.size[rootu]\n",
    "            else:\n",
    "                self.par[rootv] = rootu\n",
    "                self.size[rootu] += self.size[rootv]\n",
    "    \n",
    "    #  要素 u と v が同一のグループかどうかを返す関数\n",
    "    def same(self, u, v):\n",
    "        return self.root(u) == self.root(v)\n",
    "    \n",
    "    def out_par(self):\n",
    "        return self.par\n",
    "\n",
    "N,M=map(int,input().split())\n",
    "AB=[list(map(int,input().split())) for _ in range(M)]\n",
    "Q=int(input())\n",
    "Queries=[list(map(int,input().split())) for _ in range(Q)]\n",
    "\n",
    "last=[True]*M\n",
    "for q in Queries:\n",
    "    if q[0]==1:\n",
    "        last[q[1]-1]=False\n",
    "\n",
    "uf=unionfind(N)\n",
    "for i in range(M):\n",
    "    if last[i]:\n",
    "        uf.unite(AB[i][0],AB[i][1])\n",
    "ans=[]\n",
    "for q in reversed(Queries):\n",
    "    if q[0]==1:\n",
    "        uf.unite(AB[q[1]-1][0],AB[q[1]-1][1])\n",
    "    else:\n",
    "        if uf.same(q[1],q[2]):\n",
    "            ans.append(\"Yes\")\n",
    "        else:\n",
    "            ans.append(\"No\")\n",
    "\n",
    "for flag in reversed(ans):     \n",
    "    print(flag)"
   ]
  },
  {
   "cell_type": "code",
   "execution_count": 60,
   "id": "dca96ffb-5065-4c3d-95e2-c2a62f560f78",
   "metadata": {},
   "outputs": [
    {
     "data": {
      "text/plain": [
       "[True, False, True]"
      ]
     },
     "execution_count": 60,
     "metadata": {},
     "output_type": "execute_result"
    }
   ],
   "source": [
    "last"
   ]
  },
  {
   "cell_type": "code",
   "execution_count": 61,
   "id": "db33aa92-9aea-40ad-9c61-5854107ed03a",
   "metadata": {},
   "outputs": [
    {
     "data": {
      "text/plain": [
       "[-1, -1, 1, 1, 3]"
      ]
     },
     "execution_count": 61,
     "metadata": {},
     "output_type": "execute_result"
    }
   ],
   "source": [
    "uf.out_par()"
   ]
  },
  {
   "cell_type": "code",
   "execution_count": 62,
   "id": "7048fd52-28a0-45f4-b5a6-459ded781b73",
   "metadata": {},
   "outputs": [
    {
     "data": {
      "text/plain": [
       "[True, False, True]"
      ]
     },
     "execution_count": 62,
     "metadata": {},
     "output_type": "execute_result"
    }
   ],
   "source": [
    "last"
   ]
  },
  {
   "cell_type": "code",
   "execution_count": 63,
   "id": "f38a4bd9-df82-49e9-a611-470c81774f88",
   "metadata": {},
   "outputs": [
    {
     "data": {
      "text/plain": [
       "['No', 'No', 'Yes', 'Yes', 'Yes', 'Yes']"
      ]
     },
     "execution_count": 63,
     "metadata": {},
     "output_type": "execute_result"
    }
   ],
   "source": [
    "ans"
   ]
  },
  {
   "cell_type": "code",
   "execution_count": null,
   "id": "549d1dfc-8b4b-48bf-8a14-f084962bfd42",
   "metadata": {},
   "outputs": [],
   "source": []
  },
  {
   "cell_type": "code",
   "execution_count": null,
   "id": "1045c262-3927-4403-b4cb-91ae6440eafb",
   "metadata": {},
   "outputs": [],
   "source": []
  },
  {
   "cell_type": "code",
   "execution_count": null,
   "id": "d7e27f23-23ad-4bc6-986b-1cc09e6b65f3",
   "metadata": {},
   "outputs": [],
   "source": []
  }
 ],
 "metadata": {
  "kernelspec": {
   "display_name": "Python 3 (ipykernel)",
   "language": "python",
   "name": "python3"
  },
  "language_info": {
   "codemirror_mode": {
    "name": "ipython",
    "version": 3
   },
   "file_extension": ".py",
   "mimetype": "text/x-python",
   "name": "python",
   "nbconvert_exporter": "python",
   "pygments_lexer": "ipython3",
   "version": "3.9.12"
  }
 },
 "nbformat": 4,
 "nbformat_minor": 5
}
