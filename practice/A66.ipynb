{
 "cells": [
  {
   "cell_type": "code",
   "execution_count": 1,
   "id": "e8f32dc9-cecb-4220-b224-10830ebd3a90",
   "metadata": {
    "tags": []
   },
   "outputs": [
    {
     "data": {
      "application/vnd.jupyter.widget-view+json": {
       "model_id": "6749b7abe26b4b8db31b8e7b3b66d696",
       "version_major": 2,
       "version_minor": 0
      },
      "text/plain": [
       "Textarea(value='')"
      ]
     },
     "metadata": {},
     "output_type": "display_data"
    }
   ],
   "source": [
    "# Ref: https://qiita.com/noca/items/00646efd9d4a7302f522\n",
    "from ipywidgets import Textarea\n",
    "import io\n",
    "if 'open' in globals():\n",
    "    del open\n",
    "if 'input' in globals():\n",
    "    del input\n",
    "original_open = open\n",
    "class custom_open():\n",
    "    def __init__(self):\n",
    "        self.text = ''\n",
    "    def __call__(self, file, *args, **kwargs):\n",
    "        if file == 0:\n",
    "            return io.StringIO(self.text)\n",
    "        return original_open(file, *args, **kwargs)\n",
    "    def updater(self, change):\n",
    "        self.text = change[\"new\"]\n",
    "class custom_input():\n",
    "    def __init__(self):\n",
    "        self.__sio = io.StringIO('')\n",
    "        self.shell = get_ipython()\n",
    "        if self.shell.events.callbacks['pre_run_cell'] != []:\n",
    "            self.shell.events.callbacks['pre_run_cell'] = []\n",
    "        self.shell.events.register('pre_run_cell', self.pre_run_cell)\n",
    "    def __call__(self):\n",
    "        return self.__sio.readline().strip()\n",
    "    def pre_run_cell(self, info):\n",
    "        text = self.shell.user_ns.get('text_area', None).value\n",
    "        self.__sio = io.StringIO(text)\n",
    "open = custom_open()\n",
    "input = custom_input()\n",
    "text_area = Textarea()\n",
    "text_area.observe(open.updater, names='value')\n",
    "display(text_area)"
   ]
  },
  {
   "cell_type": "code",
   "execution_count": 8,
   "id": "4812b191-f29d-4537-8856-681804810ba2",
   "metadata": {},
   "outputs": [
    {
     "name": "stdout",
     "output_type": "stream",
     "text": [
      "No\n",
      "Yes\n"
     ]
    }
   ],
   "source": [
    "# Union-Find 木\n",
    "class unionfind:\n",
    "\t# n 頂点の Union-Find 木を作成\n",
    "\t# （ここでは頂点番号が 1-indexed になるように実装しているが、0-indexed の場合は par, size のサイズは n でよい）\n",
    "\tdef __init__(self, n):\n",
    "\t\tself.n = n\n",
    "\t\tself.par = [ -1 ] * (n + 1) # 最初は親が無い\n",
    "\t\tself.size = [ 1 ] * (n + 1) # 最初はグループの頂点数が 1\n",
    "\t\n",
    "\t# 頂点 x の根を返す関数\n",
    "\tdef root(self, x):\n",
    "\t\t# 1 個先（親）がなくなる（つまり根に到達する）まで、1 個先（親）に進み続ける\n",
    "\t\twhile self.par[x] != -1:\n",
    "\t\t\tx = self.par[x]\n",
    "\t\treturn x\n",
    "\t\n",
    "\t# 要素 u, v を統合する関数\n",
    "\tdef unite(self, u, v):\n",
    "\t\trootu = self.root(u)\n",
    "\t\trootv = self.root(v)\n",
    "\t\tif rootu != rootv:\n",
    "\t\t\t# u と v が異なるグループのときのみ処理を行う\n",
    "\t\t\tif self.size[rootu] < self.size[rootv]:\n",
    "\t\t\t\tself.par[rootu] = rootv\n",
    "\t\t\t\tself.size[rootv] += self.size[rootu]\n",
    "\t\t\telse:\n",
    "\t\t\t\tself.par[rootv] = rootu\n",
    "\t\t\t\tself.size[rootu] += self.size[rootv]\n",
    "\t\n",
    "\t#  要素 u と v が同一のグループかどうかを返す関数\n",
    "\tdef same(self, u, v):\n",
    "\t\treturn self.root(u) == self.root(v)\n",
    "\n",
    "\n",
    "N,Q=map(int,input().split())\n",
    "Queries=[list(map(int,input().split())) for _ in range(Q)]\n",
    "\n",
    "uf = unionfind(N)\n",
    "for tp, u, v in Queries:\n",
    "    if tp==1:\n",
    "        uf.unite(u,v)\n",
    "    else:\n",
    "        if uf.same(u,v):\n",
    "            print(\"Yes\")\n",
    "        else:\n",
    "            print(\"No\")"
   ]
  },
  {
   "cell_type": "code",
   "execution_count": null,
   "id": "dca96ffb-5065-4c3d-95e2-c2a62f560f78",
   "metadata": {},
   "outputs": [],
   "source": []
  }
 ],
 "metadata": {
  "kernelspec": {
   "display_name": "Python 3 (ipykernel)",
   "language": "python",
   "name": "python3"
  },
  "language_info": {
   "codemirror_mode": {
    "name": "ipython",
    "version": 3
   },
   "file_extension": ".py",
   "mimetype": "text/x-python",
   "name": "python",
   "nbconvert_exporter": "python",
   "pygments_lexer": "ipython3",
   "version": "3.9.12"
  }
 },
 "nbformat": 4,
 "nbformat_minor": 5
}
