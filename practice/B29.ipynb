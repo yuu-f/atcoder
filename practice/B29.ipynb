{
 "cells": [
  {
   "cell_type": "code",
   "execution_count": 1,
   "id": "e8f32dc9-cecb-4220-b224-10830ebd3a90",
   "metadata": {
    "tags": []
   },
   "outputs": [
    {
     "data": {
      "application/vnd.jupyter.widget-view+json": {
       "model_id": "4bdbd15464e34c3fb6fd20a29d63ef22",
       "version_major": 2,
       "version_minor": 0
      },
      "text/plain": [
       "Textarea(value='')"
      ]
     },
     "metadata": {},
     "output_type": "display_data"
    }
   ],
   "source": [
    "# Ref: https://qiita.com/noca/items/00646efd9d4a7302f522\n",
    "from ipywidgets import Textarea\n",
    "import io\n",
    "if 'open' in globals():\n",
    "    del open\n",
    "if 'input' in globals():\n",
    "    del input\n",
    "original_open = open\n",
    "class custom_open():\n",
    "    def __init__(self):\n",
    "        self.text = ''\n",
    "    def __call__(self, file, *args, **kwargs):\n",
    "        if file == 0:\n",
    "            return io.StringIO(self.text)\n",
    "        return original_open(file, *args, **kwargs)\n",
    "    def updater(self, change):\n",
    "        self.text = change[\"new\"]\n",
    "class custom_input():\n",
    "    def __init__(self):\n",
    "        self.__sio = io.StringIO('')\n",
    "        self.shell = get_ipython()\n",
    "        if self.shell.events.callbacks['pre_run_cell'] != []:\n",
    "            self.shell.events.callbacks['pre_run_cell'] = []\n",
    "        self.shell.events.register('pre_run_cell', self.pre_run_cell)\n",
    "    def __call__(self):\n",
    "        return self.__sio.readline().strip()\n",
    "    def pre_run_cell(self, info):\n",
    "        text = self.shell.user_ns.get('text_area', None).value\n",
    "        self.__sio = io.StringIO(text)\n",
    "open = custom_open()\n",
    "input = custom_input()\n",
    "text_area = Textarea()\n",
    "text_area.observe(open.updater, names='value')\n",
    "display(text_area)"
   ]
  },
  {
   "cell_type": "code",
   "execution_count": 8,
   "id": "64b2e419-8784-466e-9524-17ce20a1e79e",
   "metadata": {
    "tags": []
   },
   "outputs": [
    {
     "name": "stdout",
     "output_type": "stream",
     "text": [
      "3599437\n"
     ]
    }
   ],
   "source": [
    "A,B=map(int,input().split())\n",
    "\n",
    "l=[]\n",
    "k=[1,A]\n",
    "for i in range(70):\n",
    "    if B&(1<<i):\n",
    "        l.append(i)\n",
    "    if i>=2:\n",
    "        k.append((k[i-1]*k[i-1])%1000000007)\n",
    "ans=1\n",
    "for i in range(len(l)):\n",
    "    # print(l[i])\n",
    "    ans=(ans*k[l[i]+1])%1000000007\n",
    "print(ans)"
   ]
  },
  {
   "cell_type": "code",
   "execution_count": 6,
   "id": "2191698a-07da-4cdf-aef2-8808c829f560",
   "metadata": {},
   "outputs": [
    {
     "data": {
      "text/plain": [
       "216"
      ]
     },
     "execution_count": 6,
     "metadata": {},
     "output_type": "execute_result"
    }
   ],
   "source": [
    "ans"
   ]
  },
  {
   "cell_type": "code",
   "execution_count": 7,
   "id": "83188b38-9a05-4618-b2e6-ce2ce3b2f021",
   "metadata": {},
   "outputs": [
    {
     "data": {
      "text/plain": [
       "[1,\n",
       " 6,\n",
       " 36,\n",
       " 1296,\n",
       " 1679616,\n",
       " 109887709,\n",
       " 504741525,\n",
       " 275977590,\n",
       " 649062697,\n",
       " 687937142,\n",
       " 30325608,\n",
       " 494132170,\n",
       " 719742707,\n",
       " 653480929,\n",
       " 577441794,\n",
       " 123865275,\n",
       " 243427383,\n",
       " 379430459,\n",
       " 209178377,\n",
       " 98064978,\n",
       " 842823311,\n",
       " 592544825,\n",
       " 176515056,\n",
       " 776580188,\n",
       " 172577856,\n",
       " 173074924,\n",
       " 107921273,\n",
       " 84411522,\n",
       " 996479356,\n",
       " 983377043,\n",
       " 930211042,\n",
       " 601677732,\n",
       " 650551194,\n",
       " 52307665,\n",
       " 798599588,\n",
       " 489440665,\n",
       " 878777091,\n",
       " 260678091,\n",
       " 651732819,\n",
       " 388397113,\n",
       " 330768557,\n",
       " 534007390,\n",
       " 578464870,\n",
       " 481765679,\n",
       " 837643872,\n",
       " 387621627,\n",
       " 666373461,\n",
       " 416743419,\n",
       " 64084029,\n",
       " 744125507,\n",
       " 291947687,\n",
       " 348015812,\n",
       " 554214316,\n",
       " 909273321,\n",
       " 494923279,\n",
       " 381468491,\n",
       " 607189625,\n",
       " 126885959,\n",
       " 478649359,\n",
       " 267374432,\n",
       " 386899022,\n",
       " 176720520,\n",
       " 970459413,\n",
       " 687764314,\n",
       " 300752360,\n",
       " 412405733,\n",
       " 420717880,\n",
       " 312669669,\n",
       " 228233314,\n",
       " 254789481]"
      ]
     },
     "execution_count": 7,
     "metadata": {},
     "output_type": "execute_result"
    }
   ],
   "source": [
    "k"
   ]
  },
  {
   "cell_type": "code",
   "execution_count": null,
   "id": "0e13977f-0e65-4751-9acc-dce19b8aa93e",
   "metadata": {},
   "outputs": [],
   "source": []
  }
 ],
 "metadata": {
  "kernelspec": {
   "display_name": "Python 3 (ipykernel)",
   "language": "python",
   "name": "python3"
  },
  "language_info": {
   "codemirror_mode": {
    "name": "ipython",
    "version": 3
   },
   "file_extension": ".py",
   "mimetype": "text/x-python",
   "name": "python",
   "nbconvert_exporter": "python",
   "pygments_lexer": "ipython3",
   "version": "3.9.12"
  }
 },
 "nbformat": 4,
 "nbformat_minor": 5
}
