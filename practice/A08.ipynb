{
 "cells": [
  {
   "cell_type": "code",
   "execution_count": 1,
   "id": "e8f32dc9-cecb-4220-b224-10830ebd3a90",
   "metadata": {},
   "outputs": [
    {
     "data": {
      "application/vnd.jupyter.widget-view+json": {
       "model_id": "38476efc0ea0424caa2664a4e92030de",
       "version_major": 2,
       "version_minor": 0
      },
      "text/plain": [
       "Textarea(value='')"
      ]
     },
     "metadata": {},
     "output_type": "display_data"
    }
   ],
   "source": [
    "# Ref: https://qiita.com/noca/items/00646efd9d4a7302f522\n",
    "from ipywidgets import Textarea\n",
    "import io\n",
    "\n",
    "if 'open' in globals():\n",
    "    del open\n",
    "if 'input' in globals():\n",
    "    del input\n",
    "\n",
    "original_open = open\n",
    "\n",
    "class custom_open():\n",
    "    def __init__(self):\n",
    "        self.text = ''\n",
    "\n",
    "    def __call__(self, file, *args, **kwargs):\n",
    "        if file == 0:\n",
    "            return io.StringIO(self.text)\n",
    "        return original_open(file, *args, **kwargs)\n",
    "\n",
    "    def updater(self, change):\n",
    "        self.text = change[\"new\"]\n",
    "\n",
    "class custom_input():\n",
    "    def __init__(self):\n",
    "        self.__sio = io.StringIO('')\n",
    "        self.shell = get_ipython()\n",
    "        if self.shell.events.callbacks['pre_run_cell'] != []:\n",
    "            self.shell.events.callbacks['pre_run_cell'] = []\n",
    "        self.shell.events.register('pre_run_cell', self.pre_run_cell)\n",
    "\n",
    "    def __call__(self):\n",
    "        return self.__sio.readline().strip()\n",
    "\n",
    "    def pre_run_cell(self, info):\n",
    "        text = self.shell.user_ns.get('text_area', None).value\n",
    "        self.__sio = io.StringIO(text)\n",
    "\n",
    "open = custom_open()\n",
    "input = custom_input()\n",
    "\n",
    "text_area = Textarea()\n",
    "text_area.observe(open.updater, names='value')\n",
    "display(text_area)"
   ]
  },
  {
   "cell_type": "code",
   "execution_count": 49,
   "id": "e3e79270-b50a-41d7-a728-08749dc5ca0e",
   "metadata": {},
   "outputs": [
    {
     "name": "stdout",
     "output_type": "stream",
     "text": [
      "25\n",
      "56\n"
     ]
    }
   ],
   "source": [
    "h,w=map(int,input().split())\n",
    "x=[0]*(h)\n",
    "for i in range(h):\n",
    "    x[i]=list(map(int,input().split()))\n",
    "q=int(input())\n",
    "abcd=[0]*q\n",
    "for i in range(q):\n",
    "    abcd[i]=list(map(int,input().split()))\n",
    "\n",
    "sx=[[0]*(w+1) for _ in range(h+1)]\n",
    "for i in range(1,h+1):\n",
    "    for j in range(1,w+1):\n",
    "        sx[i][j]=sx[i][j-1]+x[i-1][j-1]\n",
    "        \n",
    "sxy=[[0]*(w+1) for _ in range(h+1)]\n",
    "for i in range(1,h+1):\n",
    "    for j in range(1,w+1):\n",
    "        sxy[i][j]=sxy[i-1][j]+sx[i][j]\n",
    "for i in range(q):\n",
    "    ans=sxy[abcd[i][2]][abcd[i][3]]+sxy[abcd[i][0]-1][abcd[i][1]-1]-sxy[abcd[i][2]][abcd[i][1]-1]-sxy[abcd[i][0]-1][abcd[i][3]]\n",
    "    print(ans)"
   ]
  },
  {
   "cell_type": "code",
   "execution_count": 50,
   "id": "1642794f-81d9-4561-aac3-788ddbb9dc8b",
   "metadata": {},
   "outputs": [
    {
     "data": {
      "text/plain": [
       "[[0, 0, 0, 0, 0, 0],\n",
       " [0, 2, 2, 2, 7, 8],\n",
       " [0, 1, 1, 4, 4, 4],\n",
       " [0, 0, 8, 13, 13, 15],\n",
       " [0, 4, 5, 5, 5, 11],\n",
       " [0, 0, 9, 11, 18, 18]]"
      ]
     },
     "execution_count": 50,
     "metadata": {},
     "output_type": "execute_result"
    }
   ],
   "source": [
    "sx"
   ]
  },
  {
   "cell_type": "code",
   "execution_count": 51,
   "id": "04800b3d-92cc-419e-83a6-dced8c3519b5",
   "metadata": {},
   "outputs": [
    {
     "data": {
      "text/plain": [
       "[[0, 0, 0, 0, 0, 0],\n",
       " [0, 2, 2, 2, 7, 8],\n",
       " [0, 3, 3, 6, 11, 12],\n",
       " [0, 3, 11, 19, 24, 27],\n",
       " [0, 7, 16, 24, 29, 38],\n",
       " [0, 7, 25, 35, 47, 56]]"
      ]
     },
     "execution_count": 51,
     "metadata": {},
     "output_type": "execute_result"
    }
   ],
   "source": [
    "sxy"
   ]
  },
  {
   "cell_type": "code",
   "execution_count": null,
   "id": "64b2e419-8784-466e-9524-17ce20a1e79e",
   "metadata": {},
   "outputs": [],
   "source": []
  }
 ],
 "metadata": {
  "kernelspec": {
   "display_name": "Python 3 (ipykernel)",
   "language": "python",
   "name": "python3"
  },
  "language_info": {
   "codemirror_mode": {
    "name": "ipython",
    "version": 3
   },
   "file_extension": ".py",
   "mimetype": "text/x-python",
   "name": "python",
   "nbconvert_exporter": "python",
   "pygments_lexer": "ipython3",
   "version": "3.9.12"
  }
 },
 "nbformat": 4,
 "nbformat_minor": 5
}
