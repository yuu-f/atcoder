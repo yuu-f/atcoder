{
 "cells": [
  {
   "cell_type": "code",
   "execution_count": 53,
   "id": "e8f32dc9-cecb-4220-b224-10830ebd3a90",
   "metadata": {
    "tags": []
   },
   "outputs": [
    {
     "data": {
      "application/vnd.jupyter.widget-view+json": {
       "model_id": "87fda4f2bb65455b93c3fc762450798c",
       "version_major": 2,
       "version_minor": 0
      },
      "text/plain": [
       "Textarea(value='')"
      ]
     },
     "metadata": {},
     "output_type": "display_data"
    }
   ],
   "source": [
    "# Ref: https://qiita.com/noca/items/00646efd9d4a7302f522\n",
    "from ipywidgets import Textarea\n",
    "import io\n",
    "if 'open' in globals():\n",
    "    del open\n",
    "if 'input' in globals():\n",
    "    del input\n",
    "original_open = open\n",
    "class custom_open():\n",
    "    def __init__(self):\n",
    "        self.text = ''\n",
    "    def __call__(self, file, *args, **kwargs):\n",
    "        if file == 0:\n",
    "            return io.StringIO(self.text)\n",
    "        return original_open(file, *args, **kwargs)\n",
    "    def updater(self, change):\n",
    "        self.text = change[\"new\"]\n",
    "class custom_input():\n",
    "    def __init__(self):\n",
    "        self.__sio = io.StringIO('')\n",
    "        self.shell = get_ipython()\n",
    "        if self.shell.events.callbacks['pre_run_cell'] != []:\n",
    "            self.shell.events.callbacks['pre_run_cell'] = []\n",
    "        self.shell.events.register('pre_run_cell', self.pre_run_cell)\n",
    "    def __call__(self):\n",
    "        return self.__sio.readline().strip()\n",
    "    def pre_run_cell(self, info):\n",
    "        text = self.shell.user_ns.get('text_area', None).value\n",
    "        self.__sio = io.StringIO(text)\n",
    "open = custom_open()\n",
    "input = custom_input()\n",
    "text_area = Textarea()\n",
    "text_area.observe(open.updater, names='value')\n",
    "display(text_area)"
   ]
  },
  {
   "cell_type": "code",
   "execution_count": 153,
   "id": "64b2e419-8784-466e-9524-17ce20a1e79e",
   "metadata": {
    "tags": []
   },
   "outputs": [
    {
     "name": "stdout",
     "output_type": "stream",
     "text": [
      "-1\n"
     ]
    }
   ],
   "source": [
    "n,m=map(int,input().split())\n",
    "a=[[0]*(n+1) for i in range(m+1)]\n",
    "for i in range(1,m+1):\n",
    "    a[i]=[0]+list(map(int,input().split()))\n",
    "m_max=200\n",
    "dp=[[m_max]*(2**n) for _ in range(m+1)]\n",
    "\n",
    "dp[0][0]=0\n",
    "for y in range(1,m+1):\n",
    "    for x in range(0,1<<n):\n",
    "        bit=[None]*(n)\n",
    "        for k in range(n):\n",
    "            if x&(1<<k)==0:\n",
    "                bit[k]=0\n",
    "            else:\n",
    "                bit[k]=1\n",
    "        \n",
    "        v=0\n",
    "        for k in range(n):\n",
    "            if bit[k]==1 or a[y][k+1]==1:\n",
    "                v+=(1<<k)\n",
    "        dp[y][x]=min(dp[y][x],dp[y-1][x])\n",
    "        dp[y][v]=min(dp[y][v],dp[y-1][x]+1)\n",
    "        # print(y,x,bit,bin(v))\n",
    "        # for k in range(m+1):\n",
    "        #     print(dp[k])\n",
    "        # print(\"----\")\n",
    "            \n",
    "if dp[m][2**n-1]==m_max:\n",
    "    print(-1)\n",
    "else:\n",
    "    print(dp[m][2**n-1])"
   ]
  },
  {
   "cell_type": "code",
   "execution_count": 148,
   "id": "97c0c353-cd9e-4dd1-b65b-2432f51fa4b5",
   "metadata": {},
   "outputs": [
    {
     "data": {
      "text/plain": [
       "[[0, 200, 200, 200, 200, 200, 200, 200],\n",
       " [0, 200, 1, 200, 200, 200, 200, 200],\n",
       " [0, 200, 1, 200, 200, 200, 200, 200],\n",
       " [0, 1, 1, 2, 200, 200, 200, 200],\n",
       " [0, 1, 1, 1, 200, 200, 200, 200]]"
      ]
     },
     "execution_count": 148,
     "metadata": {},
     "output_type": "execute_result"
    }
   ],
   "source": [
    "dp"
   ]
  },
  {
   "cell_type": "code",
   "execution_count": 125,
   "id": "230d3ad8-b40d-45a2-8c39-cb9c2c1cc527",
   "metadata": {},
   "outputs": [
    {
     "data": {
      "text/plain": [
       "1"
      ]
     },
     "execution_count": 125,
     "metadata": {},
     "output_type": "execute_result"
    }
   ],
   "source": [
    "a[1][3]"
   ]
  },
  {
   "cell_type": "code",
   "execution_count": null,
   "id": "43dcccb3-1048-45b6-a5fd-4a672ea76cb2",
   "metadata": {},
   "outputs": [],
   "source": []
  }
 ],
 "metadata": {
  "kernelspec": {
   "display_name": "Python 3 (ipykernel)",
   "language": "python",
   "name": "python3"
  },
  "language_info": {
   "codemirror_mode": {
    "name": "ipython",
    "version": 3
   },
   "file_extension": ".py",
   "mimetype": "text/x-python",
   "name": "python",
   "nbconvert_exporter": "python",
   "pygments_lexer": "ipython3",
   "version": "3.9.12"
  }
 },
 "nbformat": 4,
 "nbformat_minor": 5
}
