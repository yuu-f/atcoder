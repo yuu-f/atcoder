{
 "cells": [
  {
   "cell_type": "code",
   "execution_count": 1,
   "id": "e8f32dc9-cecb-4220-b224-10830ebd3a90",
   "metadata": {
    "tags": []
   },
   "outputs": [
    {
     "data": {
      "application/vnd.jupyter.widget-view+json": {
       "model_id": "c69cd2857fac453db5badefe51d2e9c1",
       "version_major": 2,
       "version_minor": 0
      },
      "text/plain": [
       "Textarea(value='')"
      ]
     },
     "metadata": {},
     "output_type": "display_data"
    }
   ],
   "source": [
    "# Ref: https://qiita.com/noca/items/00646efd9d4a7302f522\n",
    "from ipywidgets import Textarea\n",
    "import io\n",
    "if 'open' in globals():\n",
    "    del open\n",
    "if 'input' in globals():\n",
    "    del input\n",
    "original_open = open\n",
    "class custom_open():\n",
    "    def __init__(self):\n",
    "        self.text = ''\n",
    "    def __call__(self, file, *args, **kwargs):\n",
    "        if file == 0:\n",
    "            return io.StringIO(self.text)\n",
    "        return original_open(file, *args, **kwargs)\n",
    "    def updater(self, change):\n",
    "        self.text = change[\"new\"]\n",
    "class custom_input():\n",
    "    def __init__(self):\n",
    "        self.__sio = io.StringIO('')\n",
    "        self.shell = get_ipython()\n",
    "        if self.shell.events.callbacks['pre_run_cell'] != []:\n",
    "            self.shell.events.callbacks['pre_run_cell'] = []\n",
    "        self.shell.events.register('pre_run_cell', self.pre_run_cell)\n",
    "    def __call__(self):\n",
    "        return self.__sio.readline().strip()\n",
    "    def pre_run_cell(self, info):\n",
    "        text = self.shell.user_ns.get('text_area', None).value\n",
    "        self.__sio = io.StringIO(text)\n",
    "open = custom_open()\n",
    "input = custom_input()\n",
    "text_area = Textarea()\n",
    "text_area.observe(open.updater, names='value')\n",
    "display(text_area)"
   ]
  },
  {
   "cell_type": "code",
   "execution_count": 5,
   "id": "64b2e419-8784-466e-9524-17ce20a1e79e",
   "metadata": {
    "tags": []
   },
   "outputs": [
    {
     "name": "stdout",
     "output_type": "stream",
     "text": [
      "2\n",
      "1\n",
      "3\n",
      "6\n"
     ]
    }
   ],
   "source": [
    "N,Q=map(int,input().split())\n",
    "A=list(map(int,input().split()))\n",
    "Queries=[list(map(int,input().split())) for _ in range(Q)]\n",
    "\n",
    "dp=[[0]*(N+1) for _ in range(30)]\n",
    "dp[0]=[0]+A\n",
    "for y in range(1,30):\n",
    "    for i in range(N+1):\n",
    "        dp[y][i]=dp[y-1][dp[y-1][i]]\n",
    "\n",
    "for q in Queries:\n",
    "    c = q[0]\n",
    "    for k in range(30):\n",
    "        if q[1] & (1<<k):\n",
    "            c=dp[k][c]\n",
    "    print(c)"
   ]
  },
  {
   "cell_type": "code",
   "execution_count": 6,
   "id": "baed3f6d-c932-46de-bdf1-e788e602f957",
   "metadata": {},
   "outputs": [
    {
     "data": {
      "text/plain": [
       "[[0, 2, 4, 1, 7, 6, 5, 3],\n",
       " [0, 4, 7, 2, 3, 5, 6, 1],\n",
       " [0, 3, 1, 7, 2, 5, 6, 4],\n",
       " [0, 7, 3, 4, 1, 5, 6, 2],\n",
       " [0, 2, 4, 1, 7, 5, 6, 3],\n",
       " [0, 4, 7, 2, 3, 5, 6, 1],\n",
       " [0, 3, 1, 7, 2, 5, 6, 4],\n",
       " [0, 7, 3, 4, 1, 5, 6, 2],\n",
       " [0, 2, 4, 1, 7, 5, 6, 3],\n",
       " [0, 4, 7, 2, 3, 5, 6, 1],\n",
       " [0, 3, 1, 7, 2, 5, 6, 4],\n",
       " [0, 7, 3, 4, 1, 5, 6, 2],\n",
       " [0, 2, 4, 1, 7, 5, 6, 3],\n",
       " [0, 4, 7, 2, 3, 5, 6, 1],\n",
       " [0, 3, 1, 7, 2, 5, 6, 4],\n",
       " [0, 7, 3, 4, 1, 5, 6, 2],\n",
       " [0, 2, 4, 1, 7, 5, 6, 3],\n",
       " [0, 4, 7, 2, 3, 5, 6, 1],\n",
       " [0, 3, 1, 7, 2, 5, 6, 4],\n",
       " [0, 7, 3, 4, 1, 5, 6, 2],\n",
       " [0, 2, 4, 1, 7, 5, 6, 3],\n",
       " [0, 4, 7, 2, 3, 5, 6, 1],\n",
       " [0, 3, 1, 7, 2, 5, 6, 4],\n",
       " [0, 7, 3, 4, 1, 5, 6, 2],\n",
       " [0, 2, 4, 1, 7, 5, 6, 3],\n",
       " [0, 4, 7, 2, 3, 5, 6, 1],\n",
       " [0, 3, 1, 7, 2, 5, 6, 4],\n",
       " [0, 7, 3, 4, 1, 5, 6, 2],\n",
       " [0, 2, 4, 1, 7, 5, 6, 3],\n",
       " [0, 4, 7, 2, 3, 5, 6, 1]]"
      ]
     },
     "execution_count": 6,
     "metadata": {},
     "output_type": "execute_result"
    }
   ],
   "source": [
    "dp"
   ]
  },
  {
   "cell_type": "code",
   "execution_count": 7,
   "id": "27e92dcc-ea07-4e7b-a5b2-cb1ff80d498c",
   "metadata": {},
   "outputs": [
    {
     "data": {
      "text/plain": [
       "[[1, 1], [1, 5], [2, 13], [5, 999999999]]"
      ]
     },
     "execution_count": 7,
     "metadata": {},
     "output_type": "execute_result"
    }
   ],
   "source": [
    "Queries"
   ]
  },
  {
   "cell_type": "code",
   "execution_count": 8,
   "id": "6b2477d6-968b-43f6-9b13-e55ce68e6702",
   "metadata": {},
   "outputs": [
    {
     "data": {
      "text/plain": [
       "[2, 4, 1, 7, 6, 5, 3]"
      ]
     },
     "execution_count": 8,
     "metadata": {},
     "output_type": "execute_result"
    }
   ],
   "source": [
    "A"
   ]
  },
  {
   "cell_type": "code",
   "execution_count": null,
   "id": "85d3b3ea-53a9-4cb8-b732-ff9680f9933e",
   "metadata": {},
   "outputs": [],
   "source": []
  }
 ],
 "metadata": {
  "kernelspec": {
   "display_name": "Python 3 (ipykernel)",
   "language": "python",
   "name": "python3"
  },
  "language_info": {
   "codemirror_mode": {
    "name": "ipython",
    "version": 3
   },
   "file_extension": ".py",
   "mimetype": "text/x-python",
   "name": "python",
   "nbconvert_exporter": "python",
   "pygments_lexer": "ipython3",
   "version": "3.9.12"
  }
 },
 "nbformat": 4,
 "nbformat_minor": 5
}
