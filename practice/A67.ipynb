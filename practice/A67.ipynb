{
 "cells": [
  {
   "cell_type": "code",
   "execution_count": 1,
   "id": "e8f32dc9-cecb-4220-b224-10830ebd3a90",
   "metadata": {
    "tags": []
   },
   "outputs": [
    {
     "data": {
      "application/vnd.jupyter.widget-view+json": {
       "model_id": "3700c69a471d471f98f391173b720b1c",
       "version_major": 2,
       "version_minor": 0
      },
      "text/plain": [
       "Textarea(value='')"
      ]
     },
     "metadata": {},
     "output_type": "display_data"
    }
   ],
   "source": [
    "# Ref: https://qiita.com/noca/items/00646efd9d4a7302f522\n",
    "from ipywidgets import Textarea\n",
    "import io\n",
    "if 'open' in globals():\n",
    "    del open\n",
    "if 'input' in globals():\n",
    "    del input\n",
    "original_open = open\n",
    "class custom_open():\n",
    "    def __init__(self):\n",
    "        self.text = ''\n",
    "    def __call__(self, file, *args, **kwargs):\n",
    "        if file == 0:\n",
    "            return io.StringIO(self.text)\n",
    "        return original_open(file, *args, **kwargs)\n",
    "    def updater(self, change):\n",
    "        self.text = change[\"new\"]\n",
    "class custom_input():\n",
    "    def __init__(self):\n",
    "        self.__sio = io.StringIO('')\n",
    "        self.shell = get_ipython()\n",
    "        if self.shell.events.callbacks['pre_run_cell'] != []:\n",
    "            self.shell.events.callbacks['pre_run_cell'] = []\n",
    "        self.shell.events.register('pre_run_cell', self.pre_run_cell)\n",
    "    def __call__(self):\n",
    "        return self.__sio.readline().strip()\n",
    "    def pre_run_cell(self, info):\n",
    "        text = self.shell.user_ns.get('text_area', None).value\n",
    "        self.__sio = io.StringIO(text)\n",
    "open = custom_open()\n",
    "input = custom_input()\n",
    "text_area = Textarea()\n",
    "text_area.observe(open.updater, names='value')\n",
    "display(text_area)"
   ]
  },
  {
   "cell_type": "code",
   "execution_count": 12,
   "id": "4812b191-f29d-4537-8856-681804810ba2",
   "metadata": {},
   "outputs": [
    {
     "name": "stdout",
     "output_type": "stream",
     "text": [
      "55\n"
     ]
    }
   ],
   "source": [
    "import heapq\n",
    "\n",
    "# Union-Find 木\n",
    "class unionfind:\n",
    "    # n 頂点の Union-Find 木を作成\n",
    "    # （ここでは頂点番号が 1-indexed になるように実装しているが、0-indexed の場合は par, size のサイズは n でよい）\n",
    "    def __init__(self, n):\n",
    "        self.n = n\n",
    "        self.par = [ -1 ] * (n + 1) # 最初は親が無い\n",
    "        self.size = [ 1 ] * (n + 1) # 最初はグループの頂点数が 1\n",
    "\n",
    "    # 頂点 x の根を返す関数\n",
    "    def root(self, x):\n",
    "        # 1 個先（親）がなくなる（つまり根に到達する）まで、1 個先（親）に進み続ける\n",
    "        while self.par[x] != -1:\n",
    "            x = self.par[x]\n",
    "        return x\n",
    "\n",
    "    # 要素 u, v を統合する関数\n",
    "    def unite(self, u, v):\n",
    "        rootu = self.root(u)\n",
    "        rootv = self.root(v)\n",
    "        if rootu != rootv:\n",
    "            # u と v が異なるグループのときのみ処理を行う\n",
    "            if self.size[rootu] < self.size[rootv]:\n",
    "                self.par[rootu] = rootv\n",
    "                self.size[rootv] += self.size[rootu]\n",
    "            else:\n",
    "                self.par[rootv] = rootu\n",
    "                self.size[rootu] += self.size[rootv]\n",
    "    \n",
    "    #  要素 u と v が同一のグループかどうかを返す関数\n",
    "    def same(self, u, v):\n",
    "        return self.root(u) == self.root(v)\n",
    "    \n",
    "    def out_par(self):\n",
    "        return self.par\n",
    "    \n",
    "N,M=map(int,input().split())\n",
    "x=[None]*M\n",
    "for i in range(M):\n",
    "    a,b,c=map(int,input().split())\n",
    "    x[i]=[c,a,b]\n",
    "\n",
    "heapq.heapify(x)\n",
    "uf=unionfind(N)\n",
    "ans=0\n",
    "while len(x)>=1:\n",
    "    l,u,v=heapq.heappop(x)\n",
    "    if uf.same(u,v):\n",
    "        continue\n",
    "    else:\n",
    "        uf.unite(u,v)\n",
    "        ans+=l \n",
    "print(ans)     "
   ]
  },
  {
   "cell_type": "code",
   "execution_count": 8,
   "id": "dca96ffb-5065-4c3d-95e2-c2a62f560f78",
   "metadata": {},
   "outputs": [
    {
     "data": {
      "text/plain": [
       "[[1, 2, 12],\n",
       " [1, 3, 10],\n",
       " [2, 6, 160],\n",
       " [2, 7, 15],\n",
       " [3, 4, 1],\n",
       " [3, 5, 4],\n",
       " [4, 5, 3],\n",
       " [4, 6, 120],\n",
       " [6, 7, 14]]"
      ]
     },
     "execution_count": 8,
     "metadata": {},
     "output_type": "execute_result"
    }
   ],
   "source": [
    "ABC"
   ]
  },
  {
   "cell_type": "code",
   "execution_count": 9,
   "id": "3c64d502-dc12-4bde-87d2-ddae3409888c",
   "metadata": {},
   "outputs": [
    {
     "data": {
      "text/plain": [
       "[[1, 3, 4],\n",
       " [10, 1, 3],\n",
       " [3, 4, 5],\n",
       " [14, 6, 7],\n",
       " [12, 1, 2],\n",
       " [4, 3, 5],\n",
       " [160, 2, 6],\n",
       " [120, 4, 6],\n",
       " [15, 2, 7]]"
      ]
     },
     "execution_count": 9,
     "metadata": {},
     "output_type": "execute_result"
    }
   ],
   "source": [
    "X"
   ]
  },
  {
   "cell_type": "code",
   "execution_count": 11,
   "id": "753fc1fe-db68-47bf-b4ca-69932cc368fa",
   "metadata": {},
   "outputs": [
    {
     "data": {
      "text/plain": [
       "55"
      ]
     },
     "execution_count": 11,
     "metadata": {},
     "output_type": "execute_result"
    }
   ],
   "source": [
    "ans"
   ]
  },
  {
   "cell_type": "code",
   "execution_count": null,
   "id": "2efddfe3-cf66-4a5e-8261-4494322adba4",
   "metadata": {},
   "outputs": [],
   "source": []
  }
 ],
 "metadata": {
  "kernelspec": {
   "display_name": "Python 3 (ipykernel)",
   "language": "python",
   "name": "python3"
  },
  "language_info": {
   "codemirror_mode": {
    "name": "ipython",
    "version": 3
   },
   "file_extension": ".py",
   "mimetype": "text/x-python",
   "name": "python",
   "nbconvert_exporter": "python",
   "pygments_lexer": "ipython3",
   "version": "3.9.12"
  }
 },
 "nbformat": 4,
 "nbformat_minor": 5
}
