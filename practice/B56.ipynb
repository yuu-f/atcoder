{
 "cells": [
  {
   "cell_type": "code",
   "execution_count": 1,
   "id": "e8f32dc9-cecb-4220-b224-10830ebd3a90",
   "metadata": {
    "tags": []
   },
   "outputs": [
    {
     "data": {
      "application/vnd.jupyter.widget-view+json": {
       "model_id": "25476e2ba31448b59aa34dbcb6de3b96",
       "version_major": 2,
       "version_minor": 0
      },
      "text/plain": [
       "Textarea(value='')"
      ]
     },
     "metadata": {},
     "output_type": "display_data"
    }
   ],
   "source": [
    "# Ref: https://qiita.com/noca/items/00646efd9d4a7302f522\n",
    "from ipywidgets import Textarea\n",
    "import io\n",
    "if 'open' in globals():\n",
    "    del open\n",
    "if 'input' in globals():\n",
    "    del input\n",
    "original_open = open\n",
    "class custom_open():\n",
    "    def __init__(self):\n",
    "        self.text = ''\n",
    "    def __call__(self, file, *args, **kwargs):\n",
    "        if file == 0:\n",
    "            return io.StringIO(self.text)\n",
    "        return original_open(file, *args, **kwargs)\n",
    "    def updater(self, change):\n",
    "        self.text = change[\"new\"]\n",
    "class custom_input():\n",
    "    def __init__(self):\n",
    "        self.__sio = io.StringIO('')\n",
    "        self.shell = get_ipython()\n",
    "        if self.shell.events.callbacks['pre_run_cell'] != []:\n",
    "            self.shell.events.callbacks['pre_run_cell'] = []\n",
    "        self.shell.events.register('pre_run_cell', self.pre_run_cell)\n",
    "    def __call__(self):\n",
    "        return self.__sio.readline().strip()\n",
    "    def pre_run_cell(self, info):\n",
    "        text = self.shell.user_ns.get('text_area', None).value\n",
    "        self.__sio = io.StringIO(text)\n",
    "open = custom_open()\n",
    "input = custom_input()\n",
    "text_area = Textarea()\n",
    "text_area.observe(open.updater, names='value')\n",
    "display(text_area)"
   ]
  },
  {
   "cell_type": "code",
   "execution_count": 8,
   "id": "64b2e419-8784-466e-9524-17ce20a1e79e",
   "metadata": {
    "tags": []
   },
   "outputs": [
    {
     "name": "stdout",
     "output_type": "stream",
     "text": [
      "Yes\n",
      "No\n",
      "Yes\n"
     ]
    }
   ],
   "source": [
    "class RollingHash():\n",
    "    # 任意の基数と法でハッシュを生成する\n",
    "    def __init__(self, S: str, b=3491 , MOD=999999937):\n",
    "        N = len(S)\n",
    "        self.MOD = MOD\n",
    "        self.b = b\n",
    "        \n",
    "        # S[1,i] のハッシュ値 h[1,i] を計算 (i=0,1,2,...,N-1)\n",
    "        self.h = [0] * (N+1)\n",
    "        for i in range(N):\n",
    "            # ord(c) で文字 c の Unicode を取得\n",
    "            c = ord(S[i])\n",
    "            # S[1,i] は文字列 S[1,i-1] の後ろに c=S[i] を追加した値\n",
    "            self.h[i+1] = (self.h[i] * b + c) % self.MOD\n",
    "            \n",
    "        # b の累乗を前計算して格納しておく\n",
    "        self.power = [None] * (N+1)\n",
    "        self.power[0] = 1\n",
    "        for i in range(N):\n",
    "            self.power[i+1] = self.power[i] * self.b % MOD\n",
    "    \n",
    "    # S[l, r] のハッシュを求める\n",
    "    # 注意：l, r はインデックス番号 + 1 (1 ~ N の範囲)\n",
    "    def get(self, l, r):\n",
    "        return (self.h[r] - self.h[l-1] * self.power[r-(l-1)]) % self.MOD\n",
    "\n",
    "\n",
    "N,Q=map(int,input().split())\n",
    "S=input()\n",
    "Queries=[list(map(int,input().split())) for _ in range(Q)]\n",
    "\n",
    "# reversed\n",
    "T=S[::-1]\n",
    "\n",
    "sh = RollingHash(S)\n",
    "th = RollingHash(T)\n",
    "\n",
    "for l,r in Queries:\n",
    "    if sh.get(l,r)==th.get(N-r+1,N-l+1):\n",
    "        print(\"Yes\")\n",
    "    else:\n",
    "        print(\"No\")"
   ]
  },
  {
   "cell_type": "code",
   "execution_count": null,
   "id": "e77bc5ef-b4c0-4b40-b75d-d7f02317bfe1",
   "metadata": {},
   "outputs": [],
   "source": []
  }
 ],
 "metadata": {
  "kernelspec": {
   "display_name": "Python 3 (ipykernel)",
   "language": "python",
   "name": "python3"
  },
  "language_info": {
   "codemirror_mode": {
    "name": "ipython",
    "version": 3
   },
   "file_extension": ".py",
   "mimetype": "text/x-python",
   "name": "python",
   "nbconvert_exporter": "python",
   "pygments_lexer": "ipython3",
   "version": "3.9.12"
  }
 },
 "nbformat": 4,
 "nbformat_minor": 5
}
