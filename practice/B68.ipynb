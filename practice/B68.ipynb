{
 "cells": [
  {
   "cell_type": "code",
   "execution_count": 1,
   "id": "e8f32dc9-cecb-4220-b224-10830ebd3a90",
   "metadata": {
    "tags": []
   },
   "outputs": [
    {
     "data": {
      "application/vnd.jupyter.widget-view+json": {
       "model_id": "7b1baaba2fe941b5b68b80390f2a67a9",
       "version_major": 2,
       "version_minor": 0
      },
      "text/plain": [
       "Textarea(value='')"
      ]
     },
     "metadata": {},
     "output_type": "display_data"
    }
   ],
   "source": [
    "# Ref: https://qiita.com/noca/items/00646efd9d4a7302f522\n",
    "from ipywidgets import Textarea\n",
    "import io\n",
    "if 'open' in globals():\n",
    "    del open\n",
    "if 'input' in globals():\n",
    "    del input\n",
    "original_open = open\n",
    "class custom_open():\n",
    "    def __init__(self):\n",
    "        self.text = ''\n",
    "    def __call__(self, file, *args, **kwargs):\n",
    "        if file == 0:\n",
    "            return io.StringIO(self.text)\n",
    "        return original_open(file, *args, **kwargs)\n",
    "    def updater(self, change):\n",
    "        self.text = change[\"new\"]\n",
    "class custom_input():\n",
    "    def __init__(self):\n",
    "        self.__sio = io.StringIO('')\n",
    "        self.shell = get_ipython()\n",
    "        if self.shell.events.callbacks['pre_run_cell'] != []:\n",
    "            self.shell.events.callbacks['pre_run_cell'] = []\n",
    "        self.shell.events.register('pre_run_cell', self.pre_run_cell)\n",
    "    def __call__(self):\n",
    "        return self.__sio.readline().strip()\n",
    "    def pre_run_cell(self, info):\n",
    "        text = self.shell.user_ns.get('text_area', None).value\n",
    "        self.__sio = io.StringIO(text)\n",
    "open = custom_open()\n",
    "input = custom_input()\n",
    "text_area = Textarea()\n",
    "text_area.observe(open.updater, names='value')\n",
    "display(text_area)"
   ]
  },
  {
   "cell_type": "code",
   "execution_count": 39,
   "id": "4812b191-f29d-4537-8856-681804810ba2",
   "metadata": {
    "tags": []
   },
   "outputs": [
    {
     "name": "stdout",
     "output_type": "stream",
     "text": [
      "7\n"
     ]
    }
   ],
   "source": [
    "class FordFulkerson:\n",
    "    def __init__(self, N: int):\n",
    "        self.N = N\n",
    "        # 残余グラフを準備\n",
    "        self.G = [list() for i in range(N+1)]\n",
    "    \n",
    "    # 残余グラフとなる重み付き隣接頂点リストを初期化、容量 cap の辺 (u: fr, v: to) がある\n",
    "    def add_edge(self, fr: int, to: int, cap):\n",
    "        # forward: 頂点 fr → to に向けて増やせるフロー (初期値: cap) を格納\n",
    "        forward = [to, cap, None]\n",
    "        # backward: 頂点 to → fr に向けて戻せるフロー (初期値 0) を格納\n",
    "        # さらに、forward[2] = backward, backward[2] = forword として、\n",
    "        # 逆方向に対応する辺を取得できるようにしておく\n",
    "        forward[2] = backward = [fr, 0, forward]\n",
    "        # 残余グラフへ、forward, backward を格納\n",
    "        self.G[fr].append(forward)\n",
    "        self.G[to].append(backward)\n",
    "    \n",
    "    # 深さ優先探索\n",
    "    # pos: 探索のスタート地点, goal: 出口の頂点, f: 流せるフローの最大値\n",
    "    def dfs(self, pos, goal, f):\n",
    "        if pos == goal:\n",
    "            # ゴールに到着できる経路を一つ見つけた、流量 f のフローを流せる\n",
    "            return f\n",
    "        # visited: 探索済みフラグ\n",
    "        visited = self.visited\n",
    "        visited[pos] = True\n",
    "        for e in self.G[pos]:\n",
    "            # nex: 次に探索のスタート地点とする pos の隣接頂点, rev: 逆方向に対応する辺\n",
    "            nex, cap, rev = e\n",
    "            # 容量 cap が 1 以上でかつ、まだ探索していない頂点を探索\n",
    "            if cap > 0 and not visited[nex]:\n",
    "                # flow: ゴールに到着して初めて、f >= 1 となる値が返される (再帰処理)\n",
    "                # f = min(min(f, cap)) でゴールに到着する経路内に流せる最大フローを更新\n",
    "                flow = self.dfs(nex, goal, min(f, cap))\n",
    "                # 経路内の辺に対応する残余グラフを更新していく\n",
    "                if flow >= 1:\n",
    "                    # 増やせるフローを減算\n",
    "                    e[1] -= flow\n",
    "                    # 戻せるフローを加算\n",
    "                    rev[1] += flow\n",
    "                    # 再帰元の関数に flow を返して伝搬\n",
    "                    return flow               \n",
    "        # 全ての辺を探索したが、ゴールまでのフローが存在しない\n",
    "        return 0\n",
    "    \n",
    "    # 頂点 s から頂点 t までの最大フローの総流量を返す\n",
    "    def maxflow(self, s, t):\n",
    "        total_flow = 0\n",
    "        f = INF = 10**15\n",
    "        N = self.N\n",
    "        # ゴールとなる頂点 t までフローを流せる経路が見つからなくなったら終了\n",
    "        while f:\n",
    "            self.visited = [False] * (N+1)\n",
    "            f = self.dfs(s, t, INF)\n",
    "            total_flow += f\n",
    "        return total_flow\n",
    "\n",
    "N,M=map(int,input().split())\n",
    "P=list(map(int,input().split()))\n",
    "AB=[list(map(int,input().split())) for _ in range(M)]\n",
    "INF=10**15\n",
    "\n",
    "S = N\n",
    "T = N + 1\n",
    "offset = 0\n",
    "# 重み付き辺リスト\n",
    "E=[]\n",
    "# スタートから各頂点、各頂点からゴールへのパスを通す\n",
    "for i in range(N):\n",
    "    if P[i]>=0:\n",
    "        # 特急駅にしない場合のコスト\n",
    "        offset += P[i]\n",
    "        E.append([S,i,P[i]])\n",
    "    else:\n",
    "        # 特急駅にする場合のコスト\n",
    "        E.append([i,T,P[i]*(-1)])\n",
    "\n",
    "for a,b in AB:\n",
    "    E.append([a-1,b-1,INF])\n",
    "\n",
    "ff=FordFulkerson(T)\n",
    "for u,v,c in E:\n",
    "    ff.add_edge(u, v, c)\n",
    "\n",
    "ans=offset-ff.maxflow(S, T)\n",
    "print(ans)"
   ]
  },
  {
   "cell_type": "code",
   "execution_count": null,
   "id": "518445f0-e90c-400c-aa8c-58eda9294a1e",
   "metadata": {},
   "outputs": [],
   "source": []
  },
  {
   "cell_type": "markdown",
   "id": "f9049ff2-409d-43b8-96d2-53ca869e9571",
   "metadata": {},
   "source": [
    "題意の通り利益を置くと負数の取り扱いが問題になる。"
   ]
  },
  {
   "cell_type": "markdown",
   "id": "132b35e2-4847-4eba-ba6d-806e369ef961",
   "metadata": {},
   "source": [
    "全て良い方の選択肢を選び、そこからの差分をコストと見なす。<br>\n",
    "コストを最小化する最小カット問題に見立てる。<br>"
   ]
  },
  {
   "cell_type": "markdown",
   "id": "85f99544-b187-4159-a90b-2881366f951f",
   "metadata": {},
   "source": [
    "|                               |  1   |  2   |  3   |  4   |  5   |\n",
    "| ----                          | ---- | ---- | ---- | ---- | ---- |\n",
    "| s: 特急駅にしない場合のコスト  |  3   |  4   |  0   |  0   |  5   |\n",
    "| t: 特急駅にする場合のコスト    |  0   |  0   |  1   |  5   |  0   |\n"
   ]
  },
  {
   "cell_type": "code",
   "execution_count": null,
   "id": "16e4bda4-6736-4afd-aa56-f044dcb8afbe",
   "metadata": {},
   "outputs": [],
   "source": []
  }
 ],
 "metadata": {
  "kernelspec": {
   "display_name": "Python 3 (ipykernel)",
   "language": "python",
   "name": "python3"
  },
  "language_info": {
   "codemirror_mode": {
    "name": "ipython",
    "version": 3
   },
   "file_extension": ".py",
   "mimetype": "text/x-python",
   "name": "python",
   "nbconvert_exporter": "python",
   "pygments_lexer": "ipython3",
   "version": "3.9.12"
  }
 },
 "nbformat": 4,
 "nbformat_minor": 5
}
