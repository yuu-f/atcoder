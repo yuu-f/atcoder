{
 "cells": [
  {
   "cell_type": "code",
   "execution_count": 1,
   "id": "e8f32dc9-cecb-4220-b224-10830ebd3a90",
   "metadata": {
    "tags": []
   },
   "outputs": [
    {
     "data": {
      "application/vnd.jupyter.widget-view+json": {
       "model_id": "eb5a5bd60fa24066950da4e0486f461e",
       "version_major": 2,
       "version_minor": 0
      },
      "text/plain": [
       "Textarea(value='')"
      ]
     },
     "metadata": {},
     "output_type": "display_data"
    }
   ],
   "source": [
    "# Ref: https://qiita.com/noca/items/00646efd9d4a7302f522\n",
    "from ipywidgets import Textarea\n",
    "import io\n",
    "if 'open' in globals():\n",
    "    del open\n",
    "if 'input' in globals():\n",
    "    del input\n",
    "original_open = open\n",
    "class custom_open():\n",
    "    def __init__(self):\n",
    "        self.text = ''\n",
    "    def __call__(self, file, *args, **kwargs):\n",
    "        if file == 0:\n",
    "            return io.StringIO(self.text)\n",
    "        return original_open(file, *args, **kwargs)\n",
    "    def updater(self, change):\n",
    "        self.text = change[\"new\"]\n",
    "class custom_input():\n",
    "    def __init__(self):\n",
    "        self.__sio = io.StringIO('')\n",
    "        self.shell = get_ipython()\n",
    "        if self.shell.events.callbacks['pre_run_cell'] != []:\n",
    "            self.shell.events.callbacks['pre_run_cell'] = []\n",
    "        self.shell.events.register('pre_run_cell', self.pre_run_cell)\n",
    "    def __call__(self):\n",
    "        return self.__sio.readline().strip()\n",
    "    def pre_run_cell(self, info):\n",
    "        text = self.shell.user_ns.get('text_area', None).value\n",
    "        self.__sio = io.StringIO(text)\n",
    "open = custom_open()\n",
    "input = custom_input()\n",
    "text_area = Textarea()\n",
    "text_area.observe(open.updater, names='value')\n",
    "display(text_area)"
   ]
  },
  {
   "cell_type": "code",
   "execution_count": 6,
   "id": "64b2e419-8784-466e-9524-17ce20a1e79e",
   "metadata": {
    "tags": []
   },
   "outputs": [
    {
     "name": "stdout",
     "output_type": "stream",
     "text": [
      "2\n",
      "3\n",
      "5\n",
      "7\n",
      "11\n",
      "13\n",
      "17\n",
      "19\n"
     ]
    }
   ],
   "source": [
    "import math\n",
    "N=int(input())\n",
    "\n",
    "def Eratosthenes(x):\n",
    "    isprime=[True]*(x+1)\n",
    "    isprime[0]=False\n",
    "    isprime[1]=False\n",
    "    \n",
    "    for p in range(2,int(math.sqrt(N)+1)):\n",
    "        if not isprime[p]:\n",
    "            continue\n",
    "            \n",
    "        q=p*2\n",
    "        while q<=N:\n",
    "            isprime[q]=False\n",
    "            q+=p\n",
    "    return isprime\n",
    "\n",
    "ans=Eratosthenes(N)\n",
    "for i in range(len(ans)):\n",
    "    if ans[i]==True:\n",
    "        print(i)"
   ]
  },
  {
   "cell_type": "code",
   "execution_count": 4,
   "id": "43dcccb3-1048-45b6-a5fd-4a672ea76cb2",
   "metadata": {},
   "outputs": [
    {
     "data": {
      "text/plain": [
       "[0, 1, 2, 3, 4, 5, 6, 7, 8, 9, 10, 11, 12, 13, 14, 15, 16, 17, 18, 19]"
      ]
     },
     "execution_count": 4,
     "metadata": {},
     "output_type": "execute_result"
    }
   ],
   "source": [
    "l"
   ]
  },
  {
   "cell_type": "code",
   "execution_count": null,
   "id": "2191698a-07da-4cdf-aef2-8808c829f560",
   "metadata": {},
   "outputs": [],
   "source": [
    "# 1 以上 N 以下の整数が素数かどうかを返す\n",
    "def Eratosthenes(N):\n",
    "    # テーブル\n",
    "    isprime = [True] * (N+1)\n",
    "\n",
    "    # 0, 1 は予めふるい落としておく\n",
    "    isprime[0], isprime[1] = False, False\n",
    "\n",
    "    # ふるい\n",
    "    for p in range(2, N+1):\n",
    "        # すでに合成数であるものはスキップする\n",
    "        if not isprime[p]:\n",
    "            continue\n",
    "\n",
    "        # p 以外の p の倍数から素数ラベルを剥奪\n",
    "        q = p * 2\n",
    "        while q <= N:\n",
    "            isprime[q] = False\n",
    "            q += p\n",
    "\n",
    "    # 1 以上 N 以下の整数が素数かどうか\n",
    "    return isprime\n",
    "\n",
    "# 50 以下の素数をすべて求める\n",
    "isprime = Eratosthenes(50)\n",
    "print(isprime)"
   ]
  }
 ],
 "metadata": {
  "kernelspec": {
   "display_name": "Python 3 (ipykernel)",
   "language": "python",
   "name": "python3"
  },
  "language_info": {
   "codemirror_mode": {
    "name": "ipython",
    "version": 3
   },
   "file_extension": ".py",
   "mimetype": "text/x-python",
   "name": "python",
   "nbconvert_exporter": "python",
   "pygments_lexer": "ipython3",
   "version": "3.9.12"
  }
 },
 "nbformat": 4,
 "nbformat_minor": 5
}
