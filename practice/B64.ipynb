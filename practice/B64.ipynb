{
 "cells": [
  {
   "cell_type": "code",
   "execution_count": 1,
   "id": "e8f32dc9-cecb-4220-b224-10830ebd3a90",
   "metadata": {
    "tags": []
   },
   "outputs": [
    {
     "data": {
      "application/vnd.jupyter.widget-view+json": {
       "model_id": "800157e9024844baa632c8d0136c0590",
       "version_major": 2,
       "version_minor": 0
      },
      "text/plain": [
       "Textarea(value='')"
      ]
     },
     "metadata": {},
     "output_type": "display_data"
    }
   ],
   "source": [
    "# Ref: https://qiita.com/noca/items/00646efd9d4a7302f522\n",
    "from ipywidgets import Textarea\n",
    "import io\n",
    "if 'open' in globals():\n",
    "    del open\n",
    "if 'input' in globals():\n",
    "    del input\n",
    "original_open = open\n",
    "class custom_open():\n",
    "    def __init__(self):\n",
    "        self.text = ''\n",
    "    def __call__(self, file, *args, **kwargs):\n",
    "        if file == 0:\n",
    "            return io.StringIO(self.text)\n",
    "        return original_open(file, *args, **kwargs)\n",
    "    def updater(self, change):\n",
    "        self.text = change[\"new\"]\n",
    "class custom_input():\n",
    "    def __init__(self):\n",
    "        self.__sio = io.StringIO('')\n",
    "        self.shell = get_ipython()\n",
    "        if self.shell.events.callbacks['pre_run_cell'] != []:\n",
    "            self.shell.events.callbacks['pre_run_cell'] = []\n",
    "        self.shell.events.register('pre_run_cell', self.pre_run_cell)\n",
    "    def __call__(self):\n",
    "        return self.__sio.readline().strip()\n",
    "    def pre_run_cell(self, info):\n",
    "        text = self.shell.user_ns.get('text_area', None).value\n",
    "        self.__sio = io.StringIO(text)\n",
    "open = custom_open()\n",
    "input = custom_input()\n",
    "text_area = Textarea()\n",
    "text_area.observe(open.updater, names='value')\n",
    "display(text_area)"
   ]
  },
  {
   "cell_type": "code",
   "execution_count": 71,
   "id": "64b2e419-8784-466e-9524-17ce20a1e79e",
   "metadata": {
    "tags": []
   },
   "outputs": [
    {
     "name": "stdout",
     "output_type": "stream",
     "text": [
      "1 98 82 255 353 135 31 205 447 "
     ]
    }
   ],
   "source": [
    "import heapq\n",
    "\n",
    "N,M=map(int,input().split())\n",
    "ABC=[list(map(int,input().split())) for _ in range(M)]\n",
    "\n",
    "G=[[] for _ in range(N+1)]\n",
    "G[0].append([0,1])\n",
    "for a,b,c in ABC:\n",
    "    # リストの場合、0番目の要素で優先度判定\n",
    "    G[a].append([c,b])\n",
    "    G[b].append([c,a])\n",
    "\n",
    "INF=10**15\n",
    "done=[False]*(N+1)\n",
    "done[0]=True\n",
    "cur=[INF]*(N+1)\n",
    "cur[0]=0\n",
    "cur[1]=0\n",
    "q=[]\n",
    "heapq.heappush(q,G[0][0])\n",
    "\n",
    "while len(q)>=1:\n",
    "    pos=heapq.heappop(q)[1]\n",
    "    # print(pos)\n",
    "    if done[pos]==True:\n",
    "        continue\n",
    "        \n",
    "    done[pos]=True\n",
    "\n",
    "    for nex in G[pos]:\n",
    "        if cur[nex[1]]>cur[pos]+nex[0]:\n",
    "            cur[nex[1]]=cur[pos]+nex[0]\n",
    "            heapq.heappush(q,[cur[nex[1]],nex[1]])\n",
    "\n",
    "p=N\n",
    "ans=[N]\n",
    "while p!=1:\n",
    "    _min=INF\n",
    "    for d,q in G[p]:\n",
    "        if cur[q]+d<_min:\n",
    "            _min=cur[q]+d\n",
    "            _min_index=q\n",
    "    p=_min_index\n",
    "    ans.append(p)\n",
    "\n",
    "for i in range(len(ans)-1,-1,-1):\n",
    "    print(ans[i], end=\" \")\n",
    "\n",
    "    # for i in range(1,N+1):\n",
    "#     if cur[i]==INF:\n",
    "#         print(\"-1\")\n",
    "#     else:\n",
    "#         print(cur[i])"
   ]
  },
  {
   "cell_type": "code",
   "execution_count": 60,
   "id": "9c0e3fda-d2d1-417c-97ff-d3eededb7e5d",
   "metadata": {},
   "outputs": [
    {
     "data": {
      "text/plain": [
       "[[10, 11, 23],\n",
       " [11, 13, 24],\n",
       " [5, 8, 22],\n",
       " [10, 15, 18],\n",
       " [12, 14, 15],\n",
       " [2, 10, 11],\n",
       " [4, 7, 15],\n",
       " [5, 7, 15],\n",
       " [7, 9, 8],\n",
       " [8, 12, 1],\n",
       " [5, 14, 1],\n",
       " [10, 14, 17],\n",
       " [10, 12, 11],\n",
       " [8, 10, 6],\n",
       " [7, 14, 28],\n",
       " [6, 9, 1],\n",
       " [1, 10, 19],\n",
       " [4, 5, 4],\n",
       " [9, 10, 21],\n",
       " [7, 10, 21],\n",
       " [4, 10, 29],\n",
       " [5, 10, 8],\n",
       " [4, 14, 8],\n",
       " [11, 12, 24],\n",
       " [10, 13, 13],\n",
       " [3, 10, 1],\n",
       " [5, 12, 24],\n",
       " [2, 15, 23],\n",
       " [6, 10, 18],\n",
       " [6, 15, 25]]"
      ]
     },
     "execution_count": 60,
     "metadata": {},
     "output_type": "execute_result"
    }
   ],
   "source": [
    "ABC"
   ]
  },
  {
   "cell_type": "code",
   "execution_count": 61,
   "id": "67bf28d1-4444-4e22-9ad7-24ea1327196d",
   "metadata": {},
   "outputs": [
    {
     "data": {
      "text/plain": [
       "[[[0, 1]],\n",
       " [[19, 10]],\n",
       " [[11, 10], [23, 15]],\n",
       " [[1, 10]],\n",
       " [[15, 7], [4, 5], [29, 10], [8, 14]],\n",
       " [[22, 8], [15, 7], [1, 14], [4, 4], [8, 10], [24, 12]],\n",
       " [[1, 9], [18, 10], [25, 15]],\n",
       " [[15, 4], [15, 5], [8, 9], [28, 14], [21, 10]],\n",
       " [[22, 5], [1, 12], [6, 10]],\n",
       " [[8, 7], [1, 6], [21, 10]],\n",
       " [[23, 11],\n",
       "  [18, 15],\n",
       "  [11, 2],\n",
       "  [17, 14],\n",
       "  [11, 12],\n",
       "  [6, 8],\n",
       "  [19, 1],\n",
       "  [21, 9],\n",
       "  [21, 7],\n",
       "  [29, 4],\n",
       "  [8, 5],\n",
       "  [13, 13],\n",
       "  [1, 3],\n",
       "  [18, 6]],\n",
       " [[23, 10], [24, 13], [24, 12]],\n",
       " [[15, 14], [1, 8], [11, 10], [24, 11], [24, 5]],\n",
       " [[24, 11], [13, 10]],\n",
       " [[15, 12], [1, 5], [17, 10], [28, 7], [8, 4]],\n",
       " [[18, 10], [23, 2], [25, 6]]]"
      ]
     },
     "execution_count": 61,
     "metadata": {},
     "output_type": "execute_result"
    }
   ],
   "source": [
    "G"
   ]
  },
  {
   "cell_type": "code",
   "execution_count": null,
   "id": "dca96ffb-5065-4c3d-95e2-c2a62f560f78",
   "metadata": {},
   "outputs": [],
   "source": []
  },
  {
   "cell_type": "code",
   "execution_count": null,
   "id": "d71495d3-7aec-49b1-afe8-ebd7e61abe95",
   "metadata": {},
   "outputs": [],
   "source": []
  }
 ],
 "metadata": {
  "kernelspec": {
   "display_name": "Python 3 (ipykernel)",
   "language": "python",
   "name": "python3"
  },
  "language_info": {
   "codemirror_mode": {
    "name": "ipython",
    "version": 3
   },
   "file_extension": ".py",
   "mimetype": "text/x-python",
   "name": "python",
   "nbconvert_exporter": "python",
   "pygments_lexer": "ipython3",
   "version": "3.9.12"
  }
 },
 "nbformat": 4,
 "nbformat_minor": 5
}
