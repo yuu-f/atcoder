{
 "cells": [
  {
   "cell_type": "code",
   "execution_count": 1,
   "id": "e8f32dc9-cecb-4220-b224-10830ebd3a90",
   "metadata": {
    "tags": []
   },
   "outputs": [
    {
     "data": {
      "application/vnd.jupyter.widget-view+json": {
       "model_id": "f5b9b1ed1a1142e68d9dacbb9d2b3a9a",
       "version_major": 2,
       "version_minor": 0
      },
      "text/plain": [
       "Textarea(value='')"
      ]
     },
     "metadata": {},
     "output_type": "display_data"
    }
   ],
   "source": [
    "# Ref: https://qiita.com/noca/items/00646efd9d4a7302f522\n",
    "from ipywidgets import Textarea\n",
    "import io\n",
    "if 'open' in globals():\n",
    "    del open\n",
    "if 'input' in globals():\n",
    "    del input\n",
    "original_open = open\n",
    "class custom_open():\n",
    "    def __init__(self):\n",
    "        self.text = ''\n",
    "    def __call__(self, file, *args, **kwargs):\n",
    "        if file == 0:\n",
    "            return io.StringIO(self.text)\n",
    "        return original_open(file, *args, **kwargs)\n",
    "    def updater(self, change):\n",
    "        self.text = change[\"new\"]\n",
    "class custom_input():\n",
    "    def __init__(self):\n",
    "        self.__sio = io.StringIO('')\n",
    "        self.shell = get_ipython()\n",
    "        if self.shell.events.callbacks['pre_run_cell'] != []:\n",
    "            self.shell.events.callbacks['pre_run_cell'] = []\n",
    "        self.shell.events.register('pre_run_cell', self.pre_run_cell)\n",
    "    def __call__(self):\n",
    "        return self.__sio.readline().strip()\n",
    "    def pre_run_cell(self, info):\n",
    "        text = self.shell.user_ns.get('text_area', None).value\n",
    "        self.__sio = io.StringIO(text)\n",
    "open = custom_open()\n",
    "input = custom_input()\n",
    "text_area = Textarea()\n",
    "text_area.observe(open.updater, names='value')\n",
    "display(text_area)"
   ]
  },
  {
   "cell_type": "code",
   "execution_count": 40,
   "id": "64b2e419-8784-466e-9524-17ce20a1e79e",
   "metadata": {
    "tags": []
   },
   "outputs": [
    {
     "name": "stdout",
     "output_type": "stream",
     "text": [
      "0\n",
      "0\n",
      "0\n",
      "0\n",
      "0\n",
      "0\n",
      "0\n",
      "0\n",
      "0\n",
      "9\n",
      "9\n",
      "9\n",
      "9\n",
      "9\n",
      "9\n"
     ]
    }
   ],
   "source": [
    "# 最大 2^(33) 遷移する \n",
    "K = 33 \n",
    "\n",
    "# N: 要素数、A: 初回の遷移先\n",
    "def doubling(N: int,A: list) -> list:\n",
    "    # DP 初期化\n",
    "    dp = [[0]*(N+1) for _ in range(K+1)]\n",
    "    dp[0] = A\n",
    "    for i in range(1,K+1):\n",
    "        for j in range(N+1):\n",
    "            dp[i][j]=dp[i-1][dp[i-1][j]]\n",
    "    \n",
    "    return dp\n",
    "\n",
    "# q: 遷移の開始地点(1≤q≤𝑁)、k: k回後の遷移先を求めたい\n",
    "def query(dp: list,q: int,k: int) -> int:\n",
    "    # a: 遷移先\n",
    "    a = q\n",
    "    for c in range(K+1):\n",
    "        if k & (1<<c):\n",
    "            a = dp[c][a]\n",
    "    return a\n",
    "\n",
    "# 各桁の和を計算\n",
    "def digitSum(x):\n",
    "    s = str(x)\n",
    "    # １文字ずつ数値化し配列にする\n",
    "    array = list(map(int, s))\n",
    "    return sum(array)\n",
    "\n",
    "N, M = map(int,input().split())\n",
    "\n",
    "# インデックス 0 を埋めつつ初期遷移の配列を用意 \n",
    "A1 = [x - digitSum(x) for x in range(N+1)]\n",
    "\n",
    "dp = doubling(N, A1)\n",
    "for x in range(1,N+1):\n",
    "    ans = query(dp, x, M)\n",
    "    print(ans)"
   ]
  },
  {
   "cell_type": "code",
   "execution_count": null,
   "id": "b634948f-dac6-4b92-b163-a3fa4bc67def",
   "metadata": {},
   "outputs": [],
   "source": []
  },
  {
   "cell_type": "code",
   "execution_count": null,
   "id": "67615e5d-0ea7-491f-a28d-29fe18c9df23",
   "metadata": {},
   "outputs": [],
   "source": []
  }
 ],
 "metadata": {
  "kernelspec": {
   "display_name": "Python 3 (ipykernel)",
   "language": "python",
   "name": "python3"
  },
  "language_info": {
   "codemirror_mode": {
    "name": "ipython",
    "version": 3
   },
   "file_extension": ".py",
   "mimetype": "text/x-python",
   "name": "python",
   "nbconvert_exporter": "python",
   "pygments_lexer": "ipython3",
   "version": "3.9.12"
  }
 },
 "nbformat": 4,
 "nbformat_minor": 5
}
