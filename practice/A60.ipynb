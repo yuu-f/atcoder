{
 "cells": [
  {
   "cell_type": "code",
   "execution_count": 1,
   "id": "e8f32dc9-cecb-4220-b224-10830ebd3a90",
   "metadata": {
    "tags": []
   },
   "outputs": [
    {
     "data": {
      "application/vnd.jupyter.widget-view+json": {
       "model_id": "13c53ab2326e4eb88c88a5037b6e538d",
       "version_major": 2,
       "version_minor": 0
      },
      "text/plain": [
       "Textarea(value='')"
      ]
     },
     "metadata": {},
     "output_type": "display_data"
    }
   ],
   "source": [
    "# Ref: https://qiita.com/noca/items/00646efd9d4a7302f522\n",
    "from ipywidgets import Textarea\n",
    "import io\n",
    "if 'open' in globals():\n",
    "    del open\n",
    "if 'input' in globals():\n",
    "    del input\n",
    "original_open = open\n",
    "class custom_open():\n",
    "    def __init__(self):\n",
    "        self.text = ''\n",
    "    def __call__(self, file, *args, **kwargs):\n",
    "        if file == 0:\n",
    "            return io.StringIO(self.text)\n",
    "        return original_open(file, *args, **kwargs)\n",
    "    def updater(self, change):\n",
    "        self.text = change[\"new\"]\n",
    "class custom_input():\n",
    "    def __init__(self):\n",
    "        self.__sio = io.StringIO('')\n",
    "        self.shell = get_ipython()\n",
    "        if self.shell.events.callbacks['pre_run_cell'] != []:\n",
    "            self.shell.events.callbacks['pre_run_cell'] = []\n",
    "        self.shell.events.register('pre_run_cell', self.pre_run_cell)\n",
    "    def __call__(self):\n",
    "        return self.__sio.readline().strip()\n",
    "    def pre_run_cell(self, info):\n",
    "        text = self.shell.user_ns.get('text_area', None).value\n",
    "        self.__sio = io.StringIO(text)\n",
    "open = custom_open()\n",
    "input = custom_input()\n",
    "text_area = Textarea()\n",
    "text_area.observe(open.updater, names='value')\n",
    "display(text_area)"
   ]
  },
  {
   "cell_type": "code",
   "execution_count": 2,
   "id": "64b2e419-8784-466e-9524-17ce20a1e79e",
   "metadata": {
    "tags": []
   },
   "outputs": [
    {
     "name": "stdout",
     "output_type": "stream",
     "text": [
      "-1 1 1 3 4 3\n"
     ]
    }
   ],
   "source": [
    "import sys\n",
    "\n",
    "class SparseTable:\n",
    "    def __init__(self, A):\n",
    "        self.A = A\n",
    "        N = len(A)\n",
    "        # インデックス k として必要な最大値\n",
    "        # 例: N = 8 の場合、2^2 まで計算できればよい\n",
    "        max_k = (N-1).bit_length() - 1\n",
    "        \n",
    "        # DP: i=0,1,2,...,N-1 に対して、𝑘=0,1,...,max_k の値を順番に評価していく\n",
    "        INF = 10**10\n",
    "        # 𝑡𝑎𝑏𝑙𝑒[𝑖][𝑘] を初期化\n",
    "        table = [[INF]*(max_k+1) for _ in range(N)]\n",
    "        # table[i][k=0] = i で自明\n",
    "        for i in range(N):\n",
    "            table[i][0]=i\n",
    "        \n",
    "        # table[i][k]を求める際、table[i][k−1] の計算結果を利用する\n",
    "        # さらに、table[i][k]を求める際、table[i+2^(k-1)][k−1] の計算結果を利用する \n",
    "        for k in range(1, max_k + 1):\n",
    "            for i in range(N):\n",
    "                if i + (1 << k) > N:\n",
    "                    break\n",
    "                # print(k,i,i+(1<<(k-1)))\n",
    "                # k-1 で求めた結果を利用\n",
    "                first = table[i][k-1]\n",
    "                second = table[i+(1<<(k-1))][k-1]\n",
    "\n",
    "                # table[i][k] の値を区間内の最小値を持つインデックスとする\n",
    "                if A[first] <= A[second]:\n",
    "                    table[i][k] = first\n",
    "                else:\n",
    "                    table[i][k] = second\n",
    "\n",
    "        self.table = table\n",
    "\n",
    "    # 区間[l,r] (0 <= l < r <= N-1) の最小値を持つインデックスを返す\n",
    "    def query(self, l, r):\n",
    "        # 同値の場合\n",
    "        if l==r:\n",
    "            return l\n",
    "        # l > r の場合入れ替え\n",
    "        if l > r:\n",
    "            l, r = r, l\n",
    "        # 区間の長さ\n",
    "        d = r - l + 1\n",
    "        k = (d-1).bit_length() - 1\n",
    "        \n",
    "        # A[l:r+2^k-1], A[r−2^k+1:r] の2つの区間の最小値を持つインデックスを返す\n",
    "        min_idx_l = self.table[l][k]\n",
    "        min_idx_r = self.table[r-(1<<k)+1][k]\n",
    "        if self.A[min_idx_l] < self.A[min_idx_r]:\n",
    "            return min_idx_l\n",
    "        else:\n",
    "            return min_idx_r\n",
    "        \n",
    "N=int(input())\n",
    "A=list(map(lambda x: int(x)*(-1), input().split()))\n",
    "\n",
    "ans=[-1]\n",
    "\n",
    "if N==1:\n",
    "    print(*ans)\n",
    "    sys.exit(0)\n",
    "\n",
    "# 区間最小値を事前計算\n",
    "st=SparseTable(A)\n",
    "for d in range(1,N):\n",
    "    # 答えの左端\n",
    "    l = 0\n",
    "    # 答えの右端\n",
    "    r = d - 1\n",
    "    # 起算日が存在しない場合\n",
    "    if -1*A[st.query(l,r)] <= -1*A[d]:\n",
    "        ans.append(-1)\n",
    "        continue\n",
    "    # A[d] < A[i] を満たす最大の i を二分探索\n",
    "    while l < r:\n",
    "        mid = (l+r)//2\n",
    "        min_index = st.query(mid,r)\n",
    "        if -1*A[d] < -1*A[min_index]:\n",
    "            l = min_index + 1\n",
    "        else:\n",
    "            r = mid - 1\n",
    "        # print(d,l,r)\n",
    "    # ループを抜けた時の処理を検証し、必要なら一つ戻す\n",
    "    if -1*A[d] < -1*A[l]:\n",
    "        ans.append(l+1)\n",
    "    else:\n",
    "        ans.append(l-1+1)\n",
    "print(*ans)"
   ]
  },
  {
   "cell_type": "code",
   "execution_count": 3,
   "id": "3930f7d0-d100-4a13-9d74-98fc5981b8af",
   "metadata": {},
   "outputs": [],
   "source": [
    "# 解説から、スタックを使って起算日を上手く保持しながら計算すれば、O(N)で解ける"
   ]
  },
  {
   "cell_type": "code",
   "execution_count": null,
   "id": "e455e395-f3dd-47e9-b1e1-43ff6eadabf1",
   "metadata": {},
   "outputs": [],
   "source": []
  }
 ],
 "metadata": {
  "kernelspec": {
   "display_name": "Python 3 (ipykernel)",
   "language": "python",
   "name": "python3"
  },
  "language_info": {
   "codemirror_mode": {
    "name": "ipython",
    "version": 3
   },
   "file_extension": ".py",
   "mimetype": "text/x-python",
   "name": "python",
   "nbconvert_exporter": "python",
   "pygments_lexer": "ipython3",
   "version": "3.9.12"
  }
 },
 "nbformat": 4,
 "nbformat_minor": 5
}
