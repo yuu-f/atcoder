{
 "cells": [
  {
   "cell_type": "code",
   "execution_count": 1,
   "id": "e8f32dc9-cecb-4220-b224-10830ebd3a90",
   "metadata": {},
   "outputs": [
    {
     "data": {
      "application/vnd.jupyter.widget-view+json": {
       "model_id": "2680236dfc364f20abd518ff5a7ce1c8",
       "version_major": 2,
       "version_minor": 0
      },
      "text/plain": [
       "Textarea(value='')"
      ]
     },
     "metadata": {},
     "output_type": "display_data"
    }
   ],
   "source": [
    "# Ref: https://qiita.com/noca/items/00646efd9d4a7302f522\n",
    "from ipywidgets import Textarea\n",
    "import io\n",
    "if 'open' in globals():\n",
    "    del open\n",
    "if 'input' in globals():\n",
    "    del input\n",
    "original_open = open\n",
    "class custom_open():\n",
    "    def __init__(self):\n",
    "        self.text = ''\n",
    "    def __call__(self, file, *args, **kwargs):\n",
    "        if file == 0:\n",
    "            return io.StringIO(self.text)\n",
    "        return original_open(file, *args, **kwargs)\n",
    "    def updater(self, change):\n",
    "        self.text = change[\"new\"]\n",
    "class custom_input():\n",
    "    def __init__(self):\n",
    "        self.__sio = io.StringIO('')\n",
    "        self.shell = get_ipython()\n",
    "        if self.shell.events.callbacks['pre_run_cell'] != []:\n",
    "            self.shell.events.callbacks['pre_run_cell'] = []\n",
    "        self.shell.events.register('pre_run_cell', self.pre_run_cell)\n",
    "    def __call__(self):\n",
    "        return self.__sio.readline().strip()\n",
    "    def pre_run_cell(self, info):\n",
    "        text = self.shell.user_ns.get('text_area', None).value\n",
    "        self.__sio = io.StringIO(text)\n",
    "open = custom_open()\n",
    "input = custom_input()\n",
    "text_area = Textarea()\n",
    "text_area.observe(open.updater, names='value')\n",
    "display(text_area)"
   ]
  },
  {
   "cell_type": "code",
   "execution_count": 22,
   "id": "64b2e419-8784-466e-9524-17ce20a1e79e",
   "metadata": {},
   "outputs": [
    {
     "name": "stdout",
     "output_type": "stream",
     "text": [
      "1 1 1 0 0 \n",
      "1 2 2 1 0 \n",
      "1 2 2 1 0 \n",
      "0 1 1 1 0 \n",
      "0 0 0 0 0 \n"
     ]
    }
   ],
   "source": [
    "h,w,n=map(int,input().split())\n",
    "a=[0]*(n+1)\n",
    "b=[0]*(n+1)\n",
    "c=[0]*(n+1)\n",
    "d=[0]*(n+1)\n",
    "for i in range(1,n+1):\n",
    "    a[i],b[i],c[i],d[i]=map(int,input().split())\n",
    "# 累積和用の値を配置\n",
    "xy=[[0]*(w+2) for _ in range(h+2)]\n",
    "for i in range(1,n+1):\n",
    "    xy[a[i]][b[i]]+=1\n",
    "    xy[a[i]][d[i]+1]-=1\n",
    "    xy[c[i]+1][b[i]]-=1\n",
    "    xy[c[i]+1][d[i]+1]+=1\n",
    "\n",
    "# x方向の累積和\n",
    "sx=[[0]*(w+2) for _ in range(h+2)]\n",
    "for i in range(h+2):\n",
    "    for j in range(w+2):\n",
    "        sx[i][j]=sx[i][j-1]+xy[i][j]\n",
    "# y方向の累積和\n",
    "sxy=[[0]*(w+2) for _ in range(h+2)]\n",
    "for j in range(w+2):\n",
    "    for i in range(h+2):\n",
    "        sxy[i][j]=sxy[i-1][j]+sx[i][j]\n",
    "# ans\n",
    "for i in range(1,h+1):\n",
    "    for j in range(1,w+1):\n",
    "        print(sxy[i][j], end=\" \")\n",
    "    print(\"\")"
   ]
  },
  {
   "cell_type": "code",
   "execution_count": 13,
   "id": "2c448acc-ae41-43bf-917e-dc032a773a06",
   "metadata": {},
   "outputs": [
    {
     "data": {
      "text/plain": [
       "[[0, 0, 0, 0, 0, 0, 0],\n",
       " [0, 1, 0, 0, -1, 0, 0],\n",
       " [0, 0, 1, 0, 0, -1, 0],\n",
       " [0, 0, 0, 0, 0, 0, 0],\n",
       " [0, -1, 0, 0, 1, 0, 0],\n",
       " [0, 0, -1, 0, 0, 1, 0],\n",
       " [0, 0, 0, 0, 0, 0, 0]]"
      ]
     },
     "execution_count": 13,
     "metadata": {},
     "output_type": "execute_result"
    }
   ],
   "source": [
    "xy"
   ]
  },
  {
   "cell_type": "code",
   "execution_count": 14,
   "id": "c9adc588-b478-422a-b062-09fe644ce575",
   "metadata": {},
   "outputs": [
    {
     "data": {
      "text/plain": [
       "[[0, 0, 0, 0, 0, 0, 0],\n",
       " [0, 1, 1, 1, 0, 0, 0],\n",
       " [0, 0, 1, 1, 1, 0, 0],\n",
       " [0, 0, 0, 0, 0, 0, 0],\n",
       " [0, -1, -1, -1, 0, 0, 0],\n",
       " [0, 0, -1, -1, -1, 0, 0],\n",
       " [0, 0, 0, 0, 0, 0, 0]]"
      ]
     },
     "execution_count": 14,
     "metadata": {},
     "output_type": "execute_result"
    }
   ],
   "source": [
    "sx"
   ]
  },
  {
   "cell_type": "code",
   "execution_count": 15,
   "id": "db210252-fa27-4d42-871d-721ad685f2e2",
   "metadata": {},
   "outputs": [
    {
     "data": {
      "text/plain": [
       "[[0, 0, 0, 0, 0, 0, 0],\n",
       " [0, 1, 1, 1, 0, 0, 0],\n",
       " [0, 1, 2, 2, 1, 0, 0],\n",
       " [0, 1, 2, 2, 1, 0, 0],\n",
       " [0, 0, 1, 1, 1, 0, 0],\n",
       " [0, 0, 0, 0, 0, 0, 0],\n",
       " [0, 0, 0, 0, 0, 0, 0]]"
      ]
     },
     "execution_count": 15,
     "metadata": {},
     "output_type": "execute_result"
    }
   ],
   "source": [
    "sxy"
   ]
  },
  {
   "cell_type": "code",
   "execution_count": null,
   "id": "69a25f27-66bd-4b2e-91c7-c11021d0b338",
   "metadata": {},
   "outputs": [],
   "source": []
  }
 ],
 "metadata": {
  "kernelspec": {
   "display_name": "Python 3 (ipykernel)",
   "language": "python",
   "name": "python3"
  },
  "language_info": {
   "codemirror_mode": {
    "name": "ipython",
    "version": 3
   },
   "file_extension": ".py",
   "mimetype": "text/x-python",
   "name": "python",
   "nbconvert_exporter": "python",
   "pygments_lexer": "ipython3",
   "version": "3.9.12"
  }
 },
 "nbformat": 4,
 "nbformat_minor": 5
}
