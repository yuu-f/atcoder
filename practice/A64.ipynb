{
 "cells": [
  {
   "cell_type": "code",
   "execution_count": 1,
   "id": "e8f32dc9-cecb-4220-b224-10830ebd3a90",
   "metadata": {
    "tags": []
   },
   "outputs": [
    {
     "data": {
      "application/vnd.jupyter.widget-view+json": {
       "model_id": "3db22e74a31d48fc927c8e2bb0a11909",
       "version_major": 2,
       "version_minor": 0
      },
      "text/plain": [
       "Textarea(value='')"
      ]
     },
     "metadata": {},
     "output_type": "display_data"
    }
   ],
   "source": [
    "# Ref: https://qiita.com/noca/items/00646efd9d4a7302f522\n",
    "from ipywidgets import Textarea\n",
    "import io\n",
    "if 'open' in globals():\n",
    "    del open\n",
    "if 'input' in globals():\n",
    "    del input\n",
    "original_open = open\n",
    "class custom_open():\n",
    "    def __init__(self):\n",
    "        self.text = ''\n",
    "    def __call__(self, file, *args, **kwargs):\n",
    "        if file == 0:\n",
    "            return io.StringIO(self.text)\n",
    "        return original_open(file, *args, **kwargs)\n",
    "    def updater(self, change):\n",
    "        self.text = change[\"new\"]\n",
    "class custom_input():\n",
    "    def __init__(self):\n",
    "        self.__sio = io.StringIO('')\n",
    "        self.shell = get_ipython()\n",
    "        if self.shell.events.callbacks['pre_run_cell'] != []:\n",
    "            self.shell.events.callbacks['pre_run_cell'] = []\n",
    "        self.shell.events.register('pre_run_cell', self.pre_run_cell)\n",
    "    def __call__(self):\n",
    "        return self.__sio.readline().strip()\n",
    "    def pre_run_cell(self, info):\n",
    "        text = self.shell.user_ns.get('text_area', None).value\n",
    "        self.__sio = io.StringIO(text)\n",
    "open = custom_open()\n",
    "input = custom_input()\n",
    "text_area = Textarea()\n",
    "text_area.observe(open.updater, names='value')\n",
    "display(text_area)"
   ]
  },
  {
   "cell_type": "code",
   "execution_count": 123,
   "id": "64b2e419-8784-466e-9524-17ce20a1e79e",
   "metadata": {
    "tags": []
   },
   "outputs": [
    {
     "name": "stdout",
     "output_type": "stream",
     "text": [
      "0\n",
      "15\n",
      "77\n",
      "20\n",
      "19\n",
      "27\n"
     ]
    }
   ],
   "source": [
    "import heapq\n",
    "\n",
    "N,M=map(int,input().split())\n",
    "ABC=[list(map(int,input().split())) for _ in range(M)]\n",
    "\n",
    "G=[[] for _ in range(N+1)]\n",
    "G[0].append([0,1])\n",
    "for a,b,c in ABC:\n",
    "    # リストの場合、0番目の要素で優先度判定\n",
    "    G[a].append([c,b])\n",
    "    G[b].append([c,a])\n",
    "\n",
    "INF=10**10\n",
    "done=[False]*(N+1)\n",
    "done[0]=True\n",
    "cur=[INF]*(N+1)\n",
    "cur[0]=0\n",
    "cur[1]=0\n",
    "q=[]\n",
    "heapq.heappush(q,G[0][0])\n",
    "\n",
    "\n",
    "while len(q)>=1:\n",
    "    pos=heapq.heappop(q)[1]\n",
    "    # print(pos)\n",
    "    if done[pos]==True:\n",
    "        continue\n",
    "        \n",
    "    done[pos]=True\n",
    "\n",
    "    for nex in G[pos]:\n",
    "        if cur[nex[1]]>cur[pos]+nex[0]:\n",
    "            cur[nex[1]]=cur[pos]+nex[0]\n",
    "            heapq.heappush(q,[cur[nex[1]],nex[1]])\n",
    "\n",
    "for i in range(1,N+1):\n",
    "    if cur[i]==INF:\n",
    "        print(\"-1\")\n",
    "    else:\n",
    "        print(cur[i])"
   ]
  },
  {
   "cell_type": "code",
   "execution_count": 124,
   "id": "9c0e3fda-d2d1-417c-97ff-d3eededb7e5d",
   "metadata": {},
   "outputs": [
    {
     "data": {
      "text/plain": [
       "[[[0, 1]],\n",
       " [[15, 2], [20, 4]],\n",
       " [[15, 1], [65, 3], [4, 5]],\n",
       " [[65, 2], [50, 6]],\n",
       " [[20, 1], [30, 5]],\n",
       " [[4, 2], [30, 4], [8, 6]],\n",
       " [[50, 3], [8, 5]]]"
      ]
     },
     "execution_count": 124,
     "metadata": {},
     "output_type": "execute_result"
    }
   ],
   "source": [
    "G"
   ]
  },
  {
   "cell_type": "code",
   "execution_count": 125,
   "id": "67bf28d1-4444-4e22-9ad7-24ea1327196d",
   "metadata": {},
   "outputs": [
    {
     "data": {
      "text/plain": [
       "[0, 0, 15, 77, 20, 19, 27]"
      ]
     },
     "execution_count": 125,
     "metadata": {},
     "output_type": "execute_result"
    }
   ],
   "source": [
    "cur"
   ]
  },
  {
   "cell_type": "code",
   "execution_count": 126,
   "id": "8f092938-1ef8-4d6d-bf06-c61f711b71e9",
   "metadata": {},
   "outputs": [
    {
     "data": {
      "text/plain": [
       "[]"
      ]
     },
     "execution_count": 126,
     "metadata": {},
     "output_type": "execute_result"
    }
   ],
   "source": [
    "q"
   ]
  },
  {
   "cell_type": "code",
   "execution_count": null,
   "id": "4812b191-f29d-4537-8856-681804810ba2",
   "metadata": {},
   "outputs": [],
   "source": []
  },
  {
   "cell_type": "code",
   "execution_count": null,
   "id": "dca96ffb-5065-4c3d-95e2-c2a62f560f78",
   "metadata": {},
   "outputs": [],
   "source": []
  }
 ],
 "metadata": {
  "kernelspec": {
   "display_name": "Python 3 (ipykernel)",
   "language": "python",
   "name": "python3"
  },
  "language_info": {
   "codemirror_mode": {
    "name": "ipython",
    "version": 3
   },
   "file_extension": ".py",
   "mimetype": "text/x-python",
   "name": "python",
   "nbconvert_exporter": "python",
   "pygments_lexer": "ipython3",
   "version": "3.9.12"
  }
 },
 "nbformat": 4,
 "nbformat_minor": 5
}
