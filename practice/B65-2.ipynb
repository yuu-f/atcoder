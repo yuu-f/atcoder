{
 "cells": [
  {
   "cell_type": "code",
   "execution_count": 1,
   "id": "e8f32dc9-cecb-4220-b224-10830ebd3a90",
   "metadata": {
    "tags": []
   },
   "outputs": [
    {
     "data": {
      "application/vnd.jupyter.widget-view+json": {
       "model_id": "e1056baa12b040a28df0ca014ca79a98",
       "version_major": 2,
       "version_minor": 0
      },
      "text/plain": [
       "Textarea(value='')"
      ]
     },
     "metadata": {},
     "output_type": "display_data"
    }
   ],
   "source": [
    "# Ref: https://qiita.com/noca/items/00646efd9d4a7302f522\n",
    "from ipywidgets import Textarea\n",
    "import io\n",
    "if 'open' in globals():\n",
    "    del open\n",
    "if 'input' in globals():\n",
    "    del input\n",
    "original_open = open\n",
    "class custom_open():\n",
    "    def __init__(self):\n",
    "        self.text = ''\n",
    "    def __call__(self, file, *args, **kwargs):\n",
    "        if file == 0:\n",
    "            return io.StringIO(self.text)\n",
    "        return original_open(file, *args, **kwargs)\n",
    "    def updater(self, change):\n",
    "        self.text = change[\"new\"]\n",
    "class custom_input():\n",
    "    def __init__(self):\n",
    "        self.__sio = io.StringIO('')\n",
    "        self.shell = get_ipython()\n",
    "        if self.shell.events.callbacks['pre_run_cell'] != []:\n",
    "            self.shell.events.callbacks['pre_run_cell'] = []\n",
    "        self.shell.events.register('pre_run_cell', self.pre_run_cell)\n",
    "    def __call__(self):\n",
    "        return self.__sio.readline().strip()\n",
    "    def pre_run_cell(self, info):\n",
    "        text = self.shell.user_ns.get('text_area', None).value\n",
    "        self.__sio = io.StringIO(text)\n",
    "open = custom_open()\n",
    "input = custom_input()\n",
    "text_area = Textarea()\n",
    "text_area.observe(open.updater, names='value')\n",
    "display(text_area)"
   ]
  },
  {
   "cell_type": "code",
   "execution_count": 106,
   "id": "64b2e419-8784-466e-9524-17ce20a1e79e",
   "metadata": {
    "tags": []
   },
   "outputs": [
    {
     "name": "stdout",
     "output_type": "stream",
     "text": [
      "4 1 0 0 0 3 0 0 2 1 0 2 1 0 0\n"
     ]
    }
   ],
   "source": [
    "from collections import deque\n",
    "import heapq\n",
    "\n",
    "N,T=map(int,input().split())\n",
    "E=[list(map(int,input().split())) for _ in range(N-1)]\n",
    "C=[[] for _ in range(N+1)]\n",
    "for a,b in E:\n",
    "    C[a].append(b)\n",
    "    C[b].append(a)\n",
    "\n",
    "dist=[-1]*(N+1)\n",
    "dist[T]=0\n",
    "q=deque()\n",
    "q.append(T)\n",
    "\n",
    "while len(q)>=1:\n",
    "    pos=q.popleft()\n",
    "    for nex in C[pos]:\n",
    "        if dist[nex]==-1:\n",
    "            dist[nex]=dist[pos]+1\n",
    "            q.append(nex)\n",
    "\n",
    "            \n",
    "d=[[dist[i]*(-1),i] for i in range(N+1)]\n",
    "heapq.heapify(d)\n",
    "\n",
    "ans=[0]*(N+1)\n",
    "done=[False]*(N+1)\n",
    "while len(d)>=1:\n",
    "    pos=heapq.heappop(d)[1]\n",
    "    done[pos]=True\n",
    "    for nex in C[pos]:\n",
    "        if done[nex]==False:\n",
    "            ans[nex]=max(ans[nex],ans[pos]+1)\n",
    "ans.pop(0)            \n",
    "print(*ans)"
   ]
  },
  {
   "cell_type": "code",
   "execution_count": 4,
   "id": "67bf28d1-4444-4e22-9ad7-24ea1327196d",
   "metadata": {},
   "outputs": [
    {
     "name": "stdout",
     "output_type": "stream",
     "text": [
      "2 0\n",
      "7 0\n",
      "1 1\n",
      "3 0\n",
      "4 0\n",
      "6 0\n",
      "10 0\n",
      "9 1\n",
      "8 2\n",
      "13 0\n",
      "12 1\n",
      "14 0\n",
      "11 2\n",
      "5 3\n",
      "0 4\n",
      "4 1 0 0 0 3 0 0 2 1 0 2 1 0 0\n"
     ]
    }
   ],
   "source": [
    "import sys\n",
    "sys.setrecursionlimit(1 << 30)  # 再帰上限をなくす\n",
    "\n",
    "N, T = map(int, input().split())\n",
    "T -= 1\n",
    "g = [[] for _ in range(N)]\n",
    "for _ in range(N - 1):\n",
    "    A, B = map(int, input().split())\n",
    "    A -= 1\n",
    "    B -= 1\n",
    "    g[A].append(B)\n",
    "    g[B].append(A)\n",
    "\n",
    "rank = [0] * N\n",
    "\n",
    "# 深さ優先探索\n",
    "def dfs(parent: int, i: int) -> int:\n",
    "    for j in g[i]:\n",
    "        if j == parent:\n",
    "            continue\n",
    "        r = dfs(i, j) + 1\n",
    "        if rank[i] < r:\n",
    "            rank[i] = r\n",
    "    print(i,rank[i])\n",
    "    return rank[i]\n",
    "dfs(-1, T)\n",
    "\n",
    "print(*rank)"
   ]
  },
  {
   "cell_type": "code",
   "execution_count": 5,
   "id": "c0d0b7ed-0c9b-4a47-a001-d20806786bac",
   "metadata": {},
   "outputs": [
    {
     "data": {
      "text/plain": [
       "[[1, 3, 4, 5],\n",
       " [0, 2, 7],\n",
       " [1],\n",
       " [0],\n",
       " [0],\n",
       " [0, 6, 8, 11],\n",
       " [5],\n",
       " [1],\n",
       " [5, 9],\n",
       " [8, 10],\n",
       " [9],\n",
       " [5, 12, 14],\n",
       " [11, 13],\n",
       " [12],\n",
       " [11]]"
      ]
     },
     "execution_count": 5,
     "metadata": {},
     "output_type": "execute_result"
    }
   ],
   "source": [
    "g"
   ]
  },
  {
   "cell_type": "code",
   "execution_count": null,
   "id": "9271936e-7c16-492f-8c15-343e93b7ea4d",
   "metadata": {},
   "outputs": [],
   "source": []
  },
  {
   "cell_type": "code",
   "execution_count": null,
   "id": "d9bd4ef9-5474-409f-8b9a-3c8dc040fa59",
   "metadata": {},
   "outputs": [],
   "source": []
  }
 ],
 "metadata": {
  "kernelspec": {
   "display_name": "Python 3 (ipykernel)",
   "language": "python",
   "name": "python3"
  },
  "language_info": {
   "codemirror_mode": {
    "name": "ipython",
    "version": 3
   },
   "file_extension": ".py",
   "mimetype": "text/x-python",
   "name": "python",
   "nbconvert_exporter": "python",
   "pygments_lexer": "ipython3",
   "version": "3.9.12"
  }
 },
 "nbformat": 4,
 "nbformat_minor": 5
}
