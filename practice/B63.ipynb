{
 "cells": [
  {
   "cell_type": "code",
   "execution_count": 1,
   "id": "e8f32dc9-cecb-4220-b224-10830ebd3a90",
   "metadata": {
    "tags": []
   },
   "outputs": [
    {
     "data": {
      "application/vnd.jupyter.widget-view+json": {
       "model_id": "7b7b1c5760b5412ab7b24a80b45287cf",
       "version_major": 2,
       "version_minor": 0
      },
      "text/plain": [
       "Textarea(value='')"
      ]
     },
     "metadata": {},
     "output_type": "display_data"
    }
   ],
   "source": [
    "# Ref: https://qiita.com/noca/items/00646efd9d4a7302f522\n",
    "from ipywidgets import Textarea\n",
    "import io\n",
    "if 'open' in globals():\n",
    "    del open\n",
    "if 'input' in globals():\n",
    "    del input\n",
    "original_open = open\n",
    "class custom_open():\n",
    "    def __init__(self):\n",
    "        self.text = ''\n",
    "    def __call__(self, file, *args, **kwargs):\n",
    "        if file == 0:\n",
    "            return io.StringIO(self.text)\n",
    "        return original_open(file, *args, **kwargs)\n",
    "    def updater(self, change):\n",
    "        self.text = change[\"new\"]\n",
    "class custom_input():\n",
    "    def __init__(self):\n",
    "        self.__sio = io.StringIO('')\n",
    "        self.shell = get_ipython()\n",
    "        if self.shell.events.callbacks['pre_run_cell'] != []:\n",
    "            self.shell.events.callbacks['pre_run_cell'] = []\n",
    "        self.shell.events.register('pre_run_cell', self.pre_run_cell)\n",
    "    def __call__(self):\n",
    "        return self.__sio.readline().strip()\n",
    "    def pre_run_cell(self, info):\n",
    "        text = self.shell.user_ns.get('text_area', None).value\n",
    "        self.__sio = io.StringIO(text)\n",
    "open = custom_open()\n",
    "input = custom_input()\n",
    "text_area = Textarea()\n",
    "text_area.observe(open.updater, names='value')\n",
    "display(text_area)"
   ]
  },
  {
   "cell_type": "code",
   "execution_count": 15,
   "id": "64b2e419-8784-466e-9524-17ce20a1e79e",
   "metadata": {
    "tags": []
   },
   "outputs": [
    {
     "name": "stdout",
     "output_type": "stream",
     "text": [
      "94\n"
     ]
    }
   ],
   "source": [
    "from collections import deque\n",
    "\n",
    "R,C=map(int,input().split())\n",
    "Sy,Sx=map(int,input().split())\n",
    "Gy,Gx=map(int,input().split())\n",
    "xy=[list(input()) for _ in range(R)]\n",
    "\n",
    "dist=[[-1]*C for _ in range(R)]\n",
    "dist[Sy-1][Sx-1]=0     \n",
    "q=deque()    \n",
    "q.append([Sy-1,Sx-1])\n",
    "\n",
    "def nex(pos):\n",
    "    _nex=[]\n",
    "    y=pos[0]\n",
    "    x=pos[1]\n",
    "    if y-1>=0 and xy[y][x]==\".\":\n",
    "        _nex.append([y-1,x])\n",
    "    if y+1<=R-1 and xy[y][x]==\".\":\n",
    "        _nex.append([y+1,x])\n",
    "    if x-1>=0 and xy[y][x]==\".\":\n",
    "        _nex.append([y,x-1])\n",
    "    if x+1<=C-1 and xy[y][x]==\".\":\n",
    "        _nex.append([y,x+1])    \n",
    "    return _nex\n",
    "\n",
    "while len(q)>=1:\n",
    "    pos=q.popleft()\n",
    "    g=nex(pos)\n",
    "    for _nex in g:\n",
    "        if dist[_nex[0]][_nex[1]]==-1:\n",
    "            dist[_nex[0]][_nex[1]]=dist[pos[0]][pos[1]]+1\n",
    "            q.append(_nex)\n",
    "\n",
    "print(dist[Gy-1][Gx-1])"
   ]
  },
  {
   "cell_type": "code",
   "execution_count": 11,
   "id": "a5f42120-71b2-4710-aa2c-ebf880158c8c",
   "metadata": {},
   "outputs": [
    {
     "data": {
      "text/plain": [
       "[['#', '#', '#', '#', '#', '#', '#', '#'],\n",
       " ['#', '.', '#', '.', '.', '.', '.', '#'],\n",
       " ['#', '.', '#', '#', '#', '.', '.', '#'],\n",
       " ['#', '.', '.', '.', '.', '.', '.', '#'],\n",
       " ['#', '#', '#', '#', '#', '#', '#', '#']]"
      ]
     },
     "execution_count": 11,
     "metadata": {},
     "output_type": "execute_result"
    }
   ],
   "source": [
    "xy"
   ]
  },
  {
   "cell_type": "code",
   "execution_count": 12,
   "id": "9c0e3fda-d2d1-417c-97ff-d3eededb7e5d",
   "metadata": {},
   "outputs": [
    {
     "data": {
      "text/plain": [
       "[[-1, 1, -1, 11, 10, 9, 10, -1],\n",
       " [1, 0, 1, 10, 9, 8, 9, 10],\n",
       " [2, 1, 2, 5, 6, 7, 8, 9],\n",
       " [3, 2, 3, 4, 5, 6, 7, 8],\n",
       " [-1, 3, 4, 5, 6, 7, 8, -1]]"
      ]
     },
     "execution_count": 12,
     "metadata": {},
     "output_type": "execute_result"
    }
   ],
   "source": [
    "dist"
   ]
  },
  {
   "cell_type": "code",
   "execution_count": null,
   "id": "64ff2271-fe73-4a72-bec3-5b9ff1632d95",
   "metadata": {},
   "outputs": [],
   "source": []
  }
 ],
 "metadata": {
  "kernelspec": {
   "display_name": "Python 3 (ipykernel)",
   "language": "python",
   "name": "python3"
  },
  "language_info": {
   "codemirror_mode": {
    "name": "ipython",
    "version": 3
   },
   "file_extension": ".py",
   "mimetype": "text/x-python",
   "name": "python",
   "nbconvert_exporter": "python",
   "pygments_lexer": "ipython3",
   "version": "3.9.12"
  }
 },
 "nbformat": 4,
 "nbformat_minor": 5
}
