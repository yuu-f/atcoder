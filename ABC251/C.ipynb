{
 "cells": [
  {
   "cell_type": "code",
   "execution_count": 1,
   "id": "d0de63e9-59de-4fe3-98f0-c1e0e1e4143d",
   "metadata": {},
   "outputs": [
    {
     "data": {
      "application/vnd.jupyter.widget-view+json": {
       "model_id": "9d7866c1e3654d87b2de30bc746cdb8b",
       "version_major": 2,
       "version_minor": 0
      },
      "text/plain": [
       "Textarea(value='')"
      ]
     },
     "metadata": {},
     "output_type": "display_data"
    }
   ],
   "source": [
    "# Ref: https://qiita.com/noca/items/00646efd9d4a7302f522\n",
    "from ipywidgets import Textarea\n",
    "import io\n",
    "if 'open' in globals():\n",
    "    del open\n",
    "if 'input' in globals():\n",
    "    del input\n",
    "original_open = open\n",
    "class custom_open():\n",
    "    def __init__(self):\n",
    "        self.text = ''\n",
    "    def __call__(self, file, *args, **kwargs):\n",
    "        if file == 0:\n",
    "            return io.StringIO(self.text)\n",
    "        return original_open(file, *args, **kwargs)\n",
    "    def updater(self, change):\n",
    "        self.text = change[\"new\"]\n",
    "class custom_input():\n",
    "    def __init__(self):\n",
    "        self.__sio = io.StringIO('')\n",
    "        self.shell = get_ipython()\n",
    "        if self.shell.events.callbacks['pre_run_cell'] != []:\n",
    "            self.shell.events.callbacks['pre_run_cell'] = []\n",
    "        self.shell.events.register('pre_run_cell', self.pre_run_cell)\n",
    "    def __call__(self):\n",
    "        return self.__sio.readline().strip()\n",
    "    def pre_run_cell(self, info):\n",
    "        text = self.shell.user_ns.get('text_area', None).value\n",
    "        self.__sio = io.StringIO(text)\n",
    "open = custom_open()\n",
    "input = custom_input()\n",
    "text_area = Textarea()\n",
    "text_area.observe(open.updater, names='value')\n",
    "display(text_area)"
   ]
  },
  {
   "cell_type": "code",
   "execution_count": 14,
   "id": "e2ebae89-7f30-4802-86b9-6a65fb511280",
   "metadata": {},
   "outputs": [
    {
     "name": "stdout",
     "output_type": "stream",
     "text": [
      "8\n"
     ]
    }
   ],
   "source": [
    "from collections import defaultdict\n",
    "N=int(input())\n",
    "ST=[list(input().split()) for _ in range(N)]\n",
    "\n",
    "d=defaultdict(set)\n",
    "_max=0\n",
    "_max_idx=0\n",
    "for i in range(N):\n",
    "    s,t=ST[i]\n",
    "    t=int(t)\n",
    "    if s in d: continue\n",
    "    d[s].add(t)\n",
    "    if _max<t:\n",
    "        _max=t\n",
    "        _max_idx=i\n",
    "print(_max_idx+1)"
   ]
  },
  {
   "cell_type": "code",
   "execution_count": 12,
   "id": "bf9bdb30-b3ea-4951-a04e-2f2997b9d7dc",
   "metadata": {},
   "outputs": [
    {
     "data": {
      "text/plain": [
       "[['bb', '3'],\n",
       " ['ba', '1'],\n",
       " ['aa', '4'],\n",
       " ['bb', '1'],\n",
       " ['ba', '5'],\n",
       " ['aa', '9'],\n",
       " ['aa', '2'],\n",
       " ['ab', '6'],\n",
       " ['bb', '5'],\n",
       " ['ab', '3']]"
      ]
     },
     "execution_count": 12,
     "metadata": {},
     "output_type": "execute_result"
    }
   ],
   "source": [
    "ST"
   ]
  },
  {
   "cell_type": "code",
   "execution_count": null,
   "id": "2cf81978-d63d-4bbb-8195-fff18961ea0b",
   "metadata": {},
   "outputs": [],
   "source": []
  }
 ],
 "metadata": {
  "kernelspec": {
   "display_name": "Python 3 (ipykernel)",
   "language": "python",
   "name": "python3"
  },
  "language_info": {
   "codemirror_mode": {
    "name": "ipython",
    "version": 3
   },
   "file_extension": ".py",
   "mimetype": "text/x-python",
   "name": "python",
   "nbconvert_exporter": "python",
   "pygments_lexer": "ipython3",
   "version": "3.9.12"
  }
 },
 "nbformat": 4,
 "nbformat_minor": 5
}
