{
 "cells": [
  {
   "cell_type": "code",
   "execution_count": 1,
   "id": "2cb70de4-04ae-433f-98cb-65b12c1d6d22",
   "metadata": {},
   "outputs": [
    {
     "data": {
      "application/vnd.jupyter.widget-view+json": {
       "model_id": "9a3e7d91175e4563808122c61aec1fa0",
       "version_major": 2,
       "version_minor": 0
      },
      "text/plain": [
       "Textarea(value='')"
      ]
     },
     "metadata": {},
     "output_type": "display_data"
    }
   ],
   "source": [
    "# Ref: https://qiita.com/noca/items/00646efd9d4a7302f522\n",
    "from ipywidgets import Textarea\n",
    "import io\n",
    "if 'open' in globals():\n",
    "    del open\n",
    "if 'input' in globals():\n",
    "    del input\n",
    "original_open = open\n",
    "class custom_open():\n",
    "    def __init__(self):\n",
    "        self.text = ''\n",
    "    def __call__(self, file, *args, **kwargs):\n",
    "        if file == 0:\n",
    "            return io.StringIO(self.text)\n",
    "        return original_open(file, *args, **kwargs)\n",
    "    def updater(self, change):\n",
    "        self.text = change[\"new\"]\n",
    "class custom_input():\n",
    "    def __init__(self):\n",
    "        self.__sio = io.StringIO('')\n",
    "        self.shell = get_ipython()\n",
    "        if self.shell.events.callbacks['pre_run_cell'] != []:\n",
    "            self.shell.events.callbacks['pre_run_cell'] = []\n",
    "        self.shell.events.register('pre_run_cell', self.pre_run_cell)\n",
    "    def __call__(self):\n",
    "        return self.__sio.readline().strip()\n",
    "    def pre_run_cell(self, info):\n",
    "        text = self.shell.user_ns.get('text_area', None).value\n",
    "        self.__sio = io.StringIO(text)\n",
    "open = custom_open()\n",
    "input = custom_input()\n",
    "text_area = Textarea()\n",
    "text_area.observe(open.updater, names='value')\n",
    "display(text_area)"
   ]
  },
  {
   "cell_type": "code",
   "execution_count": 54,
   "id": "1f49070a-9d71-4245-a95b-c0626f9ba871",
   "metadata": {},
   "outputs": [
    {
     "name": "stdout",
     "output_type": "stream",
     "text": [
      "1\n"
     ]
    }
   ],
   "source": [
    "N,X,Y,Z=map(int,input().split())\n",
    "A=list(map(int,input().split()))\n",
    "B=list(map(int,input().split()))\n",
    "\n",
    "C=[A[i]+B[i] for i in range(N)]\n",
    "\n",
    "A=[(A[i],-(i+1)) for i in range(N)]\n",
    "B=[(B[i],-(i+1)) for i in range(N)]\n",
    "C=[(C[i],-(i+1)) for i in range(N)]\n",
    "\n",
    "A=sorted(A,reverse=True)\n",
    "B=sorted(B,reverse=True)\n",
    "C=sorted(C,reverse=True)\n",
    "\n",
    "ans=[]\n",
    "cnt=Y+Z\n",
    "for i in range(X):\n",
    "    ans.append(A[i][1])\n",
    "\n",
    "idx=0\n",
    "while cnt!=Z and idx<N:\n",
    "    if B[idx][1] not in ans:\n",
    "        ans.append(B[idx][1])\n",
    "        cnt-=1\n",
    "    idx+=1\n",
    "\n",
    "idx=0\n",
    "while cnt!=0 and idx<N:\n",
    "    if C[idx][1] not in ans:\n",
    "        ans.append(C[idx][1])\n",
    "        cnt-=1\n",
    "    idx+=1\n",
    "\n",
    "ans=[-1*a for a in ans]\n",
    "ans=sorted(ans)\n",
    "for a in ans:\n",
    "    print(a)"
   ]
  },
  {
   "cell_type": "code",
   "execution_count": 50,
   "id": "c1314482-bcf9-4684-b17e-788e24bf2d01",
   "metadata": {},
   "outputs": [
    {
     "data": {
      "text/plain": [
       "[(10, -1)]"
      ]
     },
     "execution_count": 50,
     "metadata": {},
     "output_type": "execute_result"
    }
   ],
   "source": [
    "A"
   ]
  },
  {
   "cell_type": "code",
   "execution_count": 51,
   "id": "fb5234f7-cb06-4dd6-af97-3a59d096f650",
   "metadata": {},
   "outputs": [
    {
     "data": {
      "text/plain": [
       "[(9, -1)]"
      ]
     },
     "execution_count": 51,
     "metadata": {},
     "output_type": "execute_result"
    }
   ],
   "source": [
    "B"
   ]
  },
  {
   "cell_type": "code",
   "execution_count": 52,
   "id": "c9fca9c1-7b56-42df-a123-b81ab4da764f",
   "metadata": {},
   "outputs": [
    {
     "data": {
      "text/plain": [
       "[1]"
      ]
     },
     "execution_count": 52,
     "metadata": {},
     "output_type": "execute_result"
    }
   ],
   "source": [
    "ans"
   ]
  },
  {
   "cell_type": "code",
   "execution_count": 53,
   "id": "b62ab95d-1889-43ff-9880-690ddeaf1341",
   "metadata": {},
   "outputs": [
    {
     "data": {
      "text/plain": [
       "[(19, -1)]"
      ]
     },
     "execution_count": 53,
     "metadata": {},
     "output_type": "execute_result"
    }
   ],
   "source": [
    "C"
   ]
  },
  {
   "cell_type": "code",
   "execution_count": null,
   "id": "285622ef-e51d-427c-84b3-a0ff18744c85",
   "metadata": {},
   "outputs": [],
   "source": []
  }
 ],
 "metadata": {
  "kernelspec": {
   "display_name": "Python 3 (ipykernel)",
   "language": "python",
   "name": "python3"
  },
  "language_info": {
   "codemirror_mode": {
    "name": "ipython",
    "version": 3
   },
   "file_extension": ".py",
   "mimetype": "text/x-python",
   "name": "python",
   "nbconvert_exporter": "python",
   "pygments_lexer": "ipython3",
   "version": "3.9.12"
  }
 },
 "nbformat": 4,
 "nbformat_minor": 5
}
