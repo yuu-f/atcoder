{
 "cells": [
  {
   "cell_type": "code",
   "execution_count": 1,
   "id": "2cb70de4-04ae-433f-98cb-65b12c1d6d22",
   "metadata": {},
   "outputs": [
    {
     "data": {
      "application/vnd.jupyter.widget-view+json": {
       "model_id": "3524adb295894ddfa864f486ec871d16",
       "version_major": 2,
       "version_minor": 0
      },
      "text/plain": [
       "Textarea(value='')"
      ]
     },
     "metadata": {},
     "output_type": "display_data"
    }
   ],
   "source": [
    "# Ref: https://qiita.com/noca/items/00646efd9d4a7302f522\n",
    "from ipywidgets import Textarea\n",
    "import io\n",
    "if 'open' in globals():\n",
    "    del open\n",
    "if 'input' in globals():\n",
    "    del input\n",
    "original_open = open\n",
    "class custom_open():\n",
    "    def __init__(self):\n",
    "        self.text = ''\n",
    "    def __call__(self, file, *args, **kwargs):\n",
    "        if file == 0:\n",
    "            return io.StringIO(self.text)\n",
    "        return original_open(file, *args, **kwargs)\n",
    "    def updater(self, change):\n",
    "        self.text = change[\"new\"]\n",
    "class custom_input():\n",
    "    def __init__(self):\n",
    "        self.__sio = io.StringIO('')\n",
    "        self.shell = get_ipython()\n",
    "        if self.shell.events.callbacks['pre_run_cell'] != []:\n",
    "            self.shell.events.callbacks['pre_run_cell'] = []\n",
    "        self.shell.events.register('pre_run_cell', self.pre_run_cell)\n",
    "    def __call__(self):\n",
    "        return self.__sio.readline().strip()\n",
    "    def pre_run_cell(self, info):\n",
    "        text = self.shell.user_ns.get('text_area', None).value\n",
    "        self.__sio = io.StringIO(text)\n",
    "open = custom_open()\n",
    "input = custom_input()\n",
    "text_area = Textarea()\n",
    "text_area.observe(open.updater, names='value')\n",
    "display(text_area)"
   ]
  },
  {
   "cell_type": "code",
   "execution_count": 60,
   "id": "1f49070a-9d71-4245-a95b-c0626f9ba871",
   "metadata": {},
   "outputs": [
    {
     "name": "stdout",
     "output_type": "stream",
     "text": [
      "0\n"
     ]
    }
   ],
   "source": [
    "N,X,Y=map(int,input().split())\n",
    "\n",
    "# red=[N,1]\n",
    "# brue=[N,0]\n",
    "\n",
    "# while red[0]!=1:\n",
    "    \n",
    "#     # red(n,z) -> red(n-1,z), brue(n,x*z)\n",
    "#     brue[1]+=X*red[1]\n",
    "#     red[0]-=1\n",
    "#     red[1]=red[1]\n",
    "    \n",
    "#     # brue(n,z) -> red(n-1,z), brue(n-1,y*z)\n",
    "#     red[1]+=brue[1]\n",
    "#     brue[1]=Y*brue[1]\n",
    "#     brue[0]-=1\n",
    "\n",
    "# print(brue[1])"
   ]
  },
  {
   "cell_type": "code",
   "execution_count": 17,
   "id": "b0486d04-bf17-4690-b9d5-aa6a7dbdf021",
   "metadata": {},
   "outputs": [
    {
     "name": "stdout",
     "output_type": "stream",
     "text": [
      "0\n"
     ]
    }
   ],
   "source": [
    "N,X,Y=map(int,input().split())\n",
    "\n",
    "r=[0]*(N+1)\n",
    "b=[0]*(N+1)\n",
    "\n",
    "r[N]=1\n",
    "if N>1:\n",
    "    b[N]=X\n",
    "else:\n",
    "    b[N]=0\n",
    "\n",
    "for i in range(N-1,0,-1):\n",
    "    r[i] = r[i+1] + b[i+1]\n",
    "    if i>1:\n",
    "        b[i] = b[i+1]*Y + r[i]*X\n",
    "    else:\n",
    "        b[i] = b[i+1]*Y\n",
    "print(b[1])"
   ]
  },
  {
   "cell_type": "code",
   "execution_count": null,
   "id": "cd4767cd-c456-4e1f-840b-7a00bb11e2bf",
   "metadata": {},
   "outputs": [],
   "source": []
  },
  {
   "cell_type": "code",
   "execution_count": null,
   "id": "363dd168-cca0-49d7-9f8f-29b4e2102064",
   "metadata": {},
   "outputs": [],
   "source": []
  }
 ],
 "metadata": {
  "kernelspec": {
   "display_name": "Python 3 (ipykernel)",
   "language": "python",
   "name": "python3"
  },
  "language_info": {
   "codemirror_mode": {
    "name": "ipython",
    "version": 3
   },
   "file_extension": ".py",
   "mimetype": "text/x-python",
   "name": "python",
   "nbconvert_exporter": "python",
   "pygments_lexer": "ipython3",
   "version": "3.9.12"
  }
 },
 "nbformat": 4,
 "nbformat_minor": 5
}
