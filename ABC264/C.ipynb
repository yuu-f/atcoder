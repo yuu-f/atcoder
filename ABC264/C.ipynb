{
 "cells": [
  {
   "cell_type": "code",
   "execution_count": 2,
   "id": "bf1d364f-9caf-4bf2-b8d5-f6ff355b69b5",
   "metadata": {},
   "outputs": [
    {
     "data": {
      "application/vnd.jupyter.widget-view+json": {
       "model_id": "266cf12634d14e77bf01b0e7909cfb3b",
       "version_major": 2,
       "version_minor": 0
      },
      "text/plain": [
       "Textarea(value='')"
      ]
     },
     "metadata": {},
     "output_type": "display_data"
    }
   ],
   "source": [
    "# Ref: https://qiita.com/noca/items/00646efd9d4a7302f522\n",
    "from ipywidgets import Textarea\n",
    "import io\n",
    "if 'open' in globals():\n",
    "    del open\n",
    "if 'input' in globals():\n",
    "    del input\n",
    "original_open = open\n",
    "class custom_open():\n",
    "    def __init__(self):\n",
    "        self.text = ''\n",
    "    def __call__(self, file, *args, **kwargs):\n",
    "        if file == 0:\n",
    "            return io.StringIO(self.text)\n",
    "        return original_open(file, *args, **kwargs)\n",
    "    def updater(self, change):\n",
    "        self.text = change[\"new\"]\n",
    "class custom_input():\n",
    "    def __init__(self):\n",
    "        self.__sio = io.StringIO('')\n",
    "        self.shell = get_ipython()\n",
    "        if self.shell.events.callbacks['pre_run_cell'] != []:\n",
    "            self.shell.events.callbacks['pre_run_cell'] = []\n",
    "        self.shell.events.register('pre_run_cell', self.pre_run_cell)\n",
    "    def __call__(self):\n",
    "        return self.__sio.readline().strip()\n",
    "    def pre_run_cell(self, info):\n",
    "        text = self.shell.user_ns.get('text_area', None).value\n",
    "        self.__sio = io.StringIO(text)\n",
    "open = custom_open()\n",
    "input = custom_input()\n",
    "text_area = Textarea()\n",
    "text_area.observe(open.updater, names='value')\n",
    "display(text_area)"
   ]
  },
  {
   "cell_type": "code",
   "execution_count": 47,
   "id": "3c80f6a5-8df0-48dd-ad19-e7cf49a0d8b3",
   "metadata": {
    "tags": []
   },
   "outputs": [
    {
     "name": "stdout",
     "output_type": "stream",
     "text": [
      "Yes\n"
     ]
    },
    {
     "ename": "SystemExit",
     "evalue": "0",
     "output_type": "error",
     "traceback": [
      "An exception has occurred, use %tb to see the full traceback.\n",
      "\u001b[1;31mSystemExit\u001b[0m\u001b[1;31m:\u001b[0m 0\n"
     ]
    }
   ],
   "source": [
    "import sys\n",
    "H1,W1=map(int,input().split())\n",
    "A=[list(map(int,input().split())) for _ in range(H1)]\n",
    "H2,W2=map(int,input().split())\n",
    "B=[list(map(int,input().split())) for _ in range(H2)]\n",
    "\n",
    "for i in range(1<<H1):\n",
    "    for j in range(1<<W1):\n",
    "        add_h=[]\n",
    "        add_w=[]\n",
    "        for k in range(H1):\n",
    "            if (i>>k)&1 == 0:\n",
    "                add_h.append(k)\n",
    "        for l in range(W1):\n",
    "            if (j>>l)&1 == 0:\n",
    "                add_w.append(l)\n",
    "        # 採用する行\n",
    "        x=list()\n",
    "        for a in add_h:\n",
    "            x.append(A[a])\n",
    "        y=[]\n",
    "        # 採用する列\n",
    "        for b in x:\n",
    "            z=[]\n",
    "            for c in range(len(b)):\n",
    "                if c in add_w:\n",
    "                    z.append(b[c])\n",
    "            y.append(z)\n",
    "        if y==B:\n",
    "            print(\"Yes\")\n",
    "            sys.exit(0)\n",
    "print(\"No\")"
   ]
  },
  {
   "cell_type": "code",
   "execution_count": null,
   "id": "d287b9dd-446b-4bd0-bade-82b7d1c2c04e",
   "metadata": {},
   "outputs": [],
   "source": []
  },
  {
   "cell_type": "markdown",
   "id": "5504db94-3778-40ad-869a-f66e8ef9adf4",
   "metadata": {},
   "source": [
    "解説"
   ]
  },
  {
   "cell_type": "code",
   "execution_count": 15,
   "id": "5c425fd1-1dc0-4f00-b009-f766b7940520",
   "metadata": {},
   "outputs": [
    {
     "name": "stdout",
     "output_type": "stream",
     "text": [
      "(0, 1) (0, 1, 2)\n",
      "(0, 1) (0, 1, 3)\n",
      "(0, 1) (0, 1, 4)\n",
      "(0, 1) (0, 2, 3)\n",
      "(0, 1) (0, 2, 4)\n",
      "(0, 1) (0, 3, 4)\n",
      "(0, 1) (1, 2, 3)\n",
      "(0, 1) (1, 2, 4)\n",
      "(0, 1) (1, 3, 4)\n",
      "(0, 1) (2, 3, 4)\n",
      "(0, 2) (0, 1, 2)\n",
      "(0, 2) (0, 1, 3)\n",
      "(0, 2) (0, 1, 4)\n",
      "(0, 2) (0, 2, 3)\n",
      "(0, 2) (0, 2, 4)\n",
      "(0, 2) (0, 3, 4)\n",
      "(0, 2) (1, 2, 3)\n",
      "(0, 2) (1, 2, 4)\n",
      "(0, 2) (1, 3, 4)\n",
      "(0, 2) (2, 3, 4)\n",
      "(0, 3) (0, 1, 2)\n",
      "(0, 3) (0, 1, 3)\n",
      "(0, 3) (0, 1, 4)\n",
      "(0, 3) (0, 2, 3)\n",
      "(0, 3) (0, 2, 4)\n",
      "(0, 3) (0, 3, 4)\n",
      "(0, 3) (1, 2, 3)\n",
      "(0, 3) (1, 2, 4)\n",
      "(0, 3) (1, 3, 4)\n",
      "(0, 3) (2, 3, 4)\n",
      "(1, 2) (0, 1, 2)\n",
      "(1, 2) (0, 1, 3)\n",
      "(1, 2) (0, 1, 4)\n",
      "(1, 2) (0, 2, 3)\n",
      "(1, 2) (0, 2, 4)\n",
      "(1, 2) (0, 3, 4)\n",
      "(1, 2) (1, 2, 3)\n",
      "(1, 2) (1, 2, 4)\n",
      "(1, 2) (1, 3, 4)\n",
      "(1, 2) (2, 3, 4)\n",
      "(1, 3) (0, 1, 2)\n",
      "(1, 3) (0, 1, 3)\n",
      "(1, 3) (0, 1, 4)\n",
      "(1, 3) (0, 2, 3)\n",
      "Yes\n"
     ]
    },
    {
     "ename": "SystemExit",
     "evalue": "0",
     "output_type": "error",
     "traceback": [
      "An exception has occurred, use %tb to see the full traceback.\n",
      "\u001b[1;31mSystemExit\u001b[0m\u001b[1;31m:\u001b[0m 0\n"
     ]
    }
   ],
   "source": [
    "\n",
    "import sys\n",
    "from itertools import combinations\n",
    "H,W=map(int,input().split())\n",
    "A=[list(map(int,input().split())) for _ in range(H)]\n",
    "h,w=map(int,input().split())\n",
    "B=[list(map(int,input().split())) for _ in range(h)]\n",
    "\n",
    "def check(hidx,widx):\n",
    "\tfor i in range(h):\n",
    "\t\tfor j in range(w):\n",
    "\t\t\tif A[hidx[i]][widx[j]]!=B[i][j]:\n",
    "\t\t\t\treturn False\n",
    "\treturn True\n",
    "\n",
    "# combinations で B と同じ大きさの行列を作れる組み合わせを列挙する\n",
    "for hidx in combinations(range(H),h):\n",
    "\tfor widx in combinations(range(W),w):\n",
    "\t\tprint(hidx,widx)\n",
    "\t\tif check(hidx,widx):\n",
    "\t\t\tprint(\"Yes\")\n",
    "\t\t\tsys.exit(0)\n",
    "print(\"No\")"
   ]
  },
  {
   "cell_type": "code",
   "execution_count": null,
   "id": "5c5ecf79-e887-446d-b6ea-0960e941389c",
   "metadata": {},
   "outputs": [],
   "source": []
  },
  {
   "cell_type": "code",
   "execution_count": 6,
   "id": "99167b47-96d6-47aa-9412-68ff525c62ce",
   "metadata": {},
   "outputs": [
    {
     "name": "stdout",
     "output_type": "stream",
     "text": [
      "(0, 1)\n",
      "(0, 2)\n",
      "(0, 3)\n",
      "(1, 2)\n",
      "(1, 3)\n",
      "(2, 3)\n"
     ]
    }
   ],
   "source": [
    "for hidx in combinations(range(H),h):\n",
    "    print(hidx)"
   ]
  },
  {
   "cell_type": "code",
   "execution_count": 7,
   "id": "d0865754-ba4a-45cc-8429-b76585ec742b",
   "metadata": {},
   "outputs": [
    {
     "name": "stdout",
     "output_type": "stream",
     "text": [
      "(0, 1, 2)\n",
      "(0, 1, 3)\n",
      "(0, 1, 4)\n",
      "(0, 2, 3)\n",
      "(0, 2, 4)\n",
      "(0, 3, 4)\n",
      "(1, 2, 3)\n",
      "(1, 2, 4)\n",
      "(1, 3, 4)\n",
      "(2, 3, 4)\n"
     ]
    }
   ],
   "source": [
    "for widx in combinations(range(W),w):\n",
    "    print(widx)"
   ]
  },
  {
   "cell_type": "code",
   "execution_count": null,
   "id": "5e9d802c-a6af-47e9-912e-9f7cff89b812",
   "metadata": {},
   "outputs": [],
   "source": []
  }
 ],
 "metadata": {
  "kernelspec": {
   "display_name": "Python 3 (ipykernel)",
   "language": "python",
   "name": "python3"
  },
  "language_info": {
   "codemirror_mode": {
    "name": "ipython",
    "version": 3
   },
   "file_extension": ".py",
   "mimetype": "text/x-python",
   "name": "python",
   "nbconvert_exporter": "python",
   "pygments_lexer": "ipython3",
   "version": "3.9.12"
  }
 },
 "nbformat": 4,
 "nbformat_minor": 5
}
