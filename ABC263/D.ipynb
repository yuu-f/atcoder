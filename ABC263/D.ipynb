{
 "cells": [
  {
   "cell_type": "code",
   "execution_count": 7,
   "id": "bf1d364f-9caf-4bf2-b8d5-f6ff355b69b5",
   "metadata": {},
   "outputs": [
    {
     "data": {
      "application/vnd.jupyter.widget-view+json": {
       "model_id": "a0d3000b49814b6ca78511e64f74ac02",
       "version_major": 2,
       "version_minor": 0
      },
      "text/plain": [
       "Textarea(value='')"
      ]
     },
     "metadata": {},
     "output_type": "display_data"
    }
   ],
   "source": [
    "# Ref: https://qiita.com/noca/items/00646efd9d4a7302f522\n",
    "from ipywidgets import Textarea\n",
    "import io\n",
    "if 'open' in globals():\n",
    "    del open\n",
    "if 'input' in globals():\n",
    "    del input\n",
    "original_open = open\n",
    "class custom_open():\n",
    "    def __init__(self):\n",
    "        self.text = ''\n",
    "    def __call__(self, file, *args, **kwargs):\n",
    "        if file == 0:\n",
    "            return io.StringIO(self.text)\n",
    "        return original_open(file, *args, **kwargs)\n",
    "    def updater(self, change):\n",
    "        self.text = change[\"new\"]\n",
    "class custom_input():\n",
    "    def __init__(self):\n",
    "        self.__sio = io.StringIO('')\n",
    "        self.shell = get_ipython()\n",
    "        if self.shell.events.callbacks['pre_run_cell'] != []:\n",
    "            self.shell.events.callbacks['pre_run_cell'] = []\n",
    "        self.shell.events.register('pre_run_cell', self.pre_run_cell)\n",
    "    def __call__(self):\n",
    "        return self.__sio.readline().strip()\n",
    "    def pre_run_cell(self, info):\n",
    "        text = self.shell.user_ns.get('text_area', None).value\n",
    "        self.__sio = io.StringIO(text)\n",
    "open = custom_open()\n",
    "input = custom_input()\n",
    "text_area = Textarea()\n",
    "text_area.observe(open.updater, names='value')\n",
    "display(text_area)"
   ]
  },
  {
   "cell_type": "code",
   "execution_count": 50,
   "id": "6d154095-322e-4318-87ea-62aee0ce596c",
   "metadata": {},
   "outputs": [
    {
     "name": "stdout",
     "output_type": "stream",
     "text": [
      "-58\n"
     ]
    }
   ],
   "source": [
    "N,L,R=map(int,input().split())\n",
    "A=list(map(int,input().split()))\n",
    "\n",
    "_sum=[0]\n",
    "for a in A:\n",
    "    _sum.append(_sum[-1]+a)\n",
    "\n",
    "left=[0]*(N+1)\n",
    "for l in range(N+1):\n",
    "    left[l] = l*L - _sum[l]\n",
    "\n",
    "right=[0]*(N+1)\n",
    "for r in range(N+1):\n",
    "    right[r] = (N-r)*R + _sum[r]\n",
    "\n",
    "rightmin = right\n",
    "for i in range(N-1,-1,-1):\n",
    "    right[i]=min(right[i+1],right[i])\n",
    "\n",
    "_min=L*N\n",
    "for l in range(N+1):\n",
    "    # for r in range(l,N+1):\n",
    "        # tmp=l*L+sum(A[l:r])+(N-r)*R\n",
    "        # tmp=l*L+_sum[r]-_sum[l]+(N-r)*R\n",
    "        # tmp=l*L-_sum[l]+_sum[r]+(N-r)*R\n",
    "        # tmp=left[l] + right[r]\n",
    "        # _min=min(_min,tmp)\n",
    "    tmp = left[l] + rightmin[l]\n",
    "    _min=min(_min,tmp)\n",
    "print(_min)"
   ]
  },
  {
   "cell_type": "code",
   "execution_count": 51,
   "id": "68b483d0-c53f-4a60-babc-b04d633eba65",
   "metadata": {},
   "outputs": [
    {
     "data": {
      "text/plain": [
       "[0, -14, -13, -28, -32, -39, -54, -58, -70, -60, -70]"
      ]
     },
     "execution_count": 51,
     "metadata": {},
     "output_type": "execute_result"
    }
   ],
   "source": [
    "left"
   ]
  },
  {
   "cell_type": "code",
   "execution_count": 52,
   "id": "7ae58404-fd7a-421a-b7cf-4581dcdc2a97",
   "metadata": {},
   "outputs": [
    {
     "data": {
      "text/plain": [
       "[-30, -21, -21, -8, -6, -1, 12, 12, 12, 12, 20]"
      ]
     },
     "execution_count": 52,
     "metadata": {},
     "output_type": "execute_result"
    }
   ],
   "source": [
    "right"
   ]
  },
  {
   "cell_type": "code",
   "execution_count": 53,
   "id": "b07cc45e-7c2c-4e22-bcb9-9f329b370e3b",
   "metadata": {},
   "outputs": [
    {
     "data": {
      "text/plain": [
       "21"
      ]
     },
     "execution_count": 53,
     "metadata": {},
     "output_type": "execute_result"
    }
   ],
   "source": [
    "l=2\n",
    "r=6\n",
    "_sum[r]-_sum[l]"
   ]
  },
  {
   "cell_type": "code",
   "execution_count": 54,
   "id": "0a1a2ff6-ab29-4d65-98a5-19119e2a2fb4",
   "metadata": {},
   "outputs": [
    {
     "data": {
      "text/plain": [
       "24"
      ]
     },
     "execution_count": 54,
     "metadata": {},
     "output_type": "execute_result"
    }
   ],
   "source": [
    "_sum[r]"
   ]
  },
  {
   "cell_type": "code",
   "execution_count": 55,
   "id": "6da30ec0-6dbd-4ebb-a9ab-8e4b3ddd77f8",
   "metadata": {},
   "outputs": [
    {
     "data": {
      "text/plain": [
       "3"
      ]
     },
     "execution_count": 55,
     "metadata": {},
     "output_type": "execute_result"
    }
   ],
   "source": [
    "_sum[l]"
   ]
  },
  {
   "cell_type": "code",
   "execution_count": null,
   "id": "5758b597-2905-46c4-b633-7441bd372a65",
   "metadata": {},
   "outputs": [],
   "source": []
  },
  {
   "cell_type": "code",
   "execution_count": null,
   "id": "5893e3b7-26d7-4101-b00b-00f028f105c2",
   "metadata": {},
   "outputs": [],
   "source": []
  },
  {
   "cell_type": "code",
   "execution_count": null,
   "id": "adc0e929-a355-4aa0-960d-2c909f440254",
   "metadata": {},
   "outputs": [],
   "source": []
  }
 ],
 "metadata": {
  "kernelspec": {
   "display_name": "Python 3 (ipykernel)",
   "language": "python",
   "name": "python3"
  },
  "language_info": {
   "codemirror_mode": {
    "name": "ipython",
    "version": 3
   },
   "file_extension": ".py",
   "mimetype": "text/x-python",
   "name": "python",
   "nbconvert_exporter": "python",
   "pygments_lexer": "ipython3",
   "version": "3.9.12"
  }
 },
 "nbformat": 4,
 "nbformat_minor": 5
}
