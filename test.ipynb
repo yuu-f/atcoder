{
 "cells": [
  {
   "cell_type": "markdown",
   "id": "8190301a-448e-4df9-a18c-687cbcf4413c",
   "metadata": {
    "tags": []
   },
   "source": [
    "# 自戒メモ"
   ]
  },
  {
   "cell_type": "markdown",
   "id": "33bae43d-593e-4a31-9ede-46f8e06f27a4",
   "metadata": {},
   "source": [
    "答えをリストに格納して最小値/最大値を求めるとき、リスト内に余分な値がないことを確認する。または初期化する値を工夫する。<br>\n",
    "（例）<br>\n",
    " ans = [0] * 6 <br>\n",
    " ans[0:3]まで計算して格納、ans[4:] は答えに使わない <br>\n",
    " ans = [-1, -4, -7, -10, 0, 0] <br>\n",
    " max(ans) = 0 となるが、答えは max(ans) = -1 が正しい"
   ]
  },
  {
   "cell_type": "code",
   "execution_count": null,
   "id": "afd4b748-004a-402f-84a3-2741725bd5ef",
   "metadata": {},
   "outputs": [],
   "source": []
  }
 ],
 "metadata": {
  "kernelspec": {
   "display_name": "Python 3 (ipykernel)",
   "language": "python",
   "name": "python3"
  },
  "language_info": {
   "codemirror_mode": {
    "name": "ipython",
    "version": 3
   },
   "file_extension": ".py",
   "mimetype": "text/x-python",
   "name": "python",
   "nbconvert_exporter": "python",
   "pygments_lexer": "ipython3",
   "version": "3.9.12"
  }
 },
 "nbformat": 4,
 "nbformat_minor": 5
}
