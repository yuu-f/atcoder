{
 "cells": [
  {
   "cell_type": "code",
   "execution_count": 3,
   "id": "a9169a52",
   "metadata": {},
   "outputs": [
    {
     "data": {
      "application/vnd.jupyter.widget-view+json": {
       "model_id": "b46653ea90e940fab1779232e0f29407",
       "version_major": 2,
       "version_minor": 0
      },
      "text/plain": [
       "Textarea(value='')"
      ]
     },
     "metadata": {},
     "output_type": "display_data"
    }
   ],
   "source": [
    "from ipywidgets import Textarea\n",
    "\n",
    "def get_input(change):\n",
    "    global Input\n",
    "    Input = change[\"new\"]\n",
    "\n",
    "textarea = Textarea()\n",
    "textarea.observe(get_input, names='value')\n",
    "display(textarea)"
   ]
  },
  {
   "cell_type": "code",
   "execution_count": 4,
   "id": "b49d4135",
   "metadata": {},
   "outputs": [],
   "source": [
    "IN = iter(Input.split('\\n')).__next__\n",
    "def input():\n",
    "    return IN()"
   ]
  },
  {
   "cell_type": "code",
   "execution_count": 5,
   "id": "4c8f07b4",
   "metadata": {},
   "outputs": [],
   "source": [
    "# ----coding----"
   ]
  },
  {
   "cell_type": "code",
   "execution_count": null,
   "id": "052addfd",
   "metadata": {},
   "outputs": [],
   "source": []
  }
 ],
 "metadata": {
  "kernelspec": {
   "display_name": "Python 3 (ipykernel)",
   "language": "python",
   "name": "python3"
  },
  "language_info": {
   "codemirror_mode": {
    "name": "ipython",
    "version": 3
   },
   "file_extension": ".py",
   "mimetype": "text/x-python",
   "name": "python",
   "nbconvert_exporter": "python",
   "pygments_lexer": "ipython3",
   "version": "3.9.12"
  }
 },
 "nbformat": 4,
 "nbformat_minor": 5
}
