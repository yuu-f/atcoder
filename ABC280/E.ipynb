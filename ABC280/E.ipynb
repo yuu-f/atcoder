{
 "cells": [
  {
   "cell_type": "code",
   "execution_count": 2,
   "id": "a8f661ee-9939-4703-8327-d3bce6fe56ae",
   "metadata": {},
   "outputs": [
    {
     "data": {
      "application/vnd.jupyter.widget-view+json": {
       "model_id": "a7a82ee55be7491885a9fc901c48e302",
       "version_major": 2,
       "version_minor": 0
      },
      "text/plain": [
       "Textarea(value='')"
      ]
     },
     "metadata": {},
     "output_type": "display_data"
    }
   ],
   "source": [
    "# Ref: https://qiita.com/noca/items/00646efd9d4a7302f522\n",
    "from ipywidgets import Textarea\n",
    "import io\n",
    "if 'open' in globals():\n",
    "    del open\n",
    "if 'input' in globals():\n",
    "    del input\n",
    "original_open = open\n",
    "class custom_open():\n",
    "    def __init__(self):\n",
    "        self.text = ''\n",
    "    def __call__(self, file, *args, **kwargs):\n",
    "        if file == 0:\n",
    "            return io.StringIO(self.text)\n",
    "        return original_open(file, *args, **kwargs)\n",
    "    def updater(self, change):\n",
    "        self.text = change[\"new\"]\n",
    "class custom_input():\n",
    "    def __init__(self):\n",
    "        self.__sio = io.StringIO('')\n",
    "        self.shell = get_ipython()\n",
    "        if self.shell.events.callbacks['pre_run_cell'] != []:\n",
    "            self.shell.events.callbacks['pre_run_cell'] = []\n",
    "        self.shell.events.register('pre_run_cell', self.pre_run_cell)\n",
    "    def __call__(self):\n",
    "        return self.__sio.readline().strip()\n",
    "    def pre_run_cell(self, info):\n",
    "        text = self.shell.user_ns.get('text_area', None).value\n",
    "        self.__sio = io.StringIO(text)\n",
    "open = custom_open()\n",
    "input = custom_input()\n",
    "text_area = Textarea()\n",
    "text_area.observe(open.updater, names='value')\n",
    "display(text_area)"
   ]
  },
  {
   "cell_type": "code",
   "execution_count": 88,
   "id": "4c7b20bf-ebce-4f6c-8913-747209e1ba07",
   "metadata": {
    "tags": []
   },
   "outputs": [
    {
     "name": "stdout",
     "output_type": "stream",
     "text": [
      "229596204\n"
     ]
    }
   ],
   "source": [
    "N,P=map(int,input().split())\n",
    "MOD=998244353\n",
    "\n",
    "b=pow(100,MOD-2,MOD)\n",
    "# b=1/100\n",
    "dp=[0]*(N+1)\n",
    "\n",
    "dp[0]=0\n",
    "dp[1]=1\n",
    "for i in range(2,N+1):\n",
    "    dp[i] = dp[i-2]*P*b + dp[i-1]*(1-P*b) + 1\n",
    "    dp[i]%=MOD\n",
    "print(dp[N])"
   ]
  },
  {
   "cell_type": "code",
   "execution_count": null,
   "id": "5d50f013-867e-4969-bc78-89ca12e28a77",
   "metadata": {},
   "outputs": [],
   "source": []
  },
  {
   "cell_type": "code",
   "execution_count": 96,
   "id": "1cd63424-dc3c-42c2-b97b-c446e9002161",
   "metadata": {},
   "outputs": [
    {
     "name": "stdout",
     "output_type": "stream",
     "text": [
      "229596204\n"
     ]
    }
   ],
   "source": [
    "N,P=map(int,input().split())\n",
    "MOD=998244353\n",
    "\n",
    "b=pow(100,MOD-2,MOD)\n",
    "# b=1/100\n",
    "dp=[0]*(N+4)\n",
    "\n",
    "p=P*b\n",
    "q=1-p\n",
    "\n",
    "dp[0]=1\n",
    "ans=0\n",
    "for i in range(N):\n",
    "    ans+=dp[i]\n",
    "    ans%=MOD\n",
    "    dp[i+1] += dp[i]*q\n",
    "    dp[i+1] %= MOD\n",
    "    dp[i+2] += dp[i]*p\n",
    "    dp[i+2] %= MOD\n",
    "print(ans)"
   ]
  },
  {
   "cell_type": "code",
   "execution_count": 95,
   "id": "f5d7df46-b1d0-4939-ac8d-dd0735a7311a",
   "metadata": {},
   "outputs": [
    {
     "data": {
      "text/plain": [
       "[1, 0.9, 0.91, 0.909, 0.9091, 0.09090000000000001, 0]"
      ]
     },
     "execution_count": 95,
     "metadata": {},
     "output_type": "execute_result"
    }
   ],
   "source": [
    "dp"
   ]
  },
  {
   "cell_type": "code",
   "execution_count": null,
   "id": "885cc21a-0cf5-429d-8c41-9d6b286d60ad",
   "metadata": {},
   "outputs": [],
   "source": []
  },
  {
   "cell_type": "code",
   "execution_count": null,
   "id": "6dc95e54-6432-455f-a612-cf84609ef279",
   "metadata": {},
   "outputs": [],
   "source": []
  }
 ],
 "metadata": {
  "kernelspec": {
   "display_name": "Python 3 (ipykernel)",
   "language": "python",
   "name": "python3"
  },
  "language_info": {
   "codemirror_mode": {
    "name": "ipython",
    "version": 3
   },
   "file_extension": ".py",
   "mimetype": "text/x-python",
   "name": "python",
   "nbconvert_exporter": "python",
   "pygments_lexer": "ipython3",
   "version": "3.9.12"
  }
 },
 "nbformat": 4,
 "nbformat_minor": 5
}
