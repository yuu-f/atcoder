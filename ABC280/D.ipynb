{
 "cells": [
  {
   "cell_type": "code",
   "execution_count": 1,
   "id": "a82fbae7-d483-4627-8c80-b7085a254f98",
   "metadata": {},
   "outputs": [
    {
     "data": {
      "application/vnd.jupyter.widget-view+json": {
       "model_id": "96243cf5ae3449588ea5406c4825ece5",
       "version_major": 2,
       "version_minor": 0
      },
      "text/plain": [
       "Textarea(value='')"
      ]
     },
     "metadata": {},
     "output_type": "display_data"
    }
   ],
   "source": [
    "# Ref: https://qiita.com/noca/items/00646efd9d4a7302f522\n",
    "from ipywidgets import Textarea\n",
    "import io\n",
    "if 'open' in globals():\n",
    "    del open\n",
    "if 'input' in globals():\n",
    "    del input\n",
    "original_open = open\n",
    "class custom_open():\n",
    "    def __init__(self):\n",
    "        self.text = ''\n",
    "    def __call__(self, file, *args, **kwargs):\n",
    "        if file == 0:\n",
    "            return io.StringIO(self.text)\n",
    "        return original_open(file, *args, **kwargs)\n",
    "    def updater(self, change):\n",
    "        self.text = change[\"new\"]\n",
    "class custom_input():\n",
    "    def __init__(self):\n",
    "        self.__sio = io.StringIO('')\n",
    "        self.shell = get_ipython()\n",
    "        if self.shell.events.callbacks['pre_run_cell'] != []:\n",
    "            self.shell.events.callbacks['pre_run_cell'] = []\n",
    "        self.shell.events.register('pre_run_cell', self.pre_run_cell)\n",
    "    def __call__(self):\n",
    "        return self.__sio.readline().strip()\n",
    "    def pre_run_cell(self, info):\n",
    "        text = self.shell.user_ns.get('text_area', None).value\n",
    "        self.__sio = io.StringIO(text)\n",
    "open = custom_open()\n",
    "input = custom_input()\n",
    "text_area = Textarea()\n",
    "text_area.observe(open.updater, names='value')\n",
    "display(text_area)"
   ]
  },
  {
   "cell_type": "code",
   "execution_count": 21,
   "id": "f2dbae83-1ede-445d-88ca-ffb15ef525a2",
   "metadata": {},
   "outputs": [
    {
     "name": "stdout",
     "output_type": "stream",
     "text": [
      "7\n"
     ]
    }
   ],
   "source": [
    "import math\n",
    "import sys\n",
    "K=int(input())\n",
    "\n",
    "x=K\n",
    "s=[]\n",
    "for i in range(2,int(math.sqrt(K))+1):\n",
    "    if x%i:continue\n",
    "    cnt=0\n",
    "    while x%i==0:\n",
    "        x/=i\n",
    "        cnt+=1\n",
    "    s.append((i,cnt))\n",
    "\n",
    "if x!=1:\n",
    "    s.append((x,1))\n",
    "        \n",
    "def f(n,p):\n",
    "    if n<=1:\n",
    "        return 0\n",
    "    return n//p + f(n//p, p)\n",
    "        \n",
    "ng=0\n",
    "ok=K\n",
    "while ok-ng>1:\n",
    "    mid=(ok+ng)//2\n",
    "    flag=True\n",
    "    for a,b in s:\n",
    "        if b>f(mid,a):\n",
    "            flag=False\n",
    "            break\n",
    "    if flag==True:\n",
    "        ok=mid\n",
    "    else:\n",
    "        ng=mid\n",
    "    # print(ng,ok)\n",
    "print(ok)"
   ]
  },
  {
   "cell_type": "code",
   "execution_count": 16,
   "id": "aee87474-3613-4942-ad15-cc861ef461a5",
   "metadata": {},
   "outputs": [
    {
     "data": {
      "text/plain": [
       "[(2, 3), (5, 1), (7, 1)]"
      ]
     },
     "execution_count": 16,
     "metadata": {},
     "output_type": "execute_result"
    }
   ],
   "source": [
    "s"
   ]
  },
  {
   "cell_type": "code",
   "execution_count": null,
   "id": "e46b40b0-9a68-45ed-9ad2-00b4583fbe73",
   "metadata": {},
   "outputs": [],
   "source": []
  }
 ],
 "metadata": {
  "kernelspec": {
   "display_name": "Python 3 (ipykernel)",
   "language": "python",
   "name": "python3"
  },
  "language_info": {
   "codemirror_mode": {
    "name": "ipython",
    "version": 3
   },
   "file_extension": ".py",
   "mimetype": "text/x-python",
   "name": "python",
   "nbconvert_exporter": "python",
   "pygments_lexer": "ipython3",
   "version": "3.9.12"
  }
 },
 "nbformat": 4,
 "nbformat_minor": 5
}
