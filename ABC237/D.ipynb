{
 "cells": [
  {
   "cell_type": "code",
   "execution_count": 1,
   "id": "e1a39964-dad4-470d-9a76-742adaefc42c",
   "metadata": {},
   "outputs": [
    {
     "data": {
      "application/vnd.jupyter.widget-view+json": {
       "model_id": "329321c58c1447e2b4656342bcf7423d",
       "version_major": 2,
       "version_minor": 0
      },
      "text/plain": [
       "Textarea(value='')"
      ]
     },
     "metadata": {},
     "output_type": "display_data"
    }
   ],
   "source": [
    "# Ref: https://qiita.com/noca/items/00646efd9d4a7302f522\n",
    "from ipywidgets import Textarea\n",
    "import io\n",
    "if 'open' in globals():\n",
    "    del open\n",
    "if 'input' in globals():\n",
    "    del input\n",
    "original_open = open\n",
    "class custom_open():\n",
    "    def __init__(self):\n",
    "        self.text = ''\n",
    "    def __call__(self, file, *args, **kwargs):\n",
    "        if file == 0:\n",
    "            return io.StringIO(self.text)\n",
    "        return original_open(file, *args, **kwargs)\n",
    "    def updater(self, change):\n",
    "        self.text = change[\"new\"]\n",
    "class custom_input():\n",
    "    def __init__(self):\n",
    "        self.__sio = io.StringIO('')\n",
    "        self.shell = get_ipython()\n",
    "        if self.shell.events.callbacks['pre_run_cell'] != []:\n",
    "            self.shell.events.callbacks['pre_run_cell'] = []\n",
    "        self.shell.events.register('pre_run_cell', self.pre_run_cell)\n",
    "    def __call__(self):\n",
    "        return self.__sio.readline().strip()\n",
    "    def pre_run_cell(self, info):\n",
    "        text = self.shell.user_ns.get('text_area', None).value\n",
    "        self.__sio = io.StringIO(text)\n",
    "open = custom_open()\n",
    "input = custom_input()\n",
    "text_area = Textarea()\n",
    "text_area.observe(open.updater, names='value')\n",
    "display(text_area)"
   ]
  },
  {
   "cell_type": "code",
   "execution_count": 12,
   "id": "9a481d0e-50ae-4cbc-80d2-878e5db6864d",
   "metadata": {},
   "outputs": [
    {
     "name": "stdout",
     "output_type": "stream",
     "text": [
      "1 2 4 5 3 0\n"
     ]
    }
   ],
   "source": [
    "N=int(input())\n",
    "S=input()\n",
    "\n",
    "pre_idx=0\n",
    "ans_left=[]\n",
    "ans_right=[]\n",
    "for i in range(N):\n",
    "    num=i+1\n",
    "    if S[i]==\"L\":\n",
    "        ans_right.append(i)\n",
    "    else:\n",
    "        ans_left.append(i)\n",
    "ans_right.reverse()\n",
    "ans_left.append(N)\n",
    "ans=ans_left+ans_right\n",
    "print(*ans)"
   ]
  },
  {
   "cell_type": "code",
   "execution_count": 10,
   "id": "f9078afa-a456-4ad2-9758-c260f9452a0d",
   "metadata": {},
   "outputs": [
    {
     "data": {
      "text/plain": [
       "[3, 0]"
      ]
     },
     "execution_count": 10,
     "metadata": {},
     "output_type": "execute_result"
    }
   ],
   "source": [
    "ans_right"
   ]
  },
  {
   "cell_type": "code",
   "execution_count": 11,
   "id": "70feddae-d818-4d8c-8c06-e9c8b6773eaa",
   "metadata": {},
   "outputs": [
    {
     "data": {
      "text/plain": [
       "[1, 2, 4]"
      ]
     },
     "execution_count": 11,
     "metadata": {},
     "output_type": "execute_result"
    }
   ],
   "source": [
    "ans_left"
   ]
  },
  {
   "cell_type": "code",
   "execution_count": 13,
   "id": "e425f120-951e-45e8-b22d-239806bdd93b",
   "metadata": {},
   "outputs": [
    {
     "name": "stdout",
     "output_type": "stream",
     "text": [
      "1 2 4 5 3 0\n"
     ]
    }
   ],
   "source": [
    "from collections import deque\n",
    "N=int(input())\n",
    "S=input()\n",
    "\n",
    "q=deque([N])\n",
    "for i in range(N-1,-1,-1):\n",
    "    if S[i]==\"L\":\n",
    "        q.append(i)\n",
    "    else:\n",
    "        q.appendleft(i)\n",
    "print(*q)"
   ]
  },
  {
   "cell_type": "code",
   "execution_count": null,
   "id": "6ba8fa2e-ba88-4b15-875e-607619400d2a",
   "metadata": {},
   "outputs": [],
   "source": []
  }
 ],
 "metadata": {
  "kernelspec": {
   "display_name": "Python 3 (ipykernel)",
   "language": "python",
   "name": "python3"
  },
  "language_info": {
   "codemirror_mode": {
    "name": "ipython",
    "version": 3
   },
   "file_extension": ".py",
   "mimetype": "text/x-python",
   "name": "python",
   "nbconvert_exporter": "python",
   "pygments_lexer": "ipython3",
   "version": "3.9.12"
  }
 },
 "nbformat": 4,
 "nbformat_minor": 5
}
