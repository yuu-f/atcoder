{
 "cells": [
  {
   "cell_type": "code",
   "execution_count": 1,
   "id": "6625bb29-1b60-4a81-b4a9-a0476b5bef93",
   "metadata": {},
   "outputs": [
    {
     "data": {
      "application/vnd.jupyter.widget-view+json": {
       "model_id": "e8a6cd1597cb4526b2d0ceec447e642a",
       "version_major": 2,
       "version_minor": 0
      },
      "text/plain": [
       "Textarea(value='')"
      ]
     },
     "metadata": {},
     "output_type": "display_data"
    }
   ],
   "source": [
    "# Ref: https://qiita.com/noca/items/00646efd9d4a7302f522\n",
    "from ipywidgets import Textarea\n",
    "import io\n",
    "if 'open' in globals():\n",
    "    del open\n",
    "if 'input' in globals():\n",
    "    del input\n",
    "original_open = open\n",
    "class custom_open():\n",
    "    def __init__(self):\n",
    "        self.text = ''\n",
    "    def __call__(self, file, *args, **kwargs):\n",
    "        if file == 0:\n",
    "            return io.StringIO(self.text)\n",
    "        return original_open(file, *args, **kwargs)\n",
    "    def updater(self, change):\n",
    "        self.text = change[\"new\"]\n",
    "class custom_input():\n",
    "    def __init__(self):\n",
    "        self.__sio = io.StringIO('')\n",
    "        self.shell = get_ipython()\n",
    "        if self.shell.events.callbacks['pre_run_cell'] != []:\n",
    "            self.shell.events.callbacks['pre_run_cell'] = []\n",
    "        self.shell.events.register('pre_run_cell', self.pre_run_cell)\n",
    "    def __call__(self):\n",
    "        return self.__sio.readline().strip()\n",
    "    def pre_run_cell(self, info):\n",
    "        text = self.shell.user_ns.get('text_area', None).value\n",
    "        self.__sio = io.StringIO(text)\n",
    "open = custom_open()\n",
    "input = custom_input()\n",
    "text_area = Textarea()\n",
    "text_area.observe(open.updater, names='value')\n",
    "display(text_area)"
   ]
  },
  {
   "cell_type": "code",
   "execution_count": 47,
   "id": "f80fed59-6e77-48ba-9e26-4a4c730d42a3",
   "metadata": {},
   "outputs": [
    {
     "name": "stdout",
     "output_type": "stream",
     "text": [
      "21 20 19 20 18 17\n",
      "20 19 18 19 17 15\n",
      "21 19 20 19 18 16\n",
      "21 19 19 18 19 18\n",
      "20 18 18 18 19 18\n",
      "18 16 17 18 19 17\n"
     ]
    }
   ],
   "source": [
    "H,W,N,h,w=map(int,input().split())\n",
    "A=[list(map(int,input().split())) for _ in range(H)]\n",
    "\n",
    "_max=[[-1]*(2) for _ in range(N+1)]\n",
    "_min=[[302]*(2) for _ in range(N+1)]\n",
    "\n",
    "tot=set()\n",
    "for i in range(H):\n",
    "    for j in range(W):\n",
    "        _max[A[i][j]][0]=max(i,_max[A[i][j]][0])\n",
    "        _max[A[i][j]][1]=max(j,_max[A[i][j]][1])\n",
    "        _min[A[i][j]][0]=min(i,_min[A[i][j]][0])\n",
    "        _min[A[i][j]][1]=min(j,_min[A[i][j]][1])\n",
    "        tot.add(A[i][j])\n",
    "\n",
    "num=len(tot)\n",
    "\n",
    "for i in range(H-h+1):\n",
    "    ansli=[]\n",
    "    for j in range(W-w+1):\n",
    "        ans=num\n",
    "        for x in range(1,N+1):\n",
    "            if _min[x]==[302,302]:continue\n",
    "            if i<=_min[x][0] and j<=_min[x][1] and _max[x][0]<i+h and _max[x][1]<j+w:\n",
    "                ans-=1\n",
    "        ansli.append(ans)\n",
    "    print(*ansli)"
   ]
  },
  {
   "cell_type": "code",
   "execution_count": 48,
   "id": "25cf2952-3142-44db-a5b3-50a9eeda3b33",
   "metadata": {},
   "outputs": [
    {
     "data": {
      "text/plain": [
       "[[-1, -1],\n",
       " [6, 5],\n",
       " [8, 11],\n",
       " [6, 7],\n",
       " [-1, -1],\n",
       " [1, 6],\n",
       " [7, 5],\n",
       " [7, 11],\n",
       " [4, 8],\n",
       " [1, 10],\n",
       " [1, 8],\n",
       " [-1, -1],\n",
       " [-1, -1],\n",
       " [-1, -1],\n",
       " [-1, -1],\n",
       " [4, 11],\n",
       " [5, 11],\n",
       " [-1, -1],\n",
       " [5, 4],\n",
       " [8, 1],\n",
       " [1, 3],\n",
       " [8, 8],\n",
       " [8, 5],\n",
       " [1, 11],\n",
       " [8, 11],\n",
       " [5, 9],\n",
       " [3, 10],\n",
       " [5, 7],\n",
       " [2, 7],\n",
       " [4, 5],\n",
       " [-1, -1]]"
      ]
     },
     "execution_count": 48,
     "metadata": {},
     "output_type": "execute_result"
    }
   ],
   "source": [
    "_max"
   ]
  },
  {
   "cell_type": "code",
   "execution_count": 46,
   "id": "398935db-a52b-4788-b104-461b2ec8cd4b",
   "metadata": {},
   "outputs": [
    {
     "data": {
      "text/plain": [
       "[[302, 302],\n",
       " [5, 3],\n",
       " [0, 0],\n",
       " [6, 7],\n",
       " [302, 302],\n",
       " [1, 6],\n",
       " [7, 4],\n",
       " [6, 6],\n",
       " [4, 8],\n",
       " [1, 7],\n",
       " [1, 8],\n",
       " [302, 302],\n",
       " [302, 302],\n",
       " [302, 302],\n",
       " [302, 302],\n",
       " [2, 10],\n",
       " [5, 10],\n",
       " [302, 302],\n",
       " [5, 1],\n",
       " [6, 1],\n",
       " [1, 2],\n",
       " [7, 6],\n",
       " [6, 2],\n",
       " [1, 11],\n",
       " [8, 9],\n",
       " [3, 6],\n",
       " [2, 8],\n",
       " [5, 6],\n",
       " [2, 6],\n",
       " [2, 1],\n",
       " [302, 302]]"
      ]
     },
     "execution_count": 46,
     "metadata": {},
     "output_type": "execute_result"
    }
   ],
   "source": [
    "_min"
   ]
  },
  {
   "cell_type": "code",
   "execution_count": 32,
   "id": "cc4c22d1-53f5-4a6d-baec-5f787b130c15",
   "metadata": {},
   "outputs": [
    {
     "data": {
      "text/plain": [
       "{1, 2, 3, 4, 5}"
      ]
     },
     "execution_count": 32,
     "metadata": {},
     "output_type": "execute_result"
    }
   ],
   "source": [
    "tot"
   ]
  },
  {
   "cell_type": "code",
   "execution_count": null,
   "id": "a353b9c8-82de-42db-b5d9-48634cbc529b",
   "metadata": {},
   "outputs": [],
   "source": []
  }
 ],
 "metadata": {
  "kernelspec": {
   "display_name": "Python 3 (ipykernel)",
   "language": "python",
   "name": "python3"
  },
  "language_info": {
   "codemirror_mode": {
    "name": "ipython",
    "version": 3
   },
   "file_extension": ".py",
   "mimetype": "text/x-python",
   "name": "python",
   "nbconvert_exporter": "python",
   "pygments_lexer": "ipython3",
   "version": "3.9.12"
  }
 },
 "nbformat": 4,
 "nbformat_minor": 5
}
