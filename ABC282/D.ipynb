{
 "cells": [
  {
   "cell_type": "code",
   "execution_count": 1,
   "id": "8438ec59-5888-4667-b81b-b031dc87addb",
   "metadata": {},
   "outputs": [
    {
     "data": {
      "application/vnd.jupyter.widget-view+json": {
       "model_id": "52f4cada4a8b48e2868429590de90c86",
       "version_major": 2,
       "version_minor": 0
      },
      "text/plain": [
       "Textarea(value='')"
      ]
     },
     "metadata": {},
     "output_type": "display_data"
    }
   ],
   "source": [
    "# Ref: https://qiita.com/noca/items/00646efd9d4a7302f522\n",
    "from ipywidgets import Textarea\n",
    "import io\n",
    "if 'open' in globals():\n",
    "    del open\n",
    "if 'input' in globals():\n",
    "    del input\n",
    "original_open = open\n",
    "class custom_open():\n",
    "    def __init__(self):\n",
    "        self.text = ''\n",
    "    def __call__(self, file, *args, **kwargs):\n",
    "        if file == 0:\n",
    "            return io.StringIO(self.text)\n",
    "        return original_open(file, *args, **kwargs)\n",
    "    def updater(self, change):\n",
    "        self.text = change[\"new\"]\n",
    "class custom_input():\n",
    "    def __init__(self):\n",
    "        self.__sio = io.StringIO('')\n",
    "        self.shell = get_ipython()\n",
    "        if self.shell.events.callbacks['pre_run_cell'] != []:\n",
    "            self.shell.events.callbacks['pre_run_cell'] = []\n",
    "        self.shell.events.register('pre_run_cell', self.pre_run_cell)\n",
    "    def __call__(self):\n",
    "        return self.__sio.readline().strip()\n",
    "    def pre_run_cell(self, info):\n",
    "        text = self.shell.user_ns.get('text_area', None).value\n",
    "        self.__sio = io.StringIO(text)\n",
    "open = custom_open()\n",
    "input = custom_input()\n",
    "text_area = Textarea()\n",
    "text_area.observe(open.updater, names='value')\n",
    "display(text_area)"
   ]
  },
  {
   "cell_type": "code",
   "execution_count": 292,
   "id": "8cd5e402-f3e9-4260-9b04-2cee89edabac",
   "metadata": {},
   "outputs": [
    {
     "name": "stdout",
     "output_type": "stream",
     "text": [
      "0\n"
     ]
    }
   ],
   "source": [
    "import sys\n",
    "sys.setrecursionlimit(10 ** 9)\n",
    "\n",
    "N,M = map(int,input().split())\n",
    "uv = [list(map(int,input().split())) for _ in range(M)]\n",
    "\n",
    "if M == 0:\n",
    "    print(N*(N-1)//2)\n",
    "    sys.exit(0)\n",
    "\n",
    "G = [list() for _ in range(N)]\n",
    "for u,v in uv:\n",
    "    u -= 1\n",
    "    v -= 1\n",
    "    G[u].append(v)\n",
    "    G[v].append(u)\n",
    "\n",
    "def xc2(x: int):\n",
    "    if x<=1: \n",
    "        return 0\n",
    "    return x*(x-1)//2\n",
    "    \n",
    "visited = [False]*N\n",
    "color = [0]*N\n",
    "ans = xc2(N)-M\n",
    "\n",
    "\n",
    "for i in range(N):\n",
    "    a = 0\n",
    "    b = 0\n",
    "    \n",
    "    if visited[i] == True:\n",
    "        continue\n",
    "\n",
    "    def dfs(pos):\n",
    "        global a\n",
    "        global b\n",
    "        \n",
    "        visited[pos] = True\n",
    "        \n",
    "        if color[pos] == 0:\n",
    "            a += 1\n",
    "        else:\n",
    "            b += 1\n",
    "\n",
    "        for nex in G[pos]:\n",
    "            if visited[nex] == True:\n",
    "                if color[pos] == color[nex]:\n",
    "                    # 二部グラフではない\n",
    "                    print(0)\n",
    "                    sys.exit(0)\n",
    "            if visited[nex] == False:\n",
    "                color[nex] = color[pos] + 1\n",
    "                color[nex] %= 2\n",
    "                dfs(nex)\n",
    "    dfs(i)\n",
    "    ans -= xc2(a)\n",
    "    ans -= xc2(b)\n",
    "    \n",
    "print(ans)"
   ]
  },
  {
   "cell_type": "code",
   "execution_count": 248,
   "id": "443e2c67-8a38-4ccc-91ab-97a507c95288",
   "metadata": {},
   "outputs": [
    {
     "name": "stdout",
     "output_type": "stream",
     "text": [
      "1\n"
     ]
    }
   ],
   "source": [
    "print(N*(N-1)//2)"
   ]
  },
  {
   "cell_type": "code",
   "execution_count": 269,
   "id": "c2f8fe2d-d6fe-44e5-9785-8c1e569c3b9a",
   "metadata": {},
   "outputs": [
    {
     "data": {
      "text/plain": [
       "18"
      ]
     },
     "execution_count": 269,
     "metadata": {},
     "output_type": "execute_result"
    }
   ],
   "source": [
    "N"
   ]
  },
  {
   "cell_type": "code",
   "execution_count": 270,
   "id": "8c877696-bb85-48c8-aacc-8acbc763327b",
   "metadata": {},
   "outputs": [
    {
     "data": {
      "text/plain": [
       "4"
      ]
     },
     "execution_count": 270,
     "metadata": {},
     "output_type": "execute_result"
    }
   ],
   "source": [
    "M"
   ]
  },
  {
   "cell_type": "code",
   "execution_count": null,
   "id": "458aa9d8-2be6-4f02-9f73-422afa2f087c",
   "metadata": {},
   "outputs": [],
   "source": []
  }
 ],
 "metadata": {
  "kernelspec": {
   "display_name": "Python 3 (ipykernel)",
   "language": "python",
   "name": "python3"
  },
  "language_info": {
   "codemirror_mode": {
    "name": "ipython",
    "version": 3
   },
   "file_extension": ".py",
   "mimetype": "text/x-python",
   "name": "python",
   "nbconvert_exporter": "python",
   "pygments_lexer": "ipython3",
   "version": "3.9.12"
  }
 },
 "nbformat": 4,
 "nbformat_minor": 5
}
