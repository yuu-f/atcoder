{
 "cells": [
  {
   "cell_type": "code",
   "execution_count": 1,
   "id": "c79e1060-f91d-434f-a494-cd32e64debba",
   "metadata": {},
   "outputs": [
    {
     "data": {
      "application/vnd.jupyter.widget-view+json": {
       "model_id": "0c0e134dfef94863876bf3a63dc1edc3",
       "version_major": 2,
       "version_minor": 0
      },
      "text/plain": [
       "Textarea(value='')"
      ]
     },
     "metadata": {},
     "output_type": "display_data"
    }
   ],
   "source": [
    "# Ref: https://qiita.com/noca/items/00646efd9d4a7302f522\n",
    "from ipywidgets import Textarea\n",
    "import io\n",
    "if 'open' in globals():\n",
    "    del open\n",
    "if 'input' in globals():\n",
    "    del input\n",
    "original_open = open\n",
    "class custom_open():\n",
    "    def __init__(self):\n",
    "        self.text = ''\n",
    "    def __call__(self, file, *args, **kwargs):\n",
    "        if file == 0:\n",
    "            return io.StringIO(self.text)\n",
    "        return original_open(file, *args, **kwargs)\n",
    "    def updater(self, change):\n",
    "        self.text = change[\"new\"]\n",
    "class custom_input():\n",
    "    def __init__(self):\n",
    "        self.__sio = io.StringIO('')\n",
    "        self.shell = get_ipython()\n",
    "        if self.shell.events.callbacks['pre_run_cell'] != []:\n",
    "            self.shell.events.callbacks['pre_run_cell'] = []\n",
    "        self.shell.events.register('pre_run_cell', self.pre_run_cell)\n",
    "    def __call__(self):\n",
    "        return self.__sio.readline().strip()\n",
    "    def pre_run_cell(self, info):\n",
    "        text = self.shell.user_ns.get('text_area', None).value\n",
    "        self.__sio = io.StringIO(text)\n",
    "open = custom_open()\n",
    "input = custom_input()\n",
    "text_area = Textarea()\n",
    "text_area.observe(open.updater, names='value')\n",
    "display(text_area)"
   ]
  },
  {
   "cell_type": "code",
   "execution_count": 149,
   "id": "b97de2b8-58d4-44f7-8902-14d49e018c38",
   "metadata": {},
   "outputs": [
    {
     "name": "stdout",
     "output_type": "stream",
     "text": [
      "-29982955006160\n"
     ]
    }
   ],
   "source": [
    "N,M=map(int,input().split())\n",
    "A=list(map(int,input().split()))\n",
    "\n",
    "_sum=[0]*(N+1)\n",
    "for i in range(N):\n",
    "    _sum[i+1]=_sum[i]+A[i]\n",
    "\n",
    "s=[0]*(N)\n",
    "for i in range(1,M+1):\n",
    "    s[0]+=A[i-1]*i\n",
    "ans=s[0]\n",
    "for i in range(1,N-M+1):\n",
    "    s[i]=s[i-1]-(_sum[i+M-1]-_sum[i-1])+A[i+M-1]*M\n",
    "    ans=max(s[i],ans)\n",
    "print(ans)"
   ]
  },
  {
   "cell_type": "code",
   "execution_count": 142,
   "id": "fb1f98b3-e37f-4633-a49d-c230294a7660",
   "metadata": {},
   "outputs": [
    {
     "data": {
      "text/plain": [
       "[39, 0, 0, 0, 0, 0, 0, 0, 0, 0]"
      ]
     },
     "execution_count": 142,
     "metadata": {},
     "output_type": "execute_result"
    }
   ],
   "source": [
    "s"
   ]
  },
  {
   "cell_type": "code",
   "execution_count": 143,
   "id": "1ccaf48b-32f4-4844-b7b6-1ba16b9d425c",
   "metadata": {},
   "outputs": [
    {
     "data": {
      "text/plain": [
       "[-3, 1, -4, 1, -5, 9, -2, 6, -5, 3]"
      ]
     },
     "execution_count": 143,
     "metadata": {},
     "output_type": "execute_result"
    }
   ],
   "source": [
    "A"
   ]
  },
  {
   "cell_type": "code",
   "execution_count": 156,
   "id": "736eb545-63c0-497f-81cf-246dc4c2b0fe",
   "metadata": {},
   "outputs": [
    {
     "name": "stdout",
     "output_type": "stream",
     "text": [
      "-29982955006160\n"
     ]
    }
   ],
   "source": [
    "N,M=map(int,input().split())\n",
    "A=list(map(int,input().split()))\n",
    "\n",
    "_sum=[0]*(N+1)\n",
    "for i in range(N):\n",
    "    _sum[i+1]=_sum[i]+A[i]\n",
    "\n",
    "INF=-10**30\n",
    "s=[INF]*(N)\n",
    "s[0]=0\n",
    "for i in range(1,M+1):\n",
    "    s[0]+=A[i-1]*i\n",
    "\n",
    "for i in range(1,N-M+1):\n",
    "    s[i]=s[i-1]-(_sum[i+M-1]-_sum[i-1])+A[i+M-1]*M\n",
    "print(max(s))"
   ]
  },
  {
   "cell_type": "code",
   "execution_count": null,
   "id": "4dc5534d-cadd-4f5c-9f75-04213197ac31",
   "metadata": {},
   "outputs": [],
   "source": []
  }
 ],
 "metadata": {
  "kernelspec": {
   "display_name": "Python 3 (ipykernel)",
   "language": "python",
   "name": "python3"
  },
  "language_info": {
   "codemirror_mode": {
    "name": "ipython",
    "version": 3
   },
   "file_extension": ".py",
   "mimetype": "text/x-python",
   "name": "python",
   "nbconvert_exporter": "python",
   "pygments_lexer": "ipython3",
   "version": "3.9.12"
  }
 },
 "nbformat": 4,
 "nbformat_minor": 5
}
