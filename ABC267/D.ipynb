{
 "cells": [
  {
   "cell_type": "code",
   "execution_count": 2,
   "id": "c79e1060-f91d-434f-a494-cd32e64debba",
   "metadata": {},
   "outputs": [
    {
     "data": {
      "application/vnd.jupyter.widget-view+json": {
       "model_id": "4450742dea2f4f53bb4a56a9315b5d4f",
       "version_major": 2,
       "version_minor": 0
      },
      "text/plain": [
       "Textarea(value='')"
      ]
     },
     "metadata": {},
     "output_type": "display_data"
    }
   ],
   "source": [
    "# Ref: https://qiita.com/noca/items/00646efd9d4a7302f522\n",
    "from ipywidgets import Textarea\n",
    "import io\n",
    "if 'open' in globals():\n",
    "    del open\n",
    "if 'input' in globals():\n",
    "    del input\n",
    "original_open = open\n",
    "class custom_open():\n",
    "    def __init__(self):\n",
    "        self.text = ''\n",
    "    def __call__(self, file, *args, **kwargs):\n",
    "        if file == 0:\n",
    "            return io.StringIO(self.text)\n",
    "        return original_open(file, *args, **kwargs)\n",
    "    def updater(self, change):\n",
    "        self.text = change[\"new\"]\n",
    "class custom_input():\n",
    "    def __init__(self):\n",
    "        self.__sio = io.StringIO('')\n",
    "        self.shell = get_ipython()\n",
    "        if self.shell.events.callbacks['pre_run_cell'] != []:\n",
    "            self.shell.events.callbacks['pre_run_cell'] = []\n",
    "        self.shell.events.register('pre_run_cell', self.pre_run_cell)\n",
    "    def __call__(self):\n",
    "        return self.__sio.readline().strip()\n",
    "    def pre_run_cell(self, info):\n",
    "        text = self.shell.user_ns.get('text_area', None).value\n",
    "        self.__sio = io.StringIO(text)\n",
    "open = custom_open()\n",
    "input = custom_input()\n",
    "text_area = Textarea()\n",
    "text_area.observe(open.updater, names='value')\n",
    "display(text_area)"
   ]
  },
  {
   "cell_type": "code",
   "execution_count": 24,
   "id": "b97de2b8-58d4-44f7-8902-14d49e018c38",
   "metadata": {},
   "outputs": [
    {
     "name": "stdout",
     "output_type": "stream",
     "text": [
      "21\n"
     ]
    }
   ],
   "source": [
    "N,M=map(int,input().split())\n",
    "INF = -10**30\n",
    "A =[INF]+list(map(int,input().split()))\n",
    "\n",
    "dp=[[INF]*(N+1) for _ in range(N+1)]\n",
    "\n",
    "# j 個目までの要素を使って作れる長さ i の部分列の最大値\n",
    "# DP初期値\n",
    "for j in range(1,N+1):\n",
    "    dp[1][j] = max(A[j]*1,dp[1][j-1])\n",
    "    \n",
    "for i in range(2,N+1):\n",
    "    for j in range(1,N+1):\n",
    "        if i > j:continue\n",
    "        dp[i][j] = max(dp[i-1][j-1]+A[j]*i, dp[i][j-1])\n",
    "        \n",
    "print(dp[M][N])"
   ]
  },
  {
   "cell_type": "code",
   "execution_count": 21,
   "id": "4dc5534d-cadd-4f5c-9f75-04213197ac31",
   "metadata": {},
   "outputs": [
    {
     "data": {
      "text/plain": [
       "[[-1000000000000000000000000000000,\n",
       "  -1000000000000000000000000000000,\n",
       "  -1000000000000000000000000000000,\n",
       "  -1000000000000000000000000000000,\n",
       "  -1000000000000000000000000000000],\n",
       " [-1000000000000000000000000000000, 5, 5, 5, 8],\n",
       " [-1000000000000000000000000000000,\n",
       "  -1000000000000000000000000000000,\n",
       "  13,\n",
       "  13,\n",
       "  21],\n",
       " [-1000000000000000000000000000000,\n",
       "  -1000000000000000000000000000000,\n",
       "  -1000000000000000000000000000000,\n",
       "  10,\n",
       "  37],\n",
       " [-1000000000000000000000000000000,\n",
       "  -1000000000000000000000000000000,\n",
       "  -1000000000000000000000000000000,\n",
       "  -1000000000000000000000000000000,\n",
       "  42]]"
      ]
     },
     "execution_count": 26,
     "metadata": {},
     "output_type": "execute_result"
    }
   ],
   "source": [
    " dp"
   ]
  },
  {
   "cell_type": "code",
   "execution_count": 15,
   "id": "b71f568c-bbca-4255-8197-473454f66c1c",
   "metadata": {},
   "outputs": [
    {
     "data": {
      "text/plain": [
       "[-20, -3, 1, -4, 1, -5, 9, -2, 6, -5, 3]"
      ]
     },
     "execution_count": 15,
     "metadata": {},
     "output_type": "execute_result"
    }
   ],
   "source": [
    "A"
   ]
  },
  {
   "cell_type": "code",
   "execution_count": null,
   "id": "3b9870eb-3d3c-4f89-8d79-5350312e41b9",
   "metadata": {},
   "outputs": [],
   "source": []
  }
 ],
 "metadata": {
  "kernelspec": {
   "display_name": "Python 3 (ipykernel)",
   "language": "python",
   "name": "python3"
  },
  "language_info": {
   "codemirror_mode": {
    "name": "ipython",
    "version": 3
   },
   "file_extension": ".py",
   "mimetype": "text/x-python",
   "name": "python",
   "nbconvert_exporter": "python",
   "pygments_lexer": "ipython3",
   "version": "3.9.12"
  }
 },
 "nbformat": 4,
 "nbformat_minor": 5
}
