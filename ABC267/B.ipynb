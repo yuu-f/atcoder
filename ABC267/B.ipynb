{
 "cells": [
  {
   "cell_type": "code",
   "execution_count": 1,
   "id": "c4457581-28c2-40f8-bb90-d6cc67f1d445",
   "metadata": {},
   "outputs": [
    {
     "data": {
      "application/vnd.jupyter.widget-view+json": {
       "model_id": "427c2050341a49488778a67fabd3a3fd",
       "version_major": 2,
       "version_minor": 0
      },
      "text/plain": [
       "Textarea(value='')"
      ]
     },
     "metadata": {},
     "output_type": "display_data"
    }
   ],
   "source": [
    "# Ref: https://qiita.com/noca/items/00646efd9d4a7302f522\n",
    "from ipywidgets import Textarea\n",
    "import io\n",
    "if 'open' in globals():\n",
    "    del open\n",
    "if 'input' in globals():\n",
    "    del input\n",
    "original_open = open\n",
    "class custom_open():\n",
    "    def __init__(self):\n",
    "        self.text = ''\n",
    "    def __call__(self, file, *args, **kwargs):\n",
    "        if file == 0:\n",
    "            return io.StringIO(self.text)\n",
    "        return original_open(file, *args, **kwargs)\n",
    "    def updater(self, change):\n",
    "        self.text = change[\"new\"]\n",
    "class custom_input():\n",
    "    def __init__(self):\n",
    "        self.__sio = io.StringIO('')\n",
    "        self.shell = get_ipython()\n",
    "        if self.shell.events.callbacks['pre_run_cell'] != []:\n",
    "            self.shell.events.callbacks['pre_run_cell'] = []\n",
    "        self.shell.events.register('pre_run_cell', self.pre_run_cell)\n",
    "    def __call__(self):\n",
    "        return self.__sio.readline().strip()\n",
    "    def pre_run_cell(self, info):\n",
    "        text = self.shell.user_ns.get('text_area', None).value\n",
    "        self.__sio = io.StringIO(text)\n",
    "open = custom_open()\n",
    "input = custom_input()\n",
    "text_area = Textarea()\n",
    "text_area.observe(open.updater, names='value')\n",
    "display(text_area)"
   ]
  },
  {
   "cell_type": "code",
   "execution_count": 25,
   "id": "64d0623b-b912-4e6e-a700-e70d712b0ac0",
   "metadata": {},
   "outputs": [
    {
     "name": "stdout",
     "output_type": "stream",
     "text": [
      "No\n"
     ]
    },
    {
     "ename": "SystemExit",
     "evalue": "0",
     "output_type": "error",
     "traceback": [
      "An exception has occurred, use %tb to see the full traceback.\n",
      "\u001b[1;31mSystemExit\u001b[0m\u001b[1;31m:\u001b[0m 0\n"
     ]
    },
    {
     "name": "stderr",
     "output_type": "stream",
     "text": [
      "C:\\Users\\YUKI\\anaconda3\\lib\\site-packages\\IPython\\core\\interactiveshell.py:3377: UserWarning: To exit: use 'exit', 'quit', or Ctrl-D.\n",
      "  warn(\"To exit: use 'exit', 'quit', or Ctrl-D.\", stacklevel=1)\n"
     ]
    }
   ],
   "source": [
    "import sys\n",
    "S=input()\n",
    "if S[0]==\"1\":\n",
    "    print(\"No\")\n",
    "    sys.exit(0)\n",
    "\n",
    "li=[[7],[4],[2,8],[5],[3,9],[6],[10]]\n",
    "# 隣接している\n",
    "cl=[[li[i],li[i+1]] for i in range(len(li)-1)]\n",
    "\n",
    "# 異なる二つの列を選ぶ\n",
    "flag=False\n",
    "for i in range(7):\n",
    "    for j in range(7):\n",
    "        fx=False\n",
    "        fy=False\n",
    "        if abs(i-j)<=1:continue\n",
    "        for x in li[i]:\n",
    "            if S[x-1]==\"1\":\n",
    "                fx=True\n",
    "        for y in li[j]:\n",
    "            if S[y-1]==\"1\":\n",
    "                fy=True\n",
    "        fz=False\n",
    "        for k in range(i+1,j):\n",
    "            for z in li[k]:\n",
    "                if S[z-1]==\"0\":\n",
    "                    fz=True\n",
    "                else:\n",
    "                    fz=False\n",
    "                    break\n",
    "            if fz==True:\n",
    "                break\n",
    "        # print(li[i],li[j],fx,fy,fz)\n",
    "        if fx and fy and fz:\n",
    "            flag=True\n",
    "            break\n",
    "if flag:\n",
    "    print(\"Yes\")\n",
    "else:\n",
    "    print(\"No\")"
   ]
  },
  {
   "cell_type": "code",
   "execution_count": 9,
   "id": "a2974b8a-0019-4cde-8444-49efee75f347",
   "metadata": {},
   "outputs": [
    {
     "data": {
      "text/plain": [
       "[[[7], [4]],\n",
       " [[4], [2, 8]],\n",
       " [[2, 8], [5]],\n",
       " [[5], [3, 9]],\n",
       " [[3, 9], [6]],\n",
       " [[6], [10]]]"
      ]
     },
     "execution_count": 9,
     "metadata": {},
     "output_type": "execute_result"
    }
   ],
   "source": [
    "cl"
   ]
  },
  {
   "cell_type": "code",
   "execution_count": null,
   "id": "dacb8068-8423-4da8-b1c3-71c040887ced",
   "metadata": {},
   "outputs": [],
   "source": []
  }
 ],
 "metadata": {
  "kernelspec": {
   "display_name": "Python 3 (ipykernel)",
   "language": "python",
   "name": "python3"
  },
  "language_info": {
   "codemirror_mode": {
    "name": "ipython",
    "version": 3
   },
   "file_extension": ".py",
   "mimetype": "text/x-python",
   "name": "python",
   "nbconvert_exporter": "python",
   "pygments_lexer": "ipython3",
   "version": "3.9.12"
  }
 },
 "nbformat": 4,
 "nbformat_minor": 5
}
