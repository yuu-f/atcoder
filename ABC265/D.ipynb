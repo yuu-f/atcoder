{
 "cells": [
  {
   "cell_type": "code",
   "execution_count": 1,
   "id": "1401b29d-9712-4ab4-976c-c7e45f0a2ae2",
   "metadata": {},
   "outputs": [
    {
     "data": {
      "application/vnd.jupyter.widget-view+json": {
       "model_id": "7349a3d3ab9143ec874bd1d91676b577",
       "version_major": 2,
       "version_minor": 0
      },
      "text/plain": [
       "Textarea(value='')"
      ]
     },
     "metadata": {},
     "output_type": "display_data"
    }
   ],
   "source": [
    "# Ref: https://qiita.com/noca/items/00646efd9d4a7302f522\n",
    "from ipywidgets import Textarea\n",
    "import io\n",
    "if 'open' in globals():\n",
    "    del open\n",
    "if 'input' in globals():\n",
    "    del input\n",
    "original_open = open\n",
    "class custom_open():\n",
    "    def __init__(self):\n",
    "        self.text = ''\n",
    "    def __call__(self, file, *args, **kwargs):\n",
    "        if file == 0:\n",
    "            return io.StringIO(self.text)\n",
    "        return original_open(file, *args, **kwargs)\n",
    "    def updater(self, change):\n",
    "        self.text = change[\"new\"]\n",
    "class custom_input():\n",
    "    def __init__(self):\n",
    "        self.__sio = io.StringIO('')\n",
    "        self.shell = get_ipython()\n",
    "        if self.shell.events.callbacks['pre_run_cell'] != []:\n",
    "            self.shell.events.callbacks['pre_run_cell'] = []\n",
    "        self.shell.events.register('pre_run_cell', self.pre_run_cell)\n",
    "    def __call__(self):\n",
    "        return self.__sio.readline().strip()\n",
    "    def pre_run_cell(self, info):\n",
    "        text = self.shell.user_ns.get('text_area', None).value\n",
    "        self.__sio = io.StringIO(text)\n",
    "open = custom_open()\n",
    "input = custom_input()\n",
    "text_area = Textarea()\n",
    "text_area.observe(open.updater, names='value')\n",
    "display(text_area)"
   ]
  },
  {
   "cell_type": "code",
   "execution_count": 20,
   "id": "cc3a6b7d-69c1-4298-8429-a6c33c13bed5",
   "metadata": {},
   "outputs": [
    {
     "name": "stdout",
     "output_type": "stream",
     "text": [
      "Yes\n"
     ]
    }
   ],
   "source": [
    "import sys\n",
    "N,P,Q,R=map(int,input().split())\n",
    "A=list(map(int,input().split()))\n",
    "\n",
    "_sum=[0]*(N+1)\n",
    "for i in range(1,N+1):\n",
    "    _sum[i]=_sum[i-1]+A[i-1]\n",
    "\n",
    "# xを固定してy-1を探索\n",
    "for x in range(1,N+1):\n",
    "    # print(\"x: \",x)\n",
    "    l=x\n",
    "    r=N\n",
    "    flag=False\n",
    "    while l<=r:\n",
    "        mid = (l+r)//2\n",
    "        if _sum[mid]-_sum[x-1] > P:\n",
    "            r = mid-1\n",
    "        if _sum[mid]-_sum[x-1] == P:\n",
    "            flag=True\n",
    "            break\n",
    "        if _sum[mid]-_sum[x-1] < P:\n",
    "            l = mid+1\n",
    "    if flag==False:\n",
    "        continue\n",
    "    \n",
    "    # yを固定してz-1を探索\n",
    "    y=mid+1\n",
    "    # print(\"y: \",y)\n",
    "    l=y\n",
    "    r=N\n",
    "    flag=False\n",
    "    if y > N:\n",
    "        print(\"No\")\n",
    "        sys.exit(0)\n",
    "    while l<=r:\n",
    "        mid = (l+r)//2\n",
    "        if _sum[mid]-_sum[y-1] > Q:\n",
    "            r = mid-1\n",
    "        if _sum[mid]-_sum[y-1] == Q:\n",
    "            flag = True\n",
    "            break\n",
    "        if _sum[mid]-_sum[y-1] < Q:\n",
    "            l = mid+1\n",
    "            \n",
    "    if flag==False:\n",
    "        continue\n",
    "    \n",
    "    # zを固定してw-1を探索\n",
    "    z=mid+1\n",
    "    # print(\"z: \",z)\n",
    "    l=z\n",
    "    r=N\n",
    "    flag=False\n",
    "    if z > N:\n",
    "        print(\"No\")\n",
    "        sys.exit(0)\n",
    "    while l<=r:\n",
    "        mid = (l+r)//2\n",
    "        if _sum[mid]-_sum[z-1] > R:\n",
    "            r = mid-1\n",
    "        if _sum[mid]-_sum[z-1] == R:\n",
    "            flag = True\n",
    "            break\n",
    "        if _sum[mid]-_sum[z-1] < R:\n",
    "            l = mid+1    \n",
    "            \n",
    "    if flag==False:\n",
    "        continue   \n",
    "        \n",
    "    w=mid+1\n",
    "    if w > N+1:\n",
    "        print(\"No\")\n",
    "        sys.exit(0)\n",
    "    \n",
    "    break\n",
    "\n",
    "if x==N:\n",
    "    print(\"No\")\n",
    "    sys.exit(0)\n",
    "print(\"Yes\")"
   ]
  },
  {
   "cell_type": "code",
   "execution_count": 13,
   "id": "2ed79647-a28f-455f-893c-fa8c3028afa6",
   "metadata": {},
   "outputs": [
    {
     "data": {
      "text/plain": [
       "[0, 31, 72, 131, 157, 210, 268, 365, 458, 481]"
      ]
     },
     "execution_count": 13,
     "metadata": {},
     "output_type": "execute_result"
    }
   ],
   "source": [
    "_sum"
   ]
  },
  {
   "cell_type": "code",
   "execution_count": null,
   "id": "8d182b2b-8ceb-4089-b51f-52e93f91854b",
   "metadata": {},
   "outputs": [],
   "source": []
  }
 ],
 "metadata": {
  "kernelspec": {
   "display_name": "Python 3 (ipykernel)",
   "language": "python",
   "name": "python3"
  },
  "language_info": {
   "codemirror_mode": {
    "name": "ipython",
    "version": 3
   },
   "file_extension": ".py",
   "mimetype": "text/x-python",
   "name": "python",
   "nbconvert_exporter": "python",
   "pygments_lexer": "ipython3",
   "version": "3.9.12"
  }
 },
 "nbformat": 4,
 "nbformat_minor": 5
}
