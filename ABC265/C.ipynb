{
 "cells": [
  {
   "cell_type": "code",
   "execution_count": 13,
   "id": "1401b29d-9712-4ab4-976c-c7e45f0a2ae2",
   "metadata": {},
   "outputs": [
    {
     "data": {
      "application/vnd.jupyter.widget-view+json": {
       "model_id": "50969777f0d0441fa42f9b31c76c0f64",
       "version_major": 2,
       "version_minor": 0
      },
      "text/plain": [
       "Textarea(value='')"
      ]
     },
     "metadata": {},
     "output_type": "display_data"
    }
   ],
   "source": [
    "# Ref: https://qiita.com/noca/items/00646efd9d4a7302f522\n",
    "from ipywidgets import Textarea\n",
    "import io\n",
    "if 'open' in globals():\n",
    "    del open\n",
    "if 'input' in globals():\n",
    "    del input\n",
    "original_open = open\n",
    "class custom_open():\n",
    "    def __init__(self):\n",
    "        self.text = ''\n",
    "    def __call__(self, file, *args, **kwargs):\n",
    "        if file == 0:\n",
    "            return io.StringIO(self.text)\n",
    "        return original_open(file, *args, **kwargs)\n",
    "    def updater(self, change):\n",
    "        self.text = change[\"new\"]\n",
    "class custom_input():\n",
    "    def __init__(self):\n",
    "        self.__sio = io.StringIO('')\n",
    "        self.shell = get_ipython()\n",
    "        if self.shell.events.callbacks['pre_run_cell'] != []:\n",
    "            self.shell.events.callbacks['pre_run_cell'] = []\n",
    "        self.shell.events.register('pre_run_cell', self.pre_run_cell)\n",
    "    def __call__(self):\n",
    "        return self.__sio.readline().strip()\n",
    "    def pre_run_cell(self, info):\n",
    "        text = self.shell.user_ns.get('text_area', None).value\n",
    "        self.__sio = io.StringIO(text)\n",
    "open = custom_open()\n",
    "input = custom_input()\n",
    "text_area = Textarea()\n",
    "text_area.observe(open.updater, names='value')\n",
    "display(text_area)"
   ]
  },
  {
   "cell_type": "code",
   "execution_count": 43,
   "id": "cc3a6b7d-69c1-4298-8429-a6c33c13bed5",
   "metadata": {},
   "outputs": [
    {
     "name": "stdout",
     "output_type": "stream",
     "text": [
      "-1\n"
     ]
    }
   ],
   "source": [
    "H,W=map(int,input().split())\n",
    "G=[list(input()) for _ in range(H)]\n",
    "\n",
    "flag=[[-1]*W for _ in range(H)]\n",
    "\n",
    "i=0\n",
    "j=0\n",
    "while 1:\n",
    "    if flag[i][j]==-1:\n",
    "        flag[i][j]=1\n",
    "    else:\n",
    "        print(-1)\n",
    "        break\n",
    "        \n",
    "    if G[i][j]==\"U\":\n",
    "        if i-1<0:\n",
    "            print(i+1,j+1)\n",
    "            break\n",
    "        i-=1\n",
    "    elif G[i][j]==\"D\":\n",
    "        if i+1>=H:\n",
    "            print(i+1,j+1)\n",
    "            break\n",
    "        i+=1\n",
    "    elif G[i][j]==\"L\":\n",
    "        if j-1<0:\n",
    "            \n",
    "            print(i+1,j+1)\n",
    "            break\n",
    "        j-=1\n",
    "    elif G[i][j]==\"R\":\n",
    "        if j+1>=W:\n",
    "            print(i+1,j+1)\n",
    "            break\n",
    "        j+=1"
   ]
  },
  {
   "cell_type": "code",
   "execution_count": 42,
   "id": "173c6113-6195-49af-bcc4-5d7b37820e48",
   "metadata": {},
   "outputs": [
    {
     "data": {
      "text/plain": [
       "'R'"
      ]
     },
     "execution_count": 42,
     "metadata": {},
     "output_type": "execute_result"
    }
   ],
   "source": [
    "G[0][1]"
   ]
  },
  {
   "cell_type": "code",
   "execution_count": null,
   "id": "e01d3b83-e412-46e2-8274-7cca8fe2a05c",
   "metadata": {},
   "outputs": [],
   "source": []
  },
  {
   "cell_type": "code",
   "execution_count": null,
   "id": "4d4fb726-a909-4abd-90f2-bb26c195961a",
   "metadata": {},
   "outputs": [],
   "source": []
  }
 ],
 "metadata": {
  "kernelspec": {
   "display_name": "Python 3 (ipykernel)",
   "language": "python",
   "name": "python3"
  },
  "language_info": {
   "codemirror_mode": {
    "name": "ipython",
    "version": 3
   },
   "file_extension": ".py",
   "mimetype": "text/x-python",
   "name": "python",
   "nbconvert_exporter": "python",
   "pygments_lexer": "ipython3",
   "version": "3.9.12"
  }
 },
 "nbformat": 4,
 "nbformat_minor": 5
}
