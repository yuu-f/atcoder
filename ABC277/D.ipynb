{
 "cells": [
  {
   "cell_type": "code",
   "execution_count": 1,
   "id": "6625bb29-1b60-4a81-b4a9-a0476b5bef93",
   "metadata": {},
   "outputs": [
    {
     "data": {
      "application/vnd.jupyter.widget-view+json": {
       "model_id": "2473b6dd7927412bbbffddb2648842e1",
       "version_major": 2,
       "version_minor": 0
      },
      "text/plain": [
       "Textarea(value='')"
      ]
     },
     "metadata": {},
     "output_type": "display_data"
    }
   ],
   "source": [
    "# Ref: https://qiita.com/noca/items/00646efd9d4a7302f522\n",
    "from ipywidgets import Textarea\n",
    "import io\n",
    "if 'open' in globals():\n",
    "    del open\n",
    "if 'input' in globals():\n",
    "    del input\n",
    "original_open = open\n",
    "class custom_open():\n",
    "    def __init__(self):\n",
    "        self.text = ''\n",
    "    def __call__(self, file, *args, **kwargs):\n",
    "        if file == 0:\n",
    "            return io.StringIO(self.text)\n",
    "        return original_open(file, *args, **kwargs)\n",
    "    def updater(self, change):\n",
    "        self.text = change[\"new\"]\n",
    "class custom_input():\n",
    "    def __init__(self):\n",
    "        self.__sio = io.StringIO('')\n",
    "        self.shell = get_ipython()\n",
    "        if self.shell.events.callbacks['pre_run_cell'] != []:\n",
    "            self.shell.events.callbacks['pre_run_cell'] = []\n",
    "        self.shell.events.register('pre_run_cell', self.pre_run_cell)\n",
    "    def __call__(self):\n",
    "        return self.__sio.readline().strip()\n",
    "    def pre_run_cell(self, info):\n",
    "        text = self.shell.user_ns.get('text_area', None).value\n",
    "        self.__sio = io.StringIO(text)\n",
    "open = custom_open()\n",
    "input = custom_input()\n",
    "text_area = Textarea()\n",
    "text_area.observe(open.updater, names='value')\n",
    "display(text_area)"
   ]
  },
  {
   "cell_type": "code",
   "execution_count": 33,
   "id": "2027e07e-e171-4ef8-82da-1f1063c20327",
   "metadata": {},
   "outputs": [
    {
     "name": "stdout",
     "output_type": "stream",
     "text": [
      "6\n"
     ]
    }
   ],
   "source": [
    "N,M = map(int,input().split())\n",
    "A = list(map(int,input().split()))\n",
    "A=sorted(A)\n",
    "total=sum(A)\n",
    "\n",
    "def solve(AA):\n",
    "    now=0\n",
    "    _sum=0\n",
    "    _max=0\n",
    "    for a in AA:\n",
    "        if now%M==a:\n",
    "            _sum+=a\n",
    "            _max=max(_max,_sum)\n",
    "            continue\n",
    "        if (now+1)%M==a:\n",
    "            now=a\n",
    "            _sum+=a\n",
    "            _max=max(_max,_sum)\n",
    "            continue\n",
    "        else:\n",
    "            now=a\n",
    "            _sum=a\n",
    "            _max=max(_max,_sum)\n",
    "            continue\n",
    "    ans=total-_max\n",
    "    if ans<0:\n",
    "        ans=0\n",
    "    print(ans)\n",
    "    \n",
    "if A[0]==0:\n",
    "    A+=A\n",
    "    solve(A)\n",
    "else:\n",
    "    solve(A)"
   ]
  },
  {
   "cell_type": "code",
   "execution_count": null,
   "id": "1cf70643-4f7b-4072-8543-511eaa245748",
   "metadata": {},
   "outputs": [],
   "source": []
  },
  {
   "cell_type": "code",
   "execution_count": null,
   "id": "0821945f-89bf-468b-8a31-33685e4e5c22",
   "metadata": {},
   "outputs": [],
   "source": []
  }
 ],
 "metadata": {
  "kernelspec": {
   "display_name": "Python 3 (ipykernel)",
   "language": "python",
   "name": "python3"
  },
  "language_info": {
   "codemirror_mode": {
    "name": "ipython",
    "version": 3
   },
   "file_extension": ".py",
   "mimetype": "text/x-python",
   "name": "python",
   "nbconvert_exporter": "python",
   "pygments_lexer": "ipython3",
   "version": "3.9.12"
  }
 },
 "nbformat": 4,
 "nbformat_minor": 5
}
