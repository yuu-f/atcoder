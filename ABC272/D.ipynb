{
 "cells": [
  {
   "cell_type": "code",
   "execution_count": 1,
   "id": "9a104fe4-bb79-4755-8c0c-58aa71ede415",
   "metadata": {},
   "outputs": [
    {
     "data": {
      "application/vnd.jupyter.widget-view+json": {
       "model_id": "8893825a03e44188a8046c1c584e8e5a",
       "version_major": 2,
       "version_minor": 0
      },
      "text/plain": [
       "Textarea(value='')"
      ]
     },
     "metadata": {},
     "output_type": "display_data"
    }
   ],
   "source": [
    "# Ref: https://qiita.com/noca/items/00646efd9d4a7302f522\n",
    "from ipywidgets import Textarea\n",
    "import io\n",
    "if 'open' in globals():\n",
    "    del open\n",
    "if 'input' in globals():\n",
    "    del input\n",
    "original_open = open\n",
    "class custom_open():\n",
    "    def __init__(self):\n",
    "        self.text = ''\n",
    "    def __call__(self, file, *args, **kwargs):\n",
    "        if file == 0:\n",
    "            return io.StringIO(self.text)\n",
    "        return original_open(file, *args, **kwargs)\n",
    "    def updater(self, change):\n",
    "        self.text = change[\"new\"]\n",
    "class custom_input():\n",
    "    def __init__(self):\n",
    "        self.__sio = io.StringIO('')\n",
    "        self.shell = get_ipython()\n",
    "        if self.shell.events.callbacks['pre_run_cell'] != []:\n",
    "            self.shell.events.callbacks['pre_run_cell'] = []\n",
    "        self.shell.events.register('pre_run_cell', self.pre_run_cell)\n",
    "    def __call__(self):\n",
    "        return self.__sio.readline().strip()\n",
    "    def pre_run_cell(self, info):\n",
    "        text = self.shell.user_ns.get('text_area', None).value\n",
    "        self.__sio = io.StringIO(text)\n",
    "open = custom_open()\n",
    "input = custom_input()\n",
    "text_area = Textarea()\n",
    "text_area.observe(open.updater, names='value')\n",
    "display(text_area)"
   ]
  },
  {
   "cell_type": "code",
   "execution_count": 28,
   "id": "4231f25e-a097-482d-b6d0-d834a761b44c",
   "metadata": {},
   "outputs": [
    {
     "name": "stdout",
     "output_type": "stream",
     "text": [
      "0 -1 1 -1 2 -1 3 -1 4 -1\n",
      "-1 -1 -1 -1 -1 -1 -1 -1 -1 -1\n",
      "1 -1 2 -1 3 -1 4 -1 5 -1\n",
      "-1 -1 -1 -1 -1 -1 -1 -1 -1 -1\n",
      "2 -1 3 -1 4 -1 5 -1 6 -1\n",
      "-1 -1 -1 -1 -1 -1 -1 -1 -1 -1\n",
      "3 -1 4 -1 5 -1 6 -1 7 -1\n",
      "-1 -1 -1 -1 -1 -1 -1 -1 -1 -1\n",
      "4 -1 5 -1 6 -1 7 -1 8 -1\n",
      "-1 -1 -1 -1 -1 -1 -1 -1 -1 -1\n"
     ]
    }
   ],
   "source": [
    "import sys\n",
    "import math\n",
    "from collections import defaultdict, deque\n",
    "\n",
    "\n",
    "N,M=map(int,input().split())\n",
    "\n",
    "# k,j を見つけに行く\n",
    "move=[]\n",
    "for k in range(-N,N):\n",
    "    for j in range(-N,N):\n",
    "        if k**2 + j**2 == M:\n",
    "            move.append([k,j])\n",
    "\n",
    "ans=[[-1]*N for _ in range(N)]\n",
    "ans[0][0]=0\n",
    "\n",
    "que = deque()\n",
    "que.append([0,0])\n",
    "\n",
    "while que:\n",
    "    # キューから探索用の頂点を取り出す\n",
    "    x,y = que.popleft()\n",
    "    for dx, dy in move:\n",
    "        if 0<=x+dx<N and 0<=y+dy<N and ans[x+dx][y+dy]==-1:\n",
    "            ans[x+dx][y+dy] = ans[x][y]+1\n",
    "            que.append([x+dx,y+dy])\n",
    "\n",
    "for a in ans:\n",
    "    print(*a)"
   ]
  },
  {
   "cell_type": "code",
   "execution_count": 29,
   "id": "b18b8d35-f1c6-4ba8-ba40-8988f5b939c7",
   "metadata": {},
   "outputs": [
    {
     "data": {
      "text/plain": [
       "[[-2, 0], [0, -2], [0, 2], [2, 0]]"
      ]
     },
     "execution_count": 29,
     "metadata": {},
     "output_type": "execute_result"
    }
   ],
   "source": [
    "move"
   ]
  },
  {
   "cell_type": "code",
   "execution_count": null,
   "id": "e656d349-65c0-4b19-93e9-4f83c4442a64",
   "metadata": {},
   "outputs": [],
   "source": []
  },
  {
   "cell_type": "code",
   "execution_count": null,
   "id": "18419faa-f9fe-4a50-ae34-6ecd29d9d057",
   "metadata": {},
   "outputs": [],
   "source": []
  }
 ],
 "metadata": {
  "kernelspec": {
   "display_name": "Python 3 (ipykernel)",
   "language": "python",
   "name": "python3"
  },
  "language_info": {
   "codemirror_mode": {
    "name": "ipython",
    "version": 3
   },
   "file_extension": ".py",
   "mimetype": "text/x-python",
   "name": "python",
   "nbconvert_exporter": "python",
   "pygments_lexer": "ipython3",
   "version": "3.9.12"
  }
 },
 "nbformat": 4,
 "nbformat_minor": 5
}
