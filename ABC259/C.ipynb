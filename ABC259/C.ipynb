{
 "cells": [
  {
   "cell_type": "code",
   "execution_count": 52,
   "id": "51841091-c946-41e4-8780-0f929cb09aaa",
   "metadata": {},
   "outputs": [
    {
     "data": {
      "application/vnd.jupyter.widget-view+json": {
       "model_id": "f313527f24cb4f899d8998576c45a0bc",
       "version_major": 2,
       "version_minor": 0
      },
      "text/plain": [
       "Textarea(value='')"
      ]
     },
     "metadata": {},
     "output_type": "display_data"
    }
   ],
   "source": [
    "# Ref: https://qiita.com/noca/items/00646efd9d4a7302f522\n",
    "from ipywidgets import Textarea\n",
    "import io\n",
    "if 'open' in globals():\n",
    "    del open\n",
    "if 'input' in globals():\n",
    "    del input\n",
    "original_open = open\n",
    "class custom_open():\n",
    "    def __init__(self):\n",
    "        self.text = ''\n",
    "    def __call__(self, file, *args, **kwargs):\n",
    "        if file == 0:\n",
    "            return io.StringIO(self.text)\n",
    "        return original_open(file, *args, **kwargs)\n",
    "    def updater(self, change):\n",
    "        self.text = change[\"new\"]\n",
    "class custom_input():\n",
    "    def __init__(self):\n",
    "        self.__sio = io.StringIO('')\n",
    "        self.shell = get_ipython()\n",
    "        if self.shell.events.callbacks['pre_run_cell'] != []:\n",
    "            self.shell.events.callbacks['pre_run_cell'] = []\n",
    "        self.shell.events.register('pre_run_cell', self.pre_run_cell)\n",
    "    def __call__(self):\n",
    "        return self.__sio.readline().strip()\n",
    "    def pre_run_cell(self, info):\n",
    "        text = self.shell.user_ns.get('text_area', None).value\n",
    "        self.__sio = io.StringIO(text)\n",
    "open = custom_open()\n",
    "input = custom_input()\n",
    "text_area = Textarea()\n",
    "text_area.observe(open.updater, names='value')\n",
    "display(text_area)"
   ]
  },
  {
   "cell_type": "code",
   "execution_count": 82,
   "id": "d8a3e925-5257-46ae-9b87-fdd17d83ad58",
   "metadata": {},
   "outputs": [
    {
     "name": "stdout",
     "output_type": "stream",
     "text": [
      "Yes\n"
     ]
    }
   ],
   "source": [
    "import sys\n",
    "from collections import deque\n",
    "S=input()\n",
    "T=input()\n",
    "\n",
    "q=deque(reversed(S))\n",
    "\n",
    "if len(T)<len(S):\n",
    "    print(\"No\")\n",
    "    sys.exit(0)\n",
    "\n",
    "done=[]\n",
    "flag=1\n",
    "for i in range(len(T)):\n",
    "    if q:\n",
    "        s=q[-1]\n",
    "    else:\n",
    "        s=done[-1]\n",
    "    if i<=1 and s!=T[i]:\n",
    "        flag=0\n",
    "        break\n",
    "    if s!=T[i]:\n",
    "        if done[-1]!=T[i] or done[-2]!=T[i]:\n",
    "            flag=0\n",
    "            break\n",
    "        if done[-1]==T[i] and done[-2]==T[i]:\n",
    "            done.append(T[i])\n",
    "            continue\n",
    "    if q:\n",
    "        done.append(q.pop())\n",
    "    else:\n",
    "        done.append(s)\n",
    "    \n",
    "if done==list(T):\n",
    "    print(\"Yes\")\n",
    "else:\n",
    "    print(\"No\")"
   ]
  },
  {
   "cell_type": "code",
   "execution_count": 83,
   "id": "1503733a-2274-432b-86ea-6afbe5094236",
   "metadata": {},
   "outputs": [
    {
     "data": {
      "text/plain": [
       "deque([])"
      ]
     },
     "execution_count": 83,
     "metadata": {},
     "output_type": "execute_result"
    }
   ],
   "source": [
    "q"
   ]
  },
  {
   "cell_type": "code",
   "execution_count": 84,
   "id": "6d8d6b06-5570-4a44-ac31-419641616bfd",
   "metadata": {},
   "outputs": [
    {
     "data": {
      "text/plain": [
       "['a', 'b', 'b', 'b', 'b', 'a', 'a', 'a', 'c']"
      ]
     },
     "execution_count": 84,
     "metadata": {},
     "output_type": "execute_result"
    }
   ],
   "source": [
    "done"
   ]
  },
  {
   "cell_type": "code",
   "execution_count": 85,
   "id": "b18d7a8a-46f5-411c-9dd8-de4404c7ae0f",
   "metadata": {},
   "outputs": [
    {
     "data": {
      "text/plain": [
       "['a', 'b', 'b', 'b', 'b', 'a', 'a', 'a', 'c']"
      ]
     },
     "execution_count": 85,
     "metadata": {},
     "output_type": "execute_result"
    }
   ],
   "source": [
    "list(T)"
   ]
  },
  {
   "cell_type": "code",
   "execution_count": 86,
   "id": "75cbe808-1e89-4b8d-bd61-8986c90b150a",
   "metadata": {},
   "outputs": [],
   "source": [
    "# 解説見た、ランレングス圧縮"
   ]
  },
  {
   "cell_type": "code",
   "execution_count": 109,
   "id": "d5ff8330-a99d-4be4-b038-75c66323332d",
   "metadata": {},
   "outputs": [
    {
     "name": "stdout",
     "output_type": "stream",
     "text": [
      "No\n"
     ]
    }
   ],
   "source": [
    "S=input()\n",
    "T=input()\n",
    "\n",
    "pre=S[0]\n",
    "cnt=1\n",
    "s=[]\n",
    "for i in range(1,len(S)):\n",
    "    if pre!=S[i]:\n",
    "        s.append((pre,cnt))\n",
    "        pre=S[i]\n",
    "        cnt=1\n",
    "    else:\n",
    "        cnt+=1\n",
    "s.append((pre,cnt))\n",
    "\n",
    "pre=T[0]\n",
    "cnt=1\n",
    "t=[]\n",
    "for i in range(1,len(T)):\n",
    "    if pre!=T[i]:\n",
    "        t.append((pre,cnt))\n",
    "        pre=T[i]\n",
    "        cnt=1\n",
    "    else:\n",
    "        cnt+=1\n",
    "t.append((pre,cnt))\n",
    "        \n",
    "flag=1\n",
    "if len(s)!=len(t):\n",
    "    flag=0\n",
    "else:\n",
    "    for i in range(len(s)):\n",
    "        if s[i][0]!=t[i][0]:\n",
    "            flag=0\n",
    "            break\n",
    "        if s[i][1]>t[i][1]:\n",
    "            flag=0\n",
    "            break\n",
    "        if s[i][1]==1 and t[i][1]>1:\n",
    "            flag=0\n",
    "            break\n",
    "if flag:\n",
    "    print(\"Yes\")\n",
    "else:\n",
    "    print(\"No\")"
   ]
  },
  {
   "cell_type": "code",
   "execution_count": 107,
   "id": "04da142c-fe2e-4294-8f15-9094c2e44d5e",
   "metadata": {},
   "outputs": [
    {
     "data": {
      "text/plain": [
       "('e', 1)"
      ]
     },
     "execution_count": 107,
     "metadata": {},
     "output_type": "execute_result"
    }
   ],
   "source": [
    "s[-1]"
   ]
  },
  {
   "cell_type": "code",
   "execution_count": 101,
   "id": "0fa2abd5-6421-4856-9cdd-6c0e490f8fb9",
   "metadata": {},
   "outputs": [
    {
     "data": {
      "text/plain": [
       "('e', 1)"
      ]
     },
     "execution_count": 101,
     "metadata": {},
     "output_type": "execute_result"
    }
   ],
   "source": [
    "t[-1]"
   ]
  },
  {
   "cell_type": "code",
   "execution_count": 104,
   "id": "6a93e9f6-3d5d-48e8-8b5f-2ee33f856609",
   "metadata": {},
   "outputs": [
    {
     "data": {
      "text/plain": [
       "200000"
      ]
     },
     "execution_count": 104,
     "metadata": {},
     "output_type": "execute_result"
    }
   ],
   "source": [
    "len(S)"
   ]
  },
  {
   "cell_type": "code",
   "execution_count": 105,
   "id": "df5f457d-c87d-402c-b1b4-ed4284bd847f",
   "metadata": {},
   "outputs": [
    {
     "data": {
      "text/plain": [
       "200000"
      ]
     },
     "execution_count": 105,
     "metadata": {},
     "output_type": "execute_result"
    }
   ],
   "source": [
    "len(T)"
   ]
  },
  {
   "cell_type": "code",
   "execution_count": 108,
   "id": "db32fbd3-752d-4a60-9584-a6d5759d4553",
   "metadata": {},
   "outputs": [
    {
     "data": {
      "text/plain": [
       "True"
      ]
     },
     "execution_count": 108,
     "metadata": {},
     "output_type": "execute_result"
    }
   ],
   "source": [
    "s==t"
   ]
  },
  {
   "cell_type": "code",
   "execution_count": null,
   "id": "161e646a-b16e-42ac-8f07-c90a03868468",
   "metadata": {},
   "outputs": [],
   "source": []
  }
 ],
 "metadata": {
  "kernelspec": {
   "display_name": "Python 3 (ipykernel)",
   "language": "python",
   "name": "python3"
  },
  "language_info": {
   "codemirror_mode": {
    "name": "ipython",
    "version": 3
   },
   "file_extension": ".py",
   "mimetype": "text/x-python",
   "name": "python",
   "nbconvert_exporter": "python",
   "pygments_lexer": "ipython3",
   "version": "3.9.12"
  }
 },
 "nbformat": 4,
 "nbformat_minor": 5
}
